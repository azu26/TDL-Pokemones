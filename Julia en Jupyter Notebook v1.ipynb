{
 "cells": [
  {
   "cell_type": "markdown",
   "id": "80067d80",
   "metadata": {},
   "source": [
    "# Este notebook está hecho para probar Julia en Jupyter Notebook\n",
    "\n",
    "Si con Ctrl + Enter se logra ver el \"Hello World\" todo anda bien. Trabajar en otro notebook con el dataset por favor."
   ]
  },
  {
   "cell_type": "code",
   "execution_count": 1,
   "id": "c9a16156",
   "metadata": {},
   "outputs": [
    {
     "name": "stdout",
     "output_type": "stream",
     "text": [
      "Hello World\n"
     ]
    }
   ],
   "source": [
    "println(\"Hello World\")\n"
   ]
  }
 ],
 "metadata": {
  "kernelspec": {
   "display_name": "Julia 1.8.2",
   "language": "julia",
   "name": "julia-1.8"
  },
  "language_info": {
   "file_extension": ".jl",
   "mimetype": "application/julia",
   "name": "julia",
   "version": "1.8.2"
  }
 },
 "nbformat": 4,
 "nbformat_minor": 5
}
