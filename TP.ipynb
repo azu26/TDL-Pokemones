{
 "cells": [
  {
   "cell_type": "markdown",
   "metadata": {},
   "source": [
    "### La idea es que empecemos en este File a procesar la data"
   ]
  },
  {
   "cell_type": "code",
   "execution_count": 1,
   "metadata": {},
   "outputs": [],
   "source": [
    "using CSV\n",
    "using DataFrames\n",
    "using StatsBase"
   ]
  },
  {
   "cell_type": "code",
   "execution_count": 2,
   "metadata": {},
   "outputs": [],
   "source": [
    "using Plots\n",
    "using ImageView\n",
    "using FileIO"
   ]
  },
  {
   "cell_type": "code",
   "execution_count": 10,
   "metadata": {},
   "outputs": [],
   "source": [
    "using Flux, Statistics\n",
    "using Flux: onehotbatch, onecold, crossentropy, throttle\n",
    "using Base.Iterators: repeated, partition\n",
    "using Printf, BSON\n",
    "using ColorVectorSpace"
   ]
  },
  {
   "cell_type": "code",
   "execution_count": 4,
   "metadata": {},
   "outputs": [
    {
     "data": {
      "text/html": [
       "<div><div style = \"float: left;\"><span>220025×2 DataFrame</span></div><div style = \"float: right;\"><span style = \"font-style: italic;\">220000 rows omitted</span></div><div style = \"clear: both;\"></div></div><div class = \"data-frame\" style = \"overflow-x: scroll;\"><table class = \"data-frame\" style = \"margin-bottom: 6px;\"><thead><tr class = \"header\"><th class = \"rowNumber\" style = \"font-weight: bold; text-align: right;\">Row</th><th style = \"text-align: left;\">id</th><th style = \"text-align: left;\">label</th></tr><tr class = \"subheader headerLastRow\"><th class = \"rowNumber\" style = \"font-weight: bold; text-align: right;\"></th><th title = \"String\" style = \"text-align: left;\">String</th><th title = \"Int64\" style = \"text-align: left;\">Int64</th></tr></thead><tbody><tr><td class = \"rowNumber\" style = \"font-weight: bold; text-align: right;\">1</td><td style = \"text-align: left;\">f38a6374c348f90b587e046aac6079959adf3835</td><td style = \"text-align: right;\">0</td></tr><tr><td class = \"rowNumber\" style = \"font-weight: bold; text-align: right;\">2</td><td style = \"text-align: left;\">c18f2d887b7ae4f6742ee445113fa1aef383ed77</td><td style = \"text-align: right;\">1</td></tr><tr><td class = \"rowNumber\" style = \"font-weight: bold; text-align: right;\">3</td><td style = \"text-align: left;\">755db6279dae599ebb4d39a9123cce439965282d</td><td style = \"text-align: right;\">0</td></tr><tr><td class = \"rowNumber\" style = \"font-weight: bold; text-align: right;\">4</td><td style = \"text-align: left;\">bc3f0c64fb968ff4a8bd33af6971ecae77c75e08</td><td style = \"text-align: right;\">0</td></tr><tr><td class = \"rowNumber\" style = \"font-weight: bold; text-align: right;\">5</td><td style = \"text-align: left;\">068aba587a4950175d04c680d38943fd488d6a9d</td><td style = \"text-align: right;\">0</td></tr><tr><td class = \"rowNumber\" style = \"font-weight: bold; text-align: right;\">6</td><td style = \"text-align: left;\">acfe80838488fae3c89bd21ade75be5c34e66be7</td><td style = \"text-align: right;\">0</td></tr><tr><td class = \"rowNumber\" style = \"font-weight: bold; text-align: right;\">7</td><td style = \"text-align: left;\">a24ce148f6ffa7ef8eefb4efb12ebffe8dd700da</td><td style = \"text-align: right;\">1</td></tr><tr><td class = \"rowNumber\" style = \"font-weight: bold; text-align: right;\">8</td><td style = \"text-align: left;\">7f6ccae485af121e0b6ee733022e226ee6b0c65f</td><td style = \"text-align: right;\">1</td></tr><tr><td class = \"rowNumber\" style = \"font-weight: bold; text-align: right;\">9</td><td style = \"text-align: left;\">559e55a64c9ba828f700e948f6886f4cea919261</td><td style = \"text-align: right;\">0</td></tr><tr><td class = \"rowNumber\" style = \"font-weight: bold; text-align: right;\">10</td><td style = \"text-align: left;\">8eaaa7a400aa79d36c2440a4aa101cc14256cda4</td><td style = \"text-align: right;\">0</td></tr><tr><td class = \"rowNumber\" style = \"font-weight: bold; text-align: right;\">11</td><td style = \"text-align: left;\">a106469bbfda4cdc5a9da7ac0152927bf1b4a92d</td><td style = \"text-align: right;\">0</td></tr><tr><td class = \"rowNumber\" style = \"font-weight: bold; text-align: right;\">12</td><td style = \"text-align: left;\">c3d660212bf2a11c994e0eadff13770a9927b731</td><td style = \"text-align: right;\">1</td></tr><tr><td class = \"rowNumber\" style = \"font-weight: bold; text-align: right;\">13</td><td style = \"text-align: left;\">a1991e73a9b676faddd2bd47c39754b14d1eb923</td><td style = \"text-align: right;\">0</td></tr><tr><td style = \"text-align: right;\">&vellip;</td><td style = \"text-align: right;\">&vellip;</td><td style = \"text-align: right;\">&vellip;</td></tr><tr><td class = \"rowNumber\" style = \"font-weight: bold; text-align: right;\">220014</td><td style = \"text-align: left;\">1092801a1d1d7cc8e45b1d909c553ea400615d68</td><td style = \"text-align: right;\">0</td></tr><tr><td class = \"rowNumber\" style = \"font-weight: bold; text-align: right;\">220015</td><td style = \"text-align: left;\">309210db7f424edbc22b2d13bf2fa27518b18f5c</td><td style = \"text-align: right;\">1</td></tr><tr><td class = \"rowNumber\" style = \"font-weight: bold; text-align: right;\">220016</td><td style = \"text-align: left;\">9c0ad1bf43e2fa5e25fac5c8af616c5ae194c187</td><td style = \"text-align: right;\">0</td></tr><tr><td class = \"rowNumber\" style = \"font-weight: bold; text-align: right;\">220017</td><td style = \"text-align: left;\">4236e88fb08d16316395f0e71a0a44c4a6fdf794</td><td style = \"text-align: right;\">0</td></tr><tr><td class = \"rowNumber\" style = \"font-weight: bold; text-align: right;\">220018</td><td style = \"text-align: left;\">025427fc9743354111cbbc60cab9be094465602b</td><td style = \"text-align: right;\">0</td></tr><tr><td class = \"rowNumber\" style = \"font-weight: bold; text-align: right;\">220019</td><td style = \"text-align: left;\">cdf7171a796090072ce521012497c78c9a56cad3</td><td style = \"text-align: right;\">0</td></tr><tr><td class = \"rowNumber\" style = \"font-weight: bold; text-align: right;\">220020</td><td style = \"text-align: left;\">1fdacc29221a64e39d5d294d114c9e29da8705ae</td><td style = \"text-align: right;\">0</td></tr><tr><td class = \"rowNumber\" style = \"font-weight: bold; text-align: right;\">220021</td><td style = \"text-align: left;\">53e9aa9d46e720bf3c6a7528d1fca3ba6e2e49f6</td><td style = \"text-align: right;\">0</td></tr><tr><td class = \"rowNumber\" style = \"font-weight: bold; text-align: right;\">220022</td><td style = \"text-align: left;\">d4b854fe38b07fe2831ad73892b3cec877689576</td><td style = \"text-align: right;\">1</td></tr><tr><td class = \"rowNumber\" style = \"font-weight: bold; text-align: right;\">220023</td><td style = \"text-align: left;\">3d046cead1a2a5cbe00b2b4847cfb7ba7cf5fe75</td><td style = \"text-align: right;\">0</td></tr><tr><td class = \"rowNumber\" style = \"font-weight: bold; text-align: right;\">220024</td><td style = \"text-align: left;\">f129691c13433f66e1e0671ff1fe80944816f5a2</td><td style = \"text-align: right;\">0</td></tr><tr><td class = \"rowNumber\" style = \"font-weight: bold; text-align: right;\">220025</td><td style = \"text-align: left;\">a81f84895ddcd522302ddf34be02eb1b3e5af1cb</td><td style = \"text-align: right;\">1</td></tr></tbody></table></div>"
      ],
      "text/latex": [
       "\\begin{tabular}{r|cc}\n",
       "\t& id & label\\\\\n",
       "\t\\hline\n",
       "\t& String & Int64\\\\\n",
       "\t\\hline\n",
       "\t1 & f38a6374c348f90b587e046aac6079959adf3835 & 0 \\\\\n",
       "\t2 & c18f2d887b7ae4f6742ee445113fa1aef383ed77 & 1 \\\\\n",
       "\t3 & 755db6279dae599ebb4d39a9123cce439965282d & 0 \\\\\n",
       "\t4 & bc3f0c64fb968ff4a8bd33af6971ecae77c75e08 & 0 \\\\\n",
       "\t5 & 068aba587a4950175d04c680d38943fd488d6a9d & 0 \\\\\n",
       "\t6 & acfe80838488fae3c89bd21ade75be5c34e66be7 & 0 \\\\\n",
       "\t7 & a24ce148f6ffa7ef8eefb4efb12ebffe8dd700da & 1 \\\\\n",
       "\t8 & 7f6ccae485af121e0b6ee733022e226ee6b0c65f & 1 \\\\\n",
       "\t9 & 559e55a64c9ba828f700e948f6886f4cea919261 & 0 \\\\\n",
       "\t10 & 8eaaa7a400aa79d36c2440a4aa101cc14256cda4 & 0 \\\\\n",
       "\t11 & a106469bbfda4cdc5a9da7ac0152927bf1b4a92d & 0 \\\\\n",
       "\t12 & c3d660212bf2a11c994e0eadff13770a9927b731 & 1 \\\\\n",
       "\t13 & a1991e73a9b676faddd2bd47c39754b14d1eb923 & 0 \\\\\n",
       "\t14 & 08566ce82d4406f464c9c2a3cd014704735db7a9 & 0 \\\\\n",
       "\t15 & 94fa32b29cc1c00403176c0795fffa3cfaa0f20e & 1 \\\\\n",
       "\t16 & f416de7491a31951f79b3cee75b002f4d1bf0162 & 0 \\\\\n",
       "\t17 & a1c001f6b242c72d3066f15ac6eb059ea72d30ba & 0 \\\\\n",
       "\t18 & 0b820b71670c039dd0a51333d1c919f471a9e940 & 1 \\\\\n",
       "\t19 & 730431efa2f79927156dcc4382819e9a6cc2c5bb & 0 \\\\\n",
       "\t20 & d34af1e7500f2f3de41b0e6fdeb2ed245d814590 & 1 \\\\\n",
       "\t21 & 4b7a73f1fe1dafe2ffb7d2c0b83107f060b8d693 & 0 \\\\\n",
       "\t22 & 5fc468030b7fdb5a0b656a45fa0dde5553dd9064 & 0 \\\\\n",
       "\t23 & 4e1e69b64cdeb757178fc5b657b4e5ea07e53935 & 0 \\\\\n",
       "\t24 & 464327050ef07bb927f8bfb5c4e4dd5ebd4d3c09 & 1 \\\\\n",
       "\t25 & 6961bdcc16f6c1d7db88fc6a7823178288c2a29e & 1 \\\\\n",
       "\t26 & 8e294a0fe82d36c9ae921ef2cc76ed0d0691b90f & 0 \\\\\n",
       "\t27 & 4e491f0beca3cc68b5013cbe726a9b358bf0f668 & 0 \\\\\n",
       "\t28 & ee04141918b4acc1477dd4fd280c64f52a33fcb7 & 0 \\\\\n",
       "\t29 & 233bf46a575c1731821073e318c029e5df8b12ff & 1 \\\\\n",
       "\t30 & e6e31b49681a06c68aca9b64c42a4f002189a081 & 1 \\\\\n",
       "\t$\\dots$ & $\\dots$ & $\\dots$ \\\\\n",
       "\\end{tabular}\n"
      ],
      "text/plain": [
       "\u001b[1m220025×2 DataFrame\u001b[0m\n",
       "\u001b[1m    Row \u001b[0m│\u001b[1m id                                \u001b[0m\u001b[1m label \u001b[0m\n",
       "        │\u001b[90m String                            \u001b[0m\u001b[90m Int64 \u001b[0m\n",
       "────────┼──────────────────────────────────────────\n",
       "      1 │ f38a6374c348f90b587e046aac607995…      0\n",
       "      2 │ c18f2d887b7ae4f6742ee445113fa1ae…      1\n",
       "      3 │ 755db6279dae599ebb4d39a9123cce43…      0\n",
       "      4 │ bc3f0c64fb968ff4a8bd33af6971ecae…      0\n",
       "      5 │ 068aba587a4950175d04c680d38943fd…      0\n",
       "      6 │ acfe80838488fae3c89bd21ade75be5c…      0\n",
       "      7 │ a24ce148f6ffa7ef8eefb4efb12ebffe…      1\n",
       "      8 │ 7f6ccae485af121e0b6ee733022e226e…      1\n",
       "      9 │ 559e55a64c9ba828f700e948f6886f4c…      0\n",
       "     10 │ 8eaaa7a400aa79d36c2440a4aa101cc1…      0\n",
       "     11 │ a106469bbfda4cdc5a9da7ac0152927b…      0\n",
       "   ⋮    │                 ⋮                    ⋮\n",
       " 220016 │ 9c0ad1bf43e2fa5e25fac5c8af616c5a…      0\n",
       " 220017 │ 4236e88fb08d16316395f0e71a0a44c4…      0\n",
       " 220018 │ 025427fc9743354111cbbc60cab9be09…      0\n",
       " 220019 │ cdf7171a796090072ce521012497c78c…      0\n",
       " 220020 │ 1fdacc29221a64e39d5d294d114c9e29…      0\n",
       " 220021 │ 53e9aa9d46e720bf3c6a7528d1fca3ba…      0\n",
       " 220022 │ d4b854fe38b07fe2831ad73892b3cec8…      1\n",
       " 220023 │ 3d046cead1a2a5cbe00b2b4847cfb7ba…      0\n",
       " 220024 │ f129691c13433f66e1e0671ff1fe8094…      0\n",
       " 220025 │ a81f84895ddcd522302ddf34be02eb1b…      1\n",
       "\u001b[36m                                220004 rows omitted\u001b[0m"
      ]
     },
     "execution_count": 4,
     "metadata": {},
     "output_type": "execute_result"
    }
   ],
   "source": [
    "#Se crea un dataframe en donde la primer columna es el id de la imagen y la segunda el label de si la imagen posee cancer o no\n",
    "# label: 0 no tiene, 1 tiene\n",
    "df = DataFrame(CSV.File(\"./train_labels.csv\"))"
   ]
  },
  {
   "cell_type": "code",
   "execution_count": 5,
   "metadata": {},
   "outputs": [
    {
     "data": {
      "text/plain": [
       "value_counts (generic function with 1 method)"
      ]
     },
     "execution_count": 5,
     "metadata": {},
     "output_type": "execute_result"
    }
   ],
   "source": [
    "value_counts(df, col) = combine(groupby(df, col), nrow)"
   ]
  },
  {
   "cell_type": "code",
   "execution_count": 6,
   "metadata": {},
   "outputs": [
    {
     "data": {
      "text/html": [
       "<div><div style = \"float: left;\"><span>2×2 DataFrame</span></div><div style = \"clear: both;\"></div></div><div class = \"data-frame\" style = \"overflow-x: scroll;\"><table class = \"data-frame\" style = \"margin-bottom: 6px;\"><thead><tr class = \"header\"><th class = \"rowNumber\" style = \"font-weight: bold; text-align: right;\">Row</th><th style = \"text-align: left;\">label</th><th style = \"text-align: left;\">nrow</th></tr><tr class = \"subheader headerLastRow\"><th class = \"rowNumber\" style = \"font-weight: bold; text-align: right;\"></th><th title = \"Int64\" style = \"text-align: left;\">Int64</th><th title = \"Int64\" style = \"text-align: left;\">Int64</th></tr></thead><tbody><tr><td class = \"rowNumber\" style = \"font-weight: bold; text-align: right;\">1</td><td style = \"text-align: right;\">0</td><td style = \"text-align: right;\">130908</td></tr><tr><td class = \"rowNumber\" style = \"font-weight: bold; text-align: right;\">2</td><td style = \"text-align: right;\">1</td><td style = \"text-align: right;\">89117</td></tr></tbody></table></div>"
      ],
      "text/latex": [
       "\\begin{tabular}{r|cc}\n",
       "\t& label & nrow\\\\\n",
       "\t\\hline\n",
       "\t& Int64 & Int64\\\\\n",
       "\t\\hline\n",
       "\t1 & 0 & 130908 \\\\\n",
       "\t2 & 1 & 89117 \\\\\n",
       "\\end{tabular}\n"
      ],
      "text/plain": [
       "\u001b[1m2×2 DataFrame\u001b[0m\n",
       "\u001b[1m Row \u001b[0m│\u001b[1m label \u001b[0m\u001b[1m nrow   \u001b[0m\n",
       "     │\u001b[90m Int64 \u001b[0m\u001b[90m Int64  \u001b[0m\n",
       "─────┼───────────────\n",
       "   1 │     0  130908\n",
       "   2 │     1   89117"
      ]
     },
     "execution_count": 6,
     "metadata": {},
     "output_type": "execute_result"
    }
   ],
   "source": [
    "value_counts(df, \"label\")"
   ]
  },
  {
   "cell_type": "code",
   "execution_count": 7,
   "metadata": {},
   "outputs": [
    {
     "data": {
      "text/html": [
       "<div><div style = \"float: left;\"><span>1000×2 DataFrame</span></div><div style = \"float: right;\"><span style = \"font-style: italic;\">975 rows omitted</span></div><div style = \"clear: both;\"></div></div><div class = \"data-frame\" style = \"overflow-x: scroll;\"><table class = \"data-frame\" style = \"margin-bottom: 6px;\"><thead><tr class = \"header\"><th class = \"rowNumber\" style = \"font-weight: bold; text-align: right;\">Row</th><th style = \"text-align: left;\">id</th><th style = \"text-align: left;\">label</th></tr><tr class = \"subheader headerLastRow\"><th class = \"rowNumber\" style = \"font-weight: bold; text-align: right;\"></th><th title = \"String\" style = \"text-align: left;\">String</th><th title = \"Int64\" style = \"text-align: left;\">Int64</th></tr></thead><tbody><tr><td class = \"rowNumber\" style = \"font-weight: bold; text-align: right;\">1</td><td style = \"text-align: left;\">0655891cc0f8cff190a182c0511ce12f5d9e0145</td><td style = \"text-align: right;\">1</td></tr><tr><td class = \"rowNumber\" style = \"font-weight: bold; text-align: right;\">2</td><td style = \"text-align: left;\">50bd266a907e0a5c648e959277745ddde0b88993</td><td style = \"text-align: right;\">0</td></tr><tr><td class = \"rowNumber\" style = \"font-weight: bold; text-align: right;\">3</td><td style = \"text-align: left;\">f1be09086e94f056d0089dc0f9e812cf65dcbed7</td><td style = \"text-align: right;\">0</td></tr><tr><td class = \"rowNumber\" style = \"font-weight: bold; text-align: right;\">4</td><td style = \"text-align: left;\">e91d656c816edc5c1931c61699c87552e0914adc</td><td style = \"text-align: right;\">0</td></tr><tr><td class = \"rowNumber\" style = \"font-weight: bold; text-align: right;\">5</td><td style = \"text-align: left;\">08053e213515a9fffd813ba52e79caefd816f8a3</td><td style = \"text-align: right;\">1</td></tr><tr><td class = \"rowNumber\" style = \"font-weight: bold; text-align: right;\">6</td><td style = \"text-align: left;\">325844041d0e9f2a7cde0b2a2c05128175a240ff</td><td style = \"text-align: right;\">0</td></tr><tr><td class = \"rowNumber\" style = \"font-weight: bold; text-align: right;\">7</td><td style = \"text-align: left;\">a3ae00594011f19aeec86c41d739c0f000981cb6</td><td style = \"text-align: right;\">0</td></tr><tr><td class = \"rowNumber\" style = \"font-weight: bold; text-align: right;\">8</td><td style = \"text-align: left;\">4984042a48026f8facf3b58fdb33ea5f6b562526</td><td style = \"text-align: right;\">0</td></tr><tr><td class = \"rowNumber\" style = \"font-weight: bold; text-align: right;\">9</td><td style = \"text-align: left;\">21688ea4804321d49a7a24cd34567e0c67e1b31f</td><td style = \"text-align: right;\">1</td></tr><tr><td class = \"rowNumber\" style = \"font-weight: bold; text-align: right;\">10</td><td style = \"text-align: left;\">097b7d880b8e08bb52446ecc226f1704b5745e61</td><td style = \"text-align: right;\">0</td></tr><tr><td class = \"rowNumber\" style = \"font-weight: bold; text-align: right;\">11</td><td style = \"text-align: left;\">6a72d1f51924d19ecf8e29a6fa09acfaba064525</td><td style = \"text-align: right;\">0</td></tr><tr><td class = \"rowNumber\" style = \"font-weight: bold; text-align: right;\">12</td><td style = \"text-align: left;\">d7be202747ae8700936083591d58d4f9e551aadf</td><td style = \"text-align: right;\">1</td></tr><tr><td class = \"rowNumber\" style = \"font-weight: bold; text-align: right;\">13</td><td style = \"text-align: left;\">16c56addf9e220e2974d7059ebc97f38da548761</td><td style = \"text-align: right;\">0</td></tr><tr><td style = \"text-align: right;\">&vellip;</td><td style = \"text-align: right;\">&vellip;</td><td style = \"text-align: right;\">&vellip;</td></tr><tr><td class = \"rowNumber\" style = \"font-weight: bold; text-align: right;\">989</td><td style = \"text-align: left;\">23a853ad45352e51f8e7f654a3f41045390eef84</td><td style = \"text-align: right;\">0</td></tr><tr><td class = \"rowNumber\" style = \"font-weight: bold; text-align: right;\">990</td><td style = \"text-align: left;\">015bdde729841fca9870c138deedca1fa587694d</td><td style = \"text-align: right;\">1</td></tr><tr><td class = \"rowNumber\" style = \"font-weight: bold; text-align: right;\">991</td><td style = \"text-align: left;\">8ab19d094aa5cfd9d3a791456f21b78739357239</td><td style = \"text-align: right;\">1</td></tr><tr><td class = \"rowNumber\" style = \"font-weight: bold; text-align: right;\">992</td><td style = \"text-align: left;\">2f7862982e01caffd7a47a6cef241968be766747</td><td style = \"text-align: right;\">0</td></tr><tr><td class = \"rowNumber\" style = \"font-weight: bold; text-align: right;\">993</td><td style = \"text-align: left;\">9b713aa08699e40ca436abcfc11c385c35d763f7</td><td style = \"text-align: right;\">0</td></tr><tr><td class = \"rowNumber\" style = \"font-weight: bold; text-align: right;\">994</td><td style = \"text-align: left;\">90cab9104fa89c2dc8f982fb7735b81a076c2c9b</td><td style = \"text-align: right;\">0</td></tr><tr><td class = \"rowNumber\" style = \"font-weight: bold; text-align: right;\">995</td><td style = \"text-align: left;\">4fcc849e71def8144263abded575e73710877adb</td><td style = \"text-align: right;\">0</td></tr><tr><td class = \"rowNumber\" style = \"font-weight: bold; text-align: right;\">996</td><td style = \"text-align: left;\">6c7565bfc2cec4f16bb5394ab7cd4663e5a2ef12</td><td style = \"text-align: right;\">0</td></tr><tr><td class = \"rowNumber\" style = \"font-weight: bold; text-align: right;\">997</td><td style = \"text-align: left;\">7e9798b9c82b0120fa5b5920e5ee2b6141383315</td><td style = \"text-align: right;\">0</td></tr><tr><td class = \"rowNumber\" style = \"font-weight: bold; text-align: right;\">998</td><td style = \"text-align: left;\">d4ba1b179fea3771a4ddf2be024f92425379e5f4</td><td style = \"text-align: right;\">1</td></tr><tr><td class = \"rowNumber\" style = \"font-weight: bold; text-align: right;\">999</td><td style = \"text-align: left;\">4bebf95f3d7ec4227178397df8e2aad3faa5f955</td><td style = \"text-align: right;\">1</td></tr><tr><td class = \"rowNumber\" style = \"font-weight: bold; text-align: right;\">1000</td><td style = \"text-align: left;\">560cf9f4e75b89072fcdc7f84ffcd896276a291a</td><td style = \"text-align: right;\">1</td></tr></tbody></table></div>"
      ],
      "text/latex": [
       "\\begin{tabular}{r|cc}\n",
       "\t& id & label\\\\\n",
       "\t\\hline\n",
       "\t& String & Int64\\\\\n",
       "\t\\hline\n",
       "\t1 & 0655891cc0f8cff190a182c0511ce12f5d9e0145 & 1 \\\\\n",
       "\t2 & 50bd266a907e0a5c648e959277745ddde0b88993 & 0 \\\\\n",
       "\t3 & f1be09086e94f056d0089dc0f9e812cf65dcbed7 & 0 \\\\\n",
       "\t4 & e91d656c816edc5c1931c61699c87552e0914adc & 0 \\\\\n",
       "\t5 & 08053e213515a9fffd813ba52e79caefd816f8a3 & 1 \\\\\n",
       "\t6 & 325844041d0e9f2a7cde0b2a2c05128175a240ff & 0 \\\\\n",
       "\t7 & a3ae00594011f19aeec86c41d739c0f000981cb6 & 0 \\\\\n",
       "\t8 & 4984042a48026f8facf3b58fdb33ea5f6b562526 & 0 \\\\\n",
       "\t9 & 21688ea4804321d49a7a24cd34567e0c67e1b31f & 1 \\\\\n",
       "\t10 & 097b7d880b8e08bb52446ecc226f1704b5745e61 & 0 \\\\\n",
       "\t11 & 6a72d1f51924d19ecf8e29a6fa09acfaba064525 & 0 \\\\\n",
       "\t12 & d7be202747ae8700936083591d58d4f9e551aadf & 1 \\\\\n",
       "\t13 & 16c56addf9e220e2974d7059ebc97f38da548761 & 0 \\\\\n",
       "\t14 & 25169fed201f81954e1e3eb2c575f3d8e48d1f41 & 1 \\\\\n",
       "\t15 & b1e81489f233b7c2f28e0e6373ea7240d4db6d9a & 0 \\\\\n",
       "\t16 & 14af64d1162ad952044fb00e5ff51b697e4d007b & 0 \\\\\n",
       "\t17 & b4b3a7317b7814d0abffd5f695a1d70ec09f3fb8 & 1 \\\\\n",
       "\t18 & f8b429b45a3749b467efb7f00c0b2533e8efdf93 & 1 \\\\\n",
       "\t19 & f9b18029b15496528f6789c72e3d80d361ae16e7 & 1 \\\\\n",
       "\t20 & 12e3d2b3f60cc1179f66a3dc9c42d030f44af1bd & 0 \\\\\n",
       "\t21 & 125ede601526cea7833898e86d2f8fb562657a1c & 1 \\\\\n",
       "\t22 & 81d1c7a84b5a537de928de3d9465d57bb373309d & 0 \\\\\n",
       "\t23 & 399e78d2e13fd2040b99898854d168cc386a99fd & 0 \\\\\n",
       "\t24 & eee02991543fe16057dcc3aa8f23cd100c586448 & 1 \\\\\n",
       "\t25 & 05c7864be959d93e42a490b65318f5330ae00a11 & 1 \\\\\n",
       "\t26 & d555c23aad2513c5b9a1c43e4b524954a958e868 & 0 \\\\\n",
       "\t27 & adb853f5e7c17cdb56181c2986c8656250464620 & 1 \\\\\n",
       "\t28 & e7d39a1c0af923931f86944f0e2e22c39c814ab2 & 1 \\\\\n",
       "\t29 & f5aed547030591efed67ec032a6bf57927ff4947 & 0 \\\\\n",
       "\t30 & 77540a186e07df688bd575c8b3147e777a689b08 & 1 \\\\\n",
       "\t$\\dots$ & $\\dots$ & $\\dots$ \\\\\n",
       "\\end{tabular}\n"
      ],
      "text/plain": [
       "\u001b[1m1000×2 DataFrame\u001b[0m\n",
       "\u001b[1m  Row \u001b[0m│\u001b[1m id                                \u001b[0m\u001b[1m label \u001b[0m\n",
       "      │\u001b[90m String                            \u001b[0m\u001b[90m Int64 \u001b[0m\n",
       "──────┼──────────────────────────────────────────\n",
       "    1 │ 0655891cc0f8cff190a182c0511ce12f…      1\n",
       "    2 │ 50bd266a907e0a5c648e959277745ddd…      0\n",
       "    3 │ f1be09086e94f056d0089dc0f9e812cf…      0\n",
       "    4 │ e91d656c816edc5c1931c61699c87552…      0\n",
       "    5 │ 08053e213515a9fffd813ba52e79caef…      1\n",
       "    6 │ 325844041d0e9f2a7cde0b2a2c051281…      0\n",
       "    7 │ a3ae00594011f19aeec86c41d739c0f0…      0\n",
       "    8 │ 4984042a48026f8facf3b58fdb33ea5f…      0\n",
       "    9 │ 21688ea4804321d49a7a24cd34567e0c…      1\n",
       "   10 │ 097b7d880b8e08bb52446ecc226f1704…      0\n",
       "   11 │ 6a72d1f51924d19ecf8e29a6fa09acfa…      0\n",
       "  ⋮   │                 ⋮                    ⋮\n",
       "  991 │ 8ab19d094aa5cfd9d3a791456f21b787…      1\n",
       "  992 │ 2f7862982e01caffd7a47a6cef241968…      0\n",
       "  993 │ 9b713aa08699e40ca436abcfc11c385c…      0\n",
       "  994 │ 90cab9104fa89c2dc8f982fb7735b81a…      0\n",
       "  995 │ 4fcc849e71def8144263abded575e737…      0\n",
       "  996 │ 6c7565bfc2cec4f16bb5394ab7cd4663…      0\n",
       "  997 │ 7e9798b9c82b0120fa5b5920e5ee2b61…      0\n",
       "  998 │ d4ba1b179fea3771a4ddf2be024f9242…      1\n",
       "  999 │ 4bebf95f3d7ec4227178397df8e2aad3…      1\n",
       " 1000 │ 560cf9f4e75b89072fcdc7f84ffcd896…      1\n",
       "\u001b[36m                                 979 rows omitted\u001b[0m"
      ]
     },
     "execution_count": 7,
     "metadata": {},
     "output_type": "execute_result"
    }
   ],
   "source": [
    "#Nos quedamos con 1000 filas para que el procesamiento sea mas rápido, de manera aleatoria\n",
    "df = df[sample(axes(df, 1), 1000; replace = false, ordered = true), :]"
   ]
  },
  {
   "cell_type": "code",
   "execution_count": 8,
   "metadata": {},
   "outputs": [
    {
     "data": {
      "text/html": [
       "<div><div style = \"float: left;\"><span>5×2 DataFrame</span></div><div style = \"clear: both;\"></div></div><div class = \"data-frame\" style = \"overflow-x: scroll;\"><table class = \"data-frame\" style = \"margin-bottom: 6px;\"><thead><tr class = \"header\"><th class = \"rowNumber\" style = \"font-weight: bold; text-align: right;\">Row</th><th style = \"text-align: left;\">id</th><th style = \"text-align: left;\">label</th></tr><tr class = \"subheader headerLastRow\"><th class = \"rowNumber\" style = \"font-weight: bold; text-align: right;\"></th><th title = \"String\" style = \"text-align: left;\">String</th><th title = \"Int64\" style = \"text-align: left;\">Int64</th></tr></thead><tbody><tr><td class = \"rowNumber\" style = \"font-weight: bold; text-align: right;\">1</td><td style = \"text-align: left;\">f9b18029b15496528f6789c72e3d80d361ae16e7</td><td style = \"text-align: right;\">1</td></tr><tr><td class = \"rowNumber\" style = \"font-weight: bold; text-align: right;\">2</td><td style = \"text-align: left;\">e0a3cf4aa5f586e7b6de495aa62766aab20b7c5b</td><td style = \"text-align: right;\">1</td></tr><tr><td class = \"rowNumber\" style = \"font-weight: bold; text-align: right;\">3</td><td style = \"text-align: left;\">4363bdd4352fdaf85eb234c3bbc1bb8aaa4516ea</td><td style = \"text-align: right;\">1</td></tr><tr><td class = \"rowNumber\" style = \"font-weight: bold; text-align: right;\">4</td><td style = \"text-align: left;\">bd2e7755d4479bb37da51e777553a3e2f4df712f</td><td style = \"text-align: right;\">1</td></tr><tr><td class = \"rowNumber\" style = \"font-weight: bold; text-align: right;\">5</td><td style = \"text-align: left;\">b846e148957c1ec8d0c33f5de684c93639695791</td><td style = \"text-align: right;\">1</td></tr></tbody></table></div>"
      ],
      "text/latex": [
       "\\begin{tabular}{r|cc}\n",
       "\t& id & label\\\\\n",
       "\t\\hline\n",
       "\t& String & Int64\\\\\n",
       "\t\\hline\n",
       "\t1 & f9b18029b15496528f6789c72e3d80d361ae16e7 & 1 \\\\\n",
       "\t2 & e0a3cf4aa5f586e7b6de495aa62766aab20b7c5b & 1 \\\\\n",
       "\t3 & 4363bdd4352fdaf85eb234c3bbc1bb8aaa4516ea & 1 \\\\\n",
       "\t4 & bd2e7755d4479bb37da51e777553a3e2f4df712f & 1 \\\\\n",
       "\t5 & b846e148957c1ec8d0c33f5de684c93639695791 & 1 \\\\\n",
       "\\end{tabular}\n"
      ],
      "text/plain": [
       "\u001b[1m5×2 DataFrame\u001b[0m\n",
       "\u001b[1m Row \u001b[0m│\u001b[1m id                                \u001b[0m\u001b[1m label \u001b[0m\n",
       "     │\u001b[90m String                            \u001b[0m\u001b[90m Int64 \u001b[0m\n",
       "─────┼──────────────────────────────────────────\n",
       "   1 │ f9b18029b15496528f6789c72e3d80d3…      1\n",
       "   2 │ e0a3cf4aa5f586e7b6de495aa62766aa…      1\n",
       "   3 │ 4363bdd4352fdaf85eb234c3bbc1bb8a…      1\n",
       "   4 │ bd2e7755d4479bb37da51e777553a3e2…      1\n",
       "   5 │ b846e148957c1ec8d0c33f5de684c936…      1"
      ]
     },
     "execution_count": 8,
     "metadata": {},
     "output_type": "execute_result"
    }
   ],
   "source": [
    "# Agarramos un sample de 5 imágenes con cancer positivo\n",
    "es_positivo(valor::Integer) = valor == 1\n",
    "positivos = filter(:label => es_positivo, df)\n",
    "positivos_sample = positivos[sample(axes(positivos, 1), 5; replace = false, ordered = true), :]"
   ]
  },
  {
   "cell_type": "code",
   "execution_count": 9,
   "metadata": {},
   "outputs": [
    {
     "data": {
      "text/html": [
       "<div><div style = \"float: left;\"><span>5×2 DataFrame</span></div><div style = \"clear: both;\"></div></div><div class = \"data-frame\" style = \"overflow-x: scroll;\"><table class = \"data-frame\" style = \"margin-bottom: 6px;\"><thead><tr class = \"header\"><th class = \"rowNumber\" style = \"font-weight: bold; text-align: right;\">Row</th><th style = \"text-align: left;\">id</th><th style = \"text-align: left;\">label</th></tr><tr class = \"subheader headerLastRow\"><th class = \"rowNumber\" style = \"font-weight: bold; text-align: right;\"></th><th title = \"String\" style = \"text-align: left;\">String</th><th title = \"Int64\" style = \"text-align: left;\">Int64</th></tr></thead><tbody><tr><td class = \"rowNumber\" style = \"font-weight: bold; text-align: right;\">1</td><td style = \"text-align: left;\">097b7d880b8e08bb52446ecc226f1704b5745e61</td><td style = \"text-align: right;\">0</td></tr><tr><td class = \"rowNumber\" style = \"font-weight: bold; text-align: right;\">2</td><td style = \"text-align: left;\">f63bb714b8b95b5937f5e45515366db6339ffbad</td><td style = \"text-align: right;\">0</td></tr><tr><td class = \"rowNumber\" style = \"font-weight: bold; text-align: right;\">3</td><td style = \"text-align: left;\">74e347058063c1c49064cf9f49745f25f2603000</td><td style = \"text-align: right;\">0</td></tr><tr><td class = \"rowNumber\" style = \"font-weight: bold; text-align: right;\">4</td><td style = \"text-align: left;\">60c975f9c794f75076804c15adcf88a3ec4e14c2</td><td style = \"text-align: right;\">0</td></tr><tr><td class = \"rowNumber\" style = \"font-weight: bold; text-align: right;\">5</td><td style = \"text-align: left;\">a0b25fea792c1b48996dc9019920cdabf2aa6ea8</td><td style = \"text-align: right;\">0</td></tr></tbody></table></div>"
      ],
      "text/latex": [
       "\\begin{tabular}{r|cc}\n",
       "\t& id & label\\\\\n",
       "\t\\hline\n",
       "\t& String & Int64\\\\\n",
       "\t\\hline\n",
       "\t1 & 097b7d880b8e08bb52446ecc226f1704b5745e61 & 0 \\\\\n",
       "\t2 & f63bb714b8b95b5937f5e45515366db6339ffbad & 0 \\\\\n",
       "\t3 & 74e347058063c1c49064cf9f49745f25f2603000 & 0 \\\\\n",
       "\t4 & 60c975f9c794f75076804c15adcf88a3ec4e14c2 & 0 \\\\\n",
       "\t5 & a0b25fea792c1b48996dc9019920cdabf2aa6ea8 & 0 \\\\\n",
       "\\end{tabular}\n"
      ],
      "text/plain": [
       "\u001b[1m5×2 DataFrame\u001b[0m\n",
       "\u001b[1m Row \u001b[0m│\u001b[1m id                                \u001b[0m\u001b[1m label \u001b[0m\n",
       "     │\u001b[90m String                            \u001b[0m\u001b[90m Int64 \u001b[0m\n",
       "─────┼──────────────────────────────────────────\n",
       "   1 │ 097b7d880b8e08bb52446ecc226f1704…      0\n",
       "   2 │ f63bb714b8b95b5937f5e45515366db6…      0\n",
       "   3 │ 74e347058063c1c49064cf9f49745f25…      0\n",
       "   4 │ 60c975f9c794f75076804c15adcf88a3…      0\n",
       "   5 │ a0b25fea792c1b48996dc9019920cdab…      0"
      ]
     },
     "execution_count": 9,
     "metadata": {},
     "output_type": "execute_result"
    }
   ],
   "source": [
    "# Agarramos un sample de 5 imágenes con cancer negativo\n",
    "es_negativo(valor::Integer) = valor == 0\n",
    "negativos = filter(:label => es_negativo, df)\n",
    "negativos_sample = negativos[sample(axes(negativos, 1), 5; replace = false, ordered = true), :]"
   ]
  },
  {
   "cell_type": "code",
   "execution_count": 11,
   "metadata": {},
   "outputs": [
    {
     "data": {
      "text/plain": [
       "1000-element Vector{String}:\n",
       " \"../input/histopathologic-cancer\" ⋯ 30 bytes ⋯ \"ff190a182c0511ce12f5d9e0145.tif\"\n",
       " \"../input/histopathologic-cancer\" ⋯ 30 bytes ⋯ \"a5c648e959277745ddde0b88993.tif\"\n",
       " \"../input/histopathologic-cancer\" ⋯ 30 bytes ⋯ \"056d0089dc0f9e812cf65dcbed7.tif\"\n",
       " \"../input/histopathologic-cancer\" ⋯ 30 bytes ⋯ \"c5c1931c61699c87552e0914adc.tif\"\n",
       " \"../input/histopathologic-cancer\" ⋯ 30 bytes ⋯ \"9fffd813ba52e79caefd816f8a3.tif\"\n",
       " \"../input/histopathologic-cancer\" ⋯ 30 bytes ⋯ \"f2a7cde0b2a2c05128175a240ff.tif\"\n",
       " \"../input/histopathologic-cancer\" ⋯ 30 bytes ⋯ \"19aeec86c41d739c0f000981cb6.tif\"\n",
       " \"../input/histopathologic-cancer\" ⋯ 30 bytes ⋯ \"f8facf3b58fdb33ea5f6b562526.tif\"\n",
       " \"../input/histopathologic-cancer\" ⋯ 30 bytes ⋯ \"1d49a7a24cd34567e0c67e1b31f.tif\"\n",
       " \"../input/histopathologic-cancer\" ⋯ 30 bytes ⋯ \"8bb52446ecc226f1704b5745e61.tif\"\n",
       " \"../input/histopathologic-cancer\" ⋯ 30 bytes ⋯ \"19ecf8e29a6fa09acfaba064525.tif\"\n",
       " \"../input/histopathologic-cancer\" ⋯ 30 bytes ⋯ \"700936083591d58d4f9e551aadf.tif\"\n",
       " \"../input/histopathologic-cancer\" ⋯ 30 bytes ⋯ \"0e2974d7059ebc97f38da548761.tif\"\n",
       " ⋮\n",
       " \"../input/histopathologic-cancer\" ⋯ 30 bytes ⋯ \"e51f8e7f654a3f41045390eef84.tif\"\n",
       " \"../input/histopathologic-cancer\" ⋯ 30 bytes ⋯ \"fca9870c138deedca1fa587694d.tif\"\n",
       " \"../input/histopathologic-cancer\" ⋯ 30 bytes ⋯ \"fd9d3a791456f21b78739357239.tif\"\n",
       " \"../input/histopathologic-cancer\" ⋯ 30 bytes ⋯ \"affd7a47a6cef241968be766747.tif\"\n",
       " \"../input/histopathologic-cancer\" ⋯ 30 bytes ⋯ \"40ca436abcfc11c385c35d763f7.tif\"\n",
       " \"../input/histopathologic-cancer\" ⋯ 30 bytes ⋯ \"c2dc8f982fb7735b81a076c2c9b.tif\"\n",
       " \"../input/histopathologic-cancer\" ⋯ 30 bytes ⋯ \"8144263abded575e73710877adb.tif\"\n",
       " \"../input/histopathologic-cancer\" ⋯ 30 bytes ⋯ \"4f16bb5394ab7cd4663e5a2ef12.tif\"\n",
       " \"../input/histopathologic-cancer\" ⋯ 30 bytes ⋯ \"120fa5b5920e5ee2b6141383315.tif\"\n",
       " \"../input/histopathologic-cancer\" ⋯ 30 bytes ⋯ \"771a4ddf2be024f92425379e5f4.tif\"\n",
       " \"../input/histopathologic-cancer\" ⋯ 30 bytes ⋯ \"4227178397df8e2aad3faa5f955.tif\"\n",
       " \"../input/histopathologic-cancer\" ⋯ 30 bytes ⋯ \"9072fcdc7f84ffcd896276a291a.tif\""
      ]
     },
     "execution_count": 11,
     "metadata": {},
     "output_type": "execute_result"
    }
   ],
   "source": [
    "# Creamos una nueva columna con el path de cada imagen \n",
    "df.image_path = string.(\"../input/histopathologic-cancer-detection/train/\", df.id, \".tif\")"
   ]
  },
  {
   "cell_type": "code",
   "execution_count": 12,
   "metadata": {},
   "outputs": [],
   "source": [
    "# Creamos una lista de tipo matriz de RGB donde se encuentran las componentes RGB de cada pixel de la imagen\n",
    "# Para ello se recorre cada fila del dataframe y con el path de la imagen y la función load() se convierte la imagen a \n",
    "# matriz RGB\n",
    "train_images = Matrix{RGB{}}[]\n",
    "for row in eachrow(df)\n",
    "    push!(train_images, load(row.image_path))\n",
    "end"
   ]
  },
  {
   "cell_type": "code",
   "execution_count": 13,
   "metadata": {},
   "outputs": [
    {
     "data": {
      "text/plain": [
       "1000-element Vector{Matrix{RGB}}:\n",
       " [RGB{N0f8}(0.227,0.145,0.549) RGB{N0f8}(0.267,0.169,0.569) … RGB{N0f8}(0.153,0.063,0.329) RGB{N0f8}(0.129,0.055,0.306); RGB{N0f8}(0.173,0.024,0.427) RGB{N0f8}(0.275,0.106,0.518) … RGB{N0f8}(0.149,0.043,0.322) RGB{N0f8}(0.122,0.024,0.29); … ; RGB{N0f8}(0.655,0.341,0.714) RGB{N0f8}(0.573,0.255,0.627) … RGB{N0f8}(0.251,0.078,0.373) RGB{N0f8}(0.251,0.078,0.373); RGB{N0f8}(0.392,0.098,0.471) RGB{N0f8}(0.612,0.298,0.678) … RGB{N0f8}(0.231,0.059,0.353) RGB{N0f8}(0.204,0.031,0.325)]\n",
       " [RGB{N0f8}(0.89,0.71,0.812) RGB{N0f8}(0.882,0.718,0.812) … RGB{N0f8}(0.518,0.396,0.455) RGB{N0f8}(1.0,0.91,0.969); RGB{N0f8}(0.957,0.78,0.871) RGB{N0f8}(0.914,0.749,0.835) … RGB{N0f8}(0.91,0.8,0.855) RGB{N0f8}(0.796,0.686,0.741); … ; RGB{N0f8}(0.957,0.749,0.812) RGB{N0f8}(0.714,0.506,0.576) … RGB{N0f8}(1.0,0.949,1.0) RGB{N0f8}(0.914,0.827,0.878); RGB{N0f8}(0.988,0.8,0.855) RGB{N0f8}(0.847,0.659,0.714) … RGB{N0f8}(0.792,0.702,0.765) RGB{N0f8}(0.839,0.745,0.808)]\n",
       " [RGB{N0f8}(0.396,0.2,0.431) RGB{N0f8}(0.745,0.561,0.773) … RGB{N0f8}(0.765,0.616,0.667) RGB{N0f8}(0.655,0.502,0.576); RGB{N0f8}(0.686,0.518,0.698) RGB{N0f8}(0.337,0.169,0.345) … RGB{N0f8}(0.918,0.784,0.847) RGB{N0f8}(0.839,0.702,0.788); … ; RGB{N0f8}(0.992,0.898,0.953) RGB{N0f8}(0.914,0.827,0.878) … RGB{N0f8}(0.984,0.882,0.925) RGB{N0f8}(0.953,0.855,0.839); RGB{N0f8}(0.89,0.808,0.875) RGB{N0f8}(0.882,0.808,0.882) … RGB{N0f8}(1.0,0.945,0.976) RGB{N0f8}(0.894,0.808,0.765)]\n",
       " [RGB{N0f8}(0.898,0.761,0.918) RGB{N0f8}(0.82,0.667,0.843) … RGB{N0f8}(1.0,0.949,1.0) RGB{N0f8}(0.875,0.812,0.914); RGB{N0f8}(0.89,0.757,0.855) RGB{N0f8}(0.729,0.576,0.698) … RGB{N0f8}(0.89,0.812,0.847) RGB{N0f8}(0.624,0.549,0.627); … ; RGB{N0f8}(0.894,0.725,0.843) RGB{N0f8}(0.745,0.584,0.718) … RGB{N0f8}(0.808,0.631,0.761) RGB{N0f8}(0.8,0.612,0.769); RGB{N0f8}(0.694,0.553,0.655) RGB{N0f8}(0.843,0.698,0.82) … RGB{N0f8}(0.847,0.667,0.769) RGB{N0f8}(0.855,0.671,0.796)]\n",
       " [RGB{N0f8}(0.89,0.651,0.812) RGB{N0f8}(1.0,0.831,0.969) … RGB{N0f8}(0.82,0.631,0.733) RGB{N0f8}(0.867,0.69,0.773); RGB{N0f8}(0.502,0.263,0.427) RGB{N0f8}(0.506,0.333,0.475) … RGB{N0f8}(1.0,0.859,0.937) RGB{N0f8}(0.749,0.576,0.635); … ; RGB{N0f8}(0.275,0.086,0.282) RGB{N0f8}(0.263,0.11,0.282) … RGB{N0f8}(0.933,0.812,0.831) RGB{N0f8}(1.0,0.969,0.973); RGB{N0f8}(0.271,0.086,0.298) RGB{N0f8}(0.235,0.082,0.259) … RGB{N0f8}(0.855,0.753,0.757) RGB{N0f8}(1.0,0.918,0.906)]\n",
       " [RGB{N0f8}(0.31,0.161,0.596) RGB{N0f8}(0.329,0.204,0.584) … RGB{N0f8}(0.647,0.412,0.757) RGB{N0f8}(0.38,0.114,0.455); RGB{N0f8}(0.235,0.094,0.486) RGB{N0f8}(0.282,0.157,0.537) … RGB{N0f8}(0.871,0.659,0.988) RGB{N0f8}(0.545,0.294,0.624); … ; RGB{N0f8}(0.624,0.361,0.741) RGB{N0f8}(0.89,0.643,0.918) … RGB{N0f8}(0.561,0.38,0.808) RGB{N0f8}(0.451,0.29,0.651); RGB{N0f8}(0.918,0.627,1.0) RGB{N0f8}(0.965,0.706,0.957) … RGB{N0f8}(0.408,0.235,0.686) RGB{N0f8}(0.596,0.435,0.796)]\n",
       " [RGB{N0f8}(0.863,0.561,0.78) RGB{N0f8}(0.729,0.455,0.651) … RGB{N0f8}(0.804,0.71,0.765) RGB{N0f8}(0.867,0.761,0.82); RGB{N0f8}(0.616,0.341,0.553) RGB{N0f8}(0.733,0.482,0.678) … RGB{N0f8}(0.733,0.624,0.682) RGB{N0f8}(0.788,0.667,0.729); … ; RGB{N0f8}(0.875,0.859,0.863) RGB{N0f8}(0.878,0.863,0.867) … RGB{N0f8}(0.722,0.592,0.698) RGB{N0f8}(0.675,0.537,0.655); RGB{N0f8}(0.871,0.855,0.859) RGB{N0f8}(0.878,0.863,0.867) … RGB{N0f8}(0.776,0.631,0.753) RGB{N0f8}(0.698,0.541,0.675)]\n",
       " [RGB{N0f8}(0.922,0.773,0.824) RGB{N0f8}(0.894,0.729,0.816) … RGB{N0f8}(0.902,0.588,0.686) RGB{N0f8}(0.957,0.663,0.753); RGB{N0f8}(0.945,0.796,0.855) RGB{N0f8}(0.824,0.651,0.749) … RGB{N0f8}(0.851,0.525,0.627) RGB{N0f8}(0.886,0.58,0.675); … ; RGB{N0f8}(0.8,0.659,0.667) RGB{N0f8}(1.0,0.898,0.976) … RGB{N0f8}(0.949,0.824,0.875) RGB{N0f8}(0.878,0.769,0.816); RGB{N0f8}(0.78,0.643,0.635) RGB{N0f8}(1.0,0.902,0.969) … RGB{N0f8}(0.753,0.584,0.651) RGB{N0f8}(1.0,0.859,0.914)]\n",
       " [RGB{N0f8}(0.886,0.89,0.898) RGB{N0f8}(0.886,0.89,0.898) … RGB{N0f8}(0.925,0.812,0.933) RGB{N0f8}(0.914,0.8,0.922); RGB{N0f8}(0.882,0.886,0.894) RGB{N0f8}(0.882,0.886,0.894) … RGB{N0f8}(0.984,0.902,0.976) RGB{N0f8}(0.969,0.886,0.953); … ; RGB{N0f8}(0.882,0.886,0.894) RGB{N0f8}(0.882,0.89,0.886) … RGB{N0f8}(0.875,0.894,0.878) RGB{N0f8}(0.902,0.922,0.906); RGB{N0f8}(0.878,0.882,0.89) RGB{N0f8}(0.878,0.886,0.882) … RGB{N0f8}(0.863,0.882,0.898) RGB{N0f8}(0.871,0.89,0.906)]\n",
       " [RGB{N0f8}(0.204,0.114,0.224) RGB{N0f8}(0.118,0.02,0.137) … RGB{N0f8}(0.757,0.451,0.553) RGB{N0f8}(0.788,0.475,0.58); RGB{N0f8}(0.161,0.031,0.153) RGB{N0f8}(0.196,0.067,0.188) … RGB{N0f8}(0.788,0.475,0.58) RGB{N0f8}(0.686,0.373,0.478); … ; RGB{N0f8}(0.906,0.643,0.773) RGB{N0f8}(0.922,0.686,0.788) … RGB{N0f8}(0.275,0.086,0.275) RGB{N0f8}(0.329,0.2,0.384); RGB{N0f8}(0.671,0.365,0.467) RGB{N0f8}(0.733,0.467,0.549) … RGB{N0f8}(0.302,0.145,0.282) RGB{N0f8}(0.267,0.173,0.314)]\n",
       " [RGB{N0f8}(0.78,0.729,0.757) RGB{N0f8}(0.792,0.741,0.769) … RGB{N0f8}(0.416,0.216,0.384) RGB{N0f8}(0.592,0.369,0.545); RGB{N0f8}(0.859,0.816,0.839) RGB{N0f8}(0.847,0.804,0.827) … RGB{N0f8}(0.314,0.125,0.29) RGB{N0f8}(0.424,0.216,0.388); … ; RGB{N0f8}(0.937,0.937,0.929) RGB{N0f8}(0.937,0.937,0.929) … RGB{N0f8}(0.816,0.616,0.745) RGB{N0f8}(0.361,0.196,0.337); RGB{N0f8}(0.937,0.937,0.929) RGB{N0f8}(0.937,0.937,0.929) … RGB{N0f8}(0.627,0.435,0.561) RGB{N0f8}(0.627,0.471,0.608)]\n",
       " [RGB{N0f8}(0.486,0.329,0.71) RGB{N0f8}(0.392,0.22,0.592) … RGB{N0f8}(0.537,0.329,0.643) RGB{N0f8}(0.529,0.325,0.647); RGB{N0f8}(0.486,0.325,0.702) RGB{N0f8}(0.565,0.388,0.753) … RGB{N0f8}(0.639,0.427,0.765) RGB{N0f8}(0.667,0.455,0.792); … ; RGB{N0f8}(0.569,0.333,0.671) RGB{N0f8}(0.671,0.451,0.792) … RGB{N0f8}(0.498,0.298,0.663) RGB{N0f8}(0.443,0.263,0.647); RGB{N0f8}(0.89,0.659,0.973) RGB{N0f8}(0.714,0.498,0.824) … RGB{N0f8}(0.455,0.263,0.612) RGB{N0f8}(0.584,0.416,0.769)]\n",
       " [RGB{N0f8}(0.412,0.239,0.612) RGB{N0f8}(0.408,0.212,0.655) … RGB{N0f8}(0.518,0.302,0.702) RGB{N0f8}(0.275,0.102,0.475); RGB{N0f8}(0.439,0.259,0.643) RGB{N0f8}(0.294,0.098,0.541) … RGB{N0f8}(0.494,0.306,0.698) RGB{N0f8}(0.29,0.133,0.51); … ; RGB{N0f8}(0.353,0.11,0.498) RGB{N0f8}(0.592,0.337,0.737) … RGB{N0f8}(0.592,0.302,0.643) RGB{N0f8}(0.69,0.38,0.698); RGB{N0f8}(0.498,0.216,0.647) RGB{N0f8}(0.576,0.29,0.714) … RGB{N0f8}(0.678,0.384,0.718) RGB{N0f8}(0.824,0.514,0.839)]\n",
       " ⋮\n",
       " [RGB{N0f8}(0.094,0.0,0.322) RGB{N0f8}(0.412,0.216,0.557) … RGB{N0f8}(0.651,0.482,0.753) RGB{N0f8}(0.294,0.141,0.404); RGB{N0f8}(0.227,0.141,0.467) RGB{N0f8}(0.173,0.0,0.337) … RGB{N0f8}(0.231,0.047,0.361) RGB{N0f8}(0.247,0.086,0.392); … ; RGB{N0f8}(0.906,0.769,1.0) RGB{N0f8}(0.557,0.396,0.671) … RGB{N0f8}(0.506,0.294,0.588) RGB{N0f8}(0.439,0.208,0.522); RGB{N0f8}(0.8,0.682,0.894) RGB{N0f8}(0.592,0.435,0.671) … RGB{N0f8}(0.773,0.518,0.871) RGB{N0f8}(0.961,0.686,1.0)]\n",
       " [RGB{N0f8}(0.675,0.337,0.624) RGB{N0f8}(0.863,0.525,0.804) … RGB{N0f8}(0.788,0.686,0.824) RGB{N0f8}(0.925,0.902,1.0); RGB{N0f8}(0.898,0.573,0.855) RGB{N0f8}(0.725,0.4,0.675) … RGB{N0f8}(0.761,0.584,0.753) RGB{N0f8}(0.58,0.447,0.592); … ; RGB{N0f8}(0.459,0.247,0.49) RGB{N0f8}(0.612,0.431,0.686) … RGB{N0f8}(0.765,0.576,0.733) RGB{N0f8}(0.749,0.529,0.722); RGB{N0f8}(0.251,0.043,0.31) RGB{N0f8}(0.631,0.439,0.749) … RGB{N0f8}(0.529,0.325,0.475) RGB{N0f8}(0.549,0.318,0.498)]\n",
       " [RGB{N0f8}(0.847,0.863,0.859) RGB{N0f8}(0.878,0.882,0.89) … RGB{N0f8}(0.855,0.655,0.886) RGB{N0f8}(0.784,0.6,0.812); RGB{N0f8}(0.863,0.878,0.875) RGB{N0f8}(0.878,0.882,0.89) … RGB{N0f8}(0.859,0.682,0.906) RGB{N0f8}(0.859,0.71,0.902); … ; RGB{N0f8}(0.941,0.776,0.925) RGB{N0f8}(0.894,0.737,0.882) … RGB{N0f8}(0.694,0.412,0.698) RGB{N0f8}(0.792,0.506,0.784); RGB{N0f8}(0.922,0.761,0.925) RGB{N0f8}(0.867,0.718,0.878) … RGB{N0f8}(0.827,0.522,0.816) RGB{N0f8}(0.937,0.624,0.91)]\n",
       " [RGB{N0f8}(1.0,0.863,0.945) RGB{N0f8}(0.706,0.529,0.62) … RGB{N0f8}(0.459,0.392,0.467) RGB{N0f8}(0.737,0.694,0.718); RGB{N0f8}(0.58,0.404,0.565) RGB{N0f8}(0.412,0.235,0.396) … RGB{N0f8}(0.624,0.553,0.647) RGB{N0f8}(1.0,0.98,1.0); … ; RGB{N0f8}(0.404,0.243,0.4) RGB{N0f8}(0.255,0.094,0.251) … RGB{N0f8}(0.31,0.157,0.333) RGB{N0f8}(0.424,0.267,0.463); RGB{N0f8}(0.337,0.188,0.333) RGB{N0f8}(0.424,0.275,0.427) … RGB{N0f8}(0.235,0.071,0.267) RGB{N0f8}(0.247,0.071,0.294)]\n",
       " [RGB{N0f8}(0.224,0.082,0.231) RGB{N0f8}(0.267,0.118,0.271) … RGB{N0f8}(0.2,0.059,0.2) RGB{N0f8}(0.929,0.792,0.922); RGB{N0f8}(0.231,0.067,0.224) RGB{N0f8}(0.251,0.075,0.227) … RGB{N0f8}(0.169,0.051,0.192) RGB{N0f8}(0.314,0.196,0.329); … ; RGB{N0f8}(0.267,0.102,0.298) RGB{N0f8}(0.298,0.145,0.329) … RGB{N0f8}(0.341,0.161,0.345) RGB{N0f8}(0.239,0.039,0.259); RGB{N0f8}(0.271,0.114,0.31) RGB{N0f8}(0.192,0.063,0.247) … RGB{N0f8}(0.38,0.255,0.4) RGB{N0f8}(0.176,0.039,0.204)]\n",
       " [RGB{N0f8}(0.941,0.875,1.0) RGB{N0f8}(0.329,0.208,0.471) … RGB{N0f8}(0.275,0.133,0.478) RGB{N0f8}(0.263,0.129,0.498); RGB{N0f8}(0.678,0.573,0.851) RGB{N0f8}(0.749,0.588,0.894) … RGB{N0f8}(0.702,0.549,0.867) RGB{N0f8}(0.471,0.322,0.663); … ; RGB{N0f8}(0.584,0.361,0.671) RGB{N0f8}(0.596,0.416,0.71) … RGB{N0f8}(0.953,0.843,0.992) RGB{N0f8}(0.937,0.839,0.922); RGB{N0f8}(0.643,0.396,0.706) RGB{N0f8}(0.561,0.353,0.659) … RGB{N0f8}(0.906,0.788,0.929) RGB{N0f8}(0.902,0.788,0.859)]\n",
       " [RGB{N0f8}(0.831,0.522,0.831) RGB{N0f8}(0.808,0.502,0.796) … RGB{N0f8}(0.922,0.522,0.812) RGB{N0f8}(0.827,0.431,0.737); RGB{N0f8}(0.984,0.69,0.82) RGB{N0f8}(0.816,0.518,0.659) … RGB{N0f8}(0.859,0.475,0.761) RGB{N0f8}(0.753,0.376,0.667); … ; RGB{N0f8}(0.863,0.843,0.859) RGB{N0f8}(0.863,0.843,0.859) … RGB{N0f8}(0.808,0.486,0.404) RGB{N0f8}(0.867,0.482,0.447); RGB{N0f8}(0.863,0.843,0.859) RGB{N0f8}(0.863,0.843,0.859) … RGB{N0f8}(0.769,0.447,0.298) RGB{N0f8}(0.714,0.329,0.216)]\n",
       " [RGB{N0f8}(0.835,0.796,0.839) RGB{N0f8}(0.902,0.871,0.922) … RGB{N0f8}(0.914,0.902,0.929) RGB{N0f8}(0.914,0.902,0.929); RGB{N0f8}(0.871,0.824,0.871) RGB{N0f8}(0.894,0.851,0.906) … RGB{N0f8}(0.914,0.902,0.929) RGB{N0f8}(0.914,0.902,0.929); … ; RGB{N0f8}(0.922,0.906,0.961) RGB{N0f8}(1.0,0.949,1.0) … RGB{N0f8}(0.898,0.89,0.902) RGB{N0f8}(0.898,0.898,0.906); RGB{N0f8}(0.906,0.898,0.953) RGB{N0f8}(1.0,0.969,1.0) … RGB{N0f8}(0.898,0.89,0.902) RGB{N0f8}(0.89,0.89,0.898)]\n",
       " [RGB{N0f8}(0.596,0.424,0.482) RGB{N0f8}(0.608,0.439,0.506) … RGB{N0f8}(0.22,0.075,0.196) RGB{N0f8}(0.431,0.271,0.404); RGB{N0f8}(0.745,0.573,0.663) RGB{N0f8}(1.0,0.843,0.937) … RGB{N0f8}(0.843,0.702,0.812) RGB{N0f8}(1.0,0.863,0.984); … ; RGB{N0f8}(0.875,0.761,0.776) RGB{N0f8}(1.0,0.953,1.0) … RGB{N0f8}(0.651,0.525,0.686) RGB{N0f8}(0.153,0.039,0.22); RGB{N0f8}(0.843,0.729,0.749) RGB{N0f8}(0.824,0.71,0.78) … RGB{N0f8}(0.647,0.502,0.706) RGB{N0f8}(0.216,0.082,0.318)]\n",
       " [RGB{N0f8}(0.443,0.333,0.624) RGB{N0f8}(0.306,0.161,0.467) … RGB{N0f8}(0.604,0.251,0.627) RGB{N0f8}(0.525,0.184,0.557); RGB{N0f8}(0.675,0.584,0.859) RGB{N0f8}(0.314,0.18,0.482) … RGB{N0f8}(0.631,0.298,0.663) RGB{N0f8}(0.702,0.376,0.729); … ; RGB{N0f8}(0.639,0.388,0.718) RGB{N0f8}(0.643,0.376,0.71) … RGB{N0f8}(0.655,0.443,0.686) RGB{N0f8}(0.831,0.612,0.851); RGB{N0f8}(0.745,0.545,0.847) RGB{N0f8}(0.659,0.42,0.733) … RGB{N0f8}(0.812,0.616,0.847) RGB{N0f8}(0.541,0.341,0.561)]\n",
       " [RGB{N0f8}(0.847,0.588,0.694) RGB{N0f8}(0.882,0.631,0.733) … RGB{N0f8}(0.996,0.733,0.855) RGB{N0f8}(0.435,0.18,0.298); RGB{N0f8}(0.918,0.659,0.765) RGB{N0f8}(0.827,0.576,0.678) … RGB{N0f8}(0.788,0.525,0.655) RGB{N0f8}(0.776,0.522,0.647); … ; RGB{N0f8}(0.788,0.51,0.627) RGB{N0f8}(0.792,0.514,0.631) … RGB{N0f8}(0.51,0.282,0.439) RGB{N0f8}(0.439,0.22,0.373); RGB{N0f8}(0.867,0.588,0.714) RGB{N0f8}(0.82,0.533,0.651) … RGB{N0f8}(0.694,0.455,0.616) RGB{N0f8}(0.733,0.506,0.663)]\n",
       " [RGB{N0f8}(0.165,0.024,0.4) RGB{N0f8}(0.204,0.09,0.443) … RGB{N0f8}(0.996,0.576,0.992) RGB{N0f8}(0.765,0.337,0.765); RGB{N0f8}(0.357,0.133,0.514) RGB{N0f8}(0.298,0.106,0.463) … RGB{N0f8}(0.722,0.361,0.749) RGB{N0f8}(0.639,0.302,0.69); … ; RGB{N0f8}(0.365,0.09,0.475) RGB{N0f8}(0.396,0.137,0.522) … RGB{N0f8}(0.349,0.137,0.522) RGB{N0f8}(0.38,0.169,0.553); RGB{N0f8}(0.4,0.082,0.482) RGB{N0f8}(0.541,0.239,0.639) … RGB{N0f8}(0.353,0.153,0.525) RGB{N0f8}(0.357,0.157,0.529)]"
      ]
     },
     "execution_count": 13,
     "metadata": {},
     "output_type": "execute_result"
    }
   ],
   "source": [
    "train_images"
   ]
  },
  {
   "cell_type": "code",
   "execution_count": 31,
   "metadata": {},
   "outputs": [
    {
     "data": {
      "text/plain": [
       "resize_and_grayify (generic function with 1 method)"
      ]
     },
     "execution_count": 31,
     "metadata": {},
     "output_type": "execute_result"
    }
   ],
   "source": [
    "function resize_and_grayify(directory, im_name, width::Int64, height::Int64)\n",
    "    resized_gray_img = Gray.(load(directory * \"/\" * im_name)) |> (x -> imresize(x, width, height))\n",
    "    try\n",
    "        save(\"preprocessed_\" * directory * \"/\" * im_name, resized_gray_img)\n",
    "    catch e\n",
    "        if isa(e, SystemError)\n",
    "            mkdir(\"preprocessed_\" * directory)\n",
    "            save(\"preprocessed_\" * directory * \"/\" * im_name, resized_gray_img)\n",
    "        end\n",
    "    end\n",
    "end"
   ]
  },
  {
   "cell_type": "code",
   "execution_count": 32,
   "metadata": {},
   "outputs": [
    {
     "data": {
      "text/plain": [
       "process_images (generic function with 1 method)"
      ]
     },
     "execution_count": 32,
     "metadata": {},
     "output_type": "execute_result"
    }
   ],
   "source": [
    "function process_images(directory, width::Int64, height::Int64)\n",
    "    files_list = readdir(directory)\n",
    "    map(x -> resize_and_grayify(directory, x, width, height),                               files_list)\n",
    "end"
   ]
  },
  {
   "cell_type": "code",
   "execution_count": 33,
   "metadata": {},
   "outputs": [
    {
     "data": {
      "text/plain": [
       "96"
      ]
     },
     "execution_count": 33,
     "metadata": {},
     "output_type": "execute_result"
    }
   ],
   "source": [
    "n_resolution = 96"
   ]
  },
  {
   "cell_type": "code",
   "execution_count": 51,
   "metadata": {},
   "outputs": [
    {
     "ename": "LoadError",
     "evalue": "IOError: readdir(\"./input/histopathologic-cancer-detection/train/a3ae00594011f19aeec86c41d739c0f000981cb6.tif\"): no such file or directory (ENOENT)",
     "output_type": "error",
     "traceback": [
      "IOError: readdir(\"./input/histopathologic-cancer-detection/train/a3ae00594011f19aeec86c41d739c0f000981cb6.tif\"): no such file or directory (ENOENT)",
      "",
      "Stacktrace:",
      " [1] uv_error",
      "   @ ./libuv.jl:97 [inlined]",
      " [2] readdir(dir::String; join::Bool, sort::Bool)",
      "   @ Base.Filesystem ./file.jl:865",
      " [3] readdir",
      "   @ ./file.jl:858 [inlined]",
      " [4] process_images(directory::String, width::Int64, height::Int64)",
      "   @ Main ./In[32]:2",
      " [5] top-level scope",
      "   @ In[51]:1",
      " [6] eval",
      "   @ ./boot.jl:368 [inlined]",
      " [7] include_string(mapexpr::typeof(REPL.softscope), mod::Module, code::String, filename::String)",
      "   @ Base ./loading.jl:1428"
     ]
    }
   ],
   "source": [
    "process_images(\"../input/histopathologic-cancer-detection/train/a3ae00594011f19aeec86c41d739c0f000981cb6.tif\", n_resolution, n_resolution)"
   ]
  },
  {
   "cell_type": "code",
   "execution_count": 46,
   "metadata": {},
   "outputs": [
    {
     "ename": "LoadError",
     "evalue": "MethodError: no method matching readdir(::Vector{String})\n\u001b[0mClosest candidates are:\n\u001b[0m  readdir(; join, sort) at file.jl:886\n\u001b[0m  readdir(\u001b[91m::AbstractString\u001b[39m; join, sort) at file.jl:858\n\u001b[0m  readdir(\u001b[91m::FilePathsBase.SystemPath\u001b[39m; kwargs...) at ~/.julia/packages/FilePathsBase/9kSEl/src/system.jl:386",
     "output_type": "error",
     "traceback": [
      "MethodError: no method matching readdir(::Vector{String})\n\u001b[0mClosest candidates are:\n\u001b[0m  readdir(; join, sort) at file.jl:886\n\u001b[0m  readdir(\u001b[91m::AbstractString\u001b[39m; join, sort) at file.jl:858\n\u001b[0m  readdir(\u001b[91m::FilePathsBase.SystemPath\u001b[39m; kwargs...) at ~/.julia/packages/FilePathsBase/9kSEl/src/system.jl:386",
      "",
      "Stacktrace:",
      " [1] process_images(directory::Vector{String}, width::Int64, height::Int64)",
      "   @ Main ./In[32]:2",
      " [2] top-level scope",
      "   @ ./In[46]:3",
      " [3] eval",
      "   @ ./boot.jl:368 [inlined]",
      " [4] include_string(mapexpr::typeof(REPL.softscope), mod::Module, code::String, filename::String)",
      "   @ Base ./loading.jl:1428"
     ]
    }
   ],
   "source": [
    "path_gray_images = String[]\n",
    "for row in eachrow(df)\n",
    "    process_images(string.(\"../input/histopathologic-cancer-detection/train/\", df.id, \".tif\"), n_resolution, n_resolution)\n",
    "    #push!(path_gray_images, string.(\"../input/histopathologic-cancer-detection/trainGray/\", df.id, \".tif\"))\n",
    "end"
   ]
  },
  {
   "cell_type": "code",
   "execution_count": 17,
   "metadata": {},
   "outputs": [
    {
     "data": {
      "text/plain": [
       "1000-element Vector{Matrix{RGB}}:\n",
       " [RGB{N0f8}(0.227,0.145,0.549) RGB{N0f8}(0.267,0.169,0.569) … RGB{N0f8}(0.153,0.063,0.329) RGB{N0f8}(0.129,0.055,0.306); RGB{N0f8}(0.173,0.024,0.427) RGB{N0f8}(0.275,0.106,0.518) … RGB{N0f8}(0.149,0.043,0.322) RGB{N0f8}(0.122,0.024,0.29); … ; RGB{N0f8}(0.655,0.341,0.714) RGB{N0f8}(0.573,0.255,0.627) … RGB{N0f8}(0.251,0.078,0.373) RGB{N0f8}(0.251,0.078,0.373); RGB{N0f8}(0.392,0.098,0.471) RGB{N0f8}(0.612,0.298,0.678) … RGB{N0f8}(0.231,0.059,0.353) RGB{N0f8}(0.204,0.031,0.325)]\n",
       " [RGB{N0f8}(0.89,0.71,0.812) RGB{N0f8}(0.882,0.718,0.812) … RGB{N0f8}(0.518,0.396,0.455) RGB{N0f8}(1.0,0.91,0.969); RGB{N0f8}(0.957,0.78,0.871) RGB{N0f8}(0.914,0.749,0.835) … RGB{N0f8}(0.91,0.8,0.855) RGB{N0f8}(0.796,0.686,0.741); … ; RGB{N0f8}(0.957,0.749,0.812) RGB{N0f8}(0.714,0.506,0.576) … RGB{N0f8}(1.0,0.949,1.0) RGB{N0f8}(0.914,0.827,0.878); RGB{N0f8}(0.988,0.8,0.855) RGB{N0f8}(0.847,0.659,0.714) … RGB{N0f8}(0.792,0.702,0.765) RGB{N0f8}(0.839,0.745,0.808)]\n",
       " [RGB{N0f8}(0.396,0.2,0.431) RGB{N0f8}(0.745,0.561,0.773) … RGB{N0f8}(0.765,0.616,0.667) RGB{N0f8}(0.655,0.502,0.576); RGB{N0f8}(0.686,0.518,0.698) RGB{N0f8}(0.337,0.169,0.345) … RGB{N0f8}(0.918,0.784,0.847) RGB{N0f8}(0.839,0.702,0.788); … ; RGB{N0f8}(0.992,0.898,0.953) RGB{N0f8}(0.914,0.827,0.878) … RGB{N0f8}(0.984,0.882,0.925) RGB{N0f8}(0.953,0.855,0.839); RGB{N0f8}(0.89,0.808,0.875) RGB{N0f8}(0.882,0.808,0.882) … RGB{N0f8}(1.0,0.945,0.976) RGB{N0f8}(0.894,0.808,0.765)]\n",
       " [RGB{N0f8}(0.898,0.761,0.918) RGB{N0f8}(0.82,0.667,0.843) … RGB{N0f8}(1.0,0.949,1.0) RGB{N0f8}(0.875,0.812,0.914); RGB{N0f8}(0.89,0.757,0.855) RGB{N0f8}(0.729,0.576,0.698) … RGB{N0f8}(0.89,0.812,0.847) RGB{N0f8}(0.624,0.549,0.627); … ; RGB{N0f8}(0.894,0.725,0.843) RGB{N0f8}(0.745,0.584,0.718) … RGB{N0f8}(0.808,0.631,0.761) RGB{N0f8}(0.8,0.612,0.769); RGB{N0f8}(0.694,0.553,0.655) RGB{N0f8}(0.843,0.698,0.82) … RGB{N0f8}(0.847,0.667,0.769) RGB{N0f8}(0.855,0.671,0.796)]\n",
       " [RGB{N0f8}(0.89,0.651,0.812) RGB{N0f8}(1.0,0.831,0.969) … RGB{N0f8}(0.82,0.631,0.733) RGB{N0f8}(0.867,0.69,0.773); RGB{N0f8}(0.502,0.263,0.427) RGB{N0f8}(0.506,0.333,0.475) … RGB{N0f8}(1.0,0.859,0.937) RGB{N0f8}(0.749,0.576,0.635); … ; RGB{N0f8}(0.275,0.086,0.282) RGB{N0f8}(0.263,0.11,0.282) … RGB{N0f8}(0.933,0.812,0.831) RGB{N0f8}(1.0,0.969,0.973); RGB{N0f8}(0.271,0.086,0.298) RGB{N0f8}(0.235,0.082,0.259) … RGB{N0f8}(0.855,0.753,0.757) RGB{N0f8}(1.0,0.918,0.906)]\n",
       " [RGB{N0f8}(0.31,0.161,0.596) RGB{N0f8}(0.329,0.204,0.584) … RGB{N0f8}(0.647,0.412,0.757) RGB{N0f8}(0.38,0.114,0.455); RGB{N0f8}(0.235,0.094,0.486) RGB{N0f8}(0.282,0.157,0.537) … RGB{N0f8}(0.871,0.659,0.988) RGB{N0f8}(0.545,0.294,0.624); … ; RGB{N0f8}(0.624,0.361,0.741) RGB{N0f8}(0.89,0.643,0.918) … RGB{N0f8}(0.561,0.38,0.808) RGB{N0f8}(0.451,0.29,0.651); RGB{N0f8}(0.918,0.627,1.0) RGB{N0f8}(0.965,0.706,0.957) … RGB{N0f8}(0.408,0.235,0.686) RGB{N0f8}(0.596,0.435,0.796)]\n",
       " [RGB{N0f8}(0.863,0.561,0.78) RGB{N0f8}(0.729,0.455,0.651) … RGB{N0f8}(0.804,0.71,0.765) RGB{N0f8}(0.867,0.761,0.82); RGB{N0f8}(0.616,0.341,0.553) RGB{N0f8}(0.733,0.482,0.678) … RGB{N0f8}(0.733,0.624,0.682) RGB{N0f8}(0.788,0.667,0.729); … ; RGB{N0f8}(0.875,0.859,0.863) RGB{N0f8}(0.878,0.863,0.867) … RGB{N0f8}(0.722,0.592,0.698) RGB{N0f8}(0.675,0.537,0.655); RGB{N0f8}(0.871,0.855,0.859) RGB{N0f8}(0.878,0.863,0.867) … RGB{N0f8}(0.776,0.631,0.753) RGB{N0f8}(0.698,0.541,0.675)]\n",
       " [RGB{N0f8}(0.922,0.773,0.824) RGB{N0f8}(0.894,0.729,0.816) … RGB{N0f8}(0.902,0.588,0.686) RGB{N0f8}(0.957,0.663,0.753); RGB{N0f8}(0.945,0.796,0.855) RGB{N0f8}(0.824,0.651,0.749) … RGB{N0f8}(0.851,0.525,0.627) RGB{N0f8}(0.886,0.58,0.675); … ; RGB{N0f8}(0.8,0.659,0.667) RGB{N0f8}(1.0,0.898,0.976) … RGB{N0f8}(0.949,0.824,0.875) RGB{N0f8}(0.878,0.769,0.816); RGB{N0f8}(0.78,0.643,0.635) RGB{N0f8}(1.0,0.902,0.969) … RGB{N0f8}(0.753,0.584,0.651) RGB{N0f8}(1.0,0.859,0.914)]\n",
       " [RGB{N0f8}(0.886,0.89,0.898) RGB{N0f8}(0.886,0.89,0.898) … RGB{N0f8}(0.925,0.812,0.933) RGB{N0f8}(0.914,0.8,0.922); RGB{N0f8}(0.882,0.886,0.894) RGB{N0f8}(0.882,0.886,0.894) … RGB{N0f8}(0.984,0.902,0.976) RGB{N0f8}(0.969,0.886,0.953); … ; RGB{N0f8}(0.882,0.886,0.894) RGB{N0f8}(0.882,0.89,0.886) … RGB{N0f8}(0.875,0.894,0.878) RGB{N0f8}(0.902,0.922,0.906); RGB{N0f8}(0.878,0.882,0.89) RGB{N0f8}(0.878,0.886,0.882) … RGB{N0f8}(0.863,0.882,0.898) RGB{N0f8}(0.871,0.89,0.906)]\n",
       " [RGB{N0f8}(0.204,0.114,0.224) RGB{N0f8}(0.118,0.02,0.137) … RGB{N0f8}(0.757,0.451,0.553) RGB{N0f8}(0.788,0.475,0.58); RGB{N0f8}(0.161,0.031,0.153) RGB{N0f8}(0.196,0.067,0.188) … RGB{N0f8}(0.788,0.475,0.58) RGB{N0f8}(0.686,0.373,0.478); … ; RGB{N0f8}(0.906,0.643,0.773) RGB{N0f8}(0.922,0.686,0.788) … RGB{N0f8}(0.275,0.086,0.275) RGB{N0f8}(0.329,0.2,0.384); RGB{N0f8}(0.671,0.365,0.467) RGB{N0f8}(0.733,0.467,0.549) … RGB{N0f8}(0.302,0.145,0.282) RGB{N0f8}(0.267,0.173,0.314)]\n",
       " [RGB{N0f8}(0.78,0.729,0.757) RGB{N0f8}(0.792,0.741,0.769) … RGB{N0f8}(0.416,0.216,0.384) RGB{N0f8}(0.592,0.369,0.545); RGB{N0f8}(0.859,0.816,0.839) RGB{N0f8}(0.847,0.804,0.827) … RGB{N0f8}(0.314,0.125,0.29) RGB{N0f8}(0.424,0.216,0.388); … ; RGB{N0f8}(0.937,0.937,0.929) RGB{N0f8}(0.937,0.937,0.929) … RGB{N0f8}(0.816,0.616,0.745) RGB{N0f8}(0.361,0.196,0.337); RGB{N0f8}(0.937,0.937,0.929) RGB{N0f8}(0.937,0.937,0.929) … RGB{N0f8}(0.627,0.435,0.561) RGB{N0f8}(0.627,0.471,0.608)]\n",
       " [RGB{N0f8}(0.486,0.329,0.71) RGB{N0f8}(0.392,0.22,0.592) … RGB{N0f8}(0.537,0.329,0.643) RGB{N0f8}(0.529,0.325,0.647); RGB{N0f8}(0.486,0.325,0.702) RGB{N0f8}(0.565,0.388,0.753) … RGB{N0f8}(0.639,0.427,0.765) RGB{N0f8}(0.667,0.455,0.792); … ; RGB{N0f8}(0.569,0.333,0.671) RGB{N0f8}(0.671,0.451,0.792) … RGB{N0f8}(0.498,0.298,0.663) RGB{N0f8}(0.443,0.263,0.647); RGB{N0f8}(0.89,0.659,0.973) RGB{N0f8}(0.714,0.498,0.824) … RGB{N0f8}(0.455,0.263,0.612) RGB{N0f8}(0.584,0.416,0.769)]\n",
       " [RGB{N0f8}(0.412,0.239,0.612) RGB{N0f8}(0.408,0.212,0.655) … RGB{N0f8}(0.518,0.302,0.702) RGB{N0f8}(0.275,0.102,0.475); RGB{N0f8}(0.439,0.259,0.643) RGB{N0f8}(0.294,0.098,0.541) … RGB{N0f8}(0.494,0.306,0.698) RGB{N0f8}(0.29,0.133,0.51); … ; RGB{N0f8}(0.353,0.11,0.498) RGB{N0f8}(0.592,0.337,0.737) … RGB{N0f8}(0.592,0.302,0.643) RGB{N0f8}(0.69,0.38,0.698); RGB{N0f8}(0.498,0.216,0.647) RGB{N0f8}(0.576,0.29,0.714) … RGB{N0f8}(0.678,0.384,0.718) RGB{N0f8}(0.824,0.514,0.839)]\n",
       " ⋮\n",
       " [RGB{N0f8}(0.094,0.0,0.322) RGB{N0f8}(0.412,0.216,0.557) … RGB{N0f8}(0.651,0.482,0.753) RGB{N0f8}(0.294,0.141,0.404); RGB{N0f8}(0.227,0.141,0.467) RGB{N0f8}(0.173,0.0,0.337) … RGB{N0f8}(0.231,0.047,0.361) RGB{N0f8}(0.247,0.086,0.392); … ; RGB{N0f8}(0.906,0.769,1.0) RGB{N0f8}(0.557,0.396,0.671) … RGB{N0f8}(0.506,0.294,0.588) RGB{N0f8}(0.439,0.208,0.522); RGB{N0f8}(0.8,0.682,0.894) RGB{N0f8}(0.592,0.435,0.671) … RGB{N0f8}(0.773,0.518,0.871) RGB{N0f8}(0.961,0.686,1.0)]\n",
       " [RGB{N0f8}(0.675,0.337,0.624) RGB{N0f8}(0.863,0.525,0.804) … RGB{N0f8}(0.788,0.686,0.824) RGB{N0f8}(0.925,0.902,1.0); RGB{N0f8}(0.898,0.573,0.855) RGB{N0f8}(0.725,0.4,0.675) … RGB{N0f8}(0.761,0.584,0.753) RGB{N0f8}(0.58,0.447,0.592); … ; RGB{N0f8}(0.459,0.247,0.49) RGB{N0f8}(0.612,0.431,0.686) … RGB{N0f8}(0.765,0.576,0.733) RGB{N0f8}(0.749,0.529,0.722); RGB{N0f8}(0.251,0.043,0.31) RGB{N0f8}(0.631,0.439,0.749) … RGB{N0f8}(0.529,0.325,0.475) RGB{N0f8}(0.549,0.318,0.498)]\n",
       " [RGB{N0f8}(0.847,0.863,0.859) RGB{N0f8}(0.878,0.882,0.89) … RGB{N0f8}(0.855,0.655,0.886) RGB{N0f8}(0.784,0.6,0.812); RGB{N0f8}(0.863,0.878,0.875) RGB{N0f8}(0.878,0.882,0.89) … RGB{N0f8}(0.859,0.682,0.906) RGB{N0f8}(0.859,0.71,0.902); … ; RGB{N0f8}(0.941,0.776,0.925) RGB{N0f8}(0.894,0.737,0.882) … RGB{N0f8}(0.694,0.412,0.698) RGB{N0f8}(0.792,0.506,0.784); RGB{N0f8}(0.922,0.761,0.925) RGB{N0f8}(0.867,0.718,0.878) … RGB{N0f8}(0.827,0.522,0.816) RGB{N0f8}(0.937,0.624,0.91)]\n",
       " [RGB{N0f8}(1.0,0.863,0.945) RGB{N0f8}(0.706,0.529,0.62) … RGB{N0f8}(0.459,0.392,0.467) RGB{N0f8}(0.737,0.694,0.718); RGB{N0f8}(0.58,0.404,0.565) RGB{N0f8}(0.412,0.235,0.396) … RGB{N0f8}(0.624,0.553,0.647) RGB{N0f8}(1.0,0.98,1.0); … ; RGB{N0f8}(0.404,0.243,0.4) RGB{N0f8}(0.255,0.094,0.251) … RGB{N0f8}(0.31,0.157,0.333) RGB{N0f8}(0.424,0.267,0.463); RGB{N0f8}(0.337,0.188,0.333) RGB{N0f8}(0.424,0.275,0.427) … RGB{N0f8}(0.235,0.071,0.267) RGB{N0f8}(0.247,0.071,0.294)]\n",
       " [RGB{N0f8}(0.224,0.082,0.231) RGB{N0f8}(0.267,0.118,0.271) … RGB{N0f8}(0.2,0.059,0.2) RGB{N0f8}(0.929,0.792,0.922); RGB{N0f8}(0.231,0.067,0.224) RGB{N0f8}(0.251,0.075,0.227) … RGB{N0f8}(0.169,0.051,0.192) RGB{N0f8}(0.314,0.196,0.329); … ; RGB{N0f8}(0.267,0.102,0.298) RGB{N0f8}(0.298,0.145,0.329) … RGB{N0f8}(0.341,0.161,0.345) RGB{N0f8}(0.239,0.039,0.259); RGB{N0f8}(0.271,0.114,0.31) RGB{N0f8}(0.192,0.063,0.247) … RGB{N0f8}(0.38,0.255,0.4) RGB{N0f8}(0.176,0.039,0.204)]\n",
       " [RGB{N0f8}(0.941,0.875,1.0) RGB{N0f8}(0.329,0.208,0.471) … RGB{N0f8}(0.275,0.133,0.478) RGB{N0f8}(0.263,0.129,0.498); RGB{N0f8}(0.678,0.573,0.851) RGB{N0f8}(0.749,0.588,0.894) … RGB{N0f8}(0.702,0.549,0.867) RGB{N0f8}(0.471,0.322,0.663); … ; RGB{N0f8}(0.584,0.361,0.671) RGB{N0f8}(0.596,0.416,0.71) … RGB{N0f8}(0.953,0.843,0.992) RGB{N0f8}(0.937,0.839,0.922); RGB{N0f8}(0.643,0.396,0.706) RGB{N0f8}(0.561,0.353,0.659) … RGB{N0f8}(0.906,0.788,0.929) RGB{N0f8}(0.902,0.788,0.859)]\n",
       " [RGB{N0f8}(0.831,0.522,0.831) RGB{N0f8}(0.808,0.502,0.796) … RGB{N0f8}(0.922,0.522,0.812) RGB{N0f8}(0.827,0.431,0.737); RGB{N0f8}(0.984,0.69,0.82) RGB{N0f8}(0.816,0.518,0.659) … RGB{N0f8}(0.859,0.475,0.761) RGB{N0f8}(0.753,0.376,0.667); … ; RGB{N0f8}(0.863,0.843,0.859) RGB{N0f8}(0.863,0.843,0.859) … RGB{N0f8}(0.808,0.486,0.404) RGB{N0f8}(0.867,0.482,0.447); RGB{N0f8}(0.863,0.843,0.859) RGB{N0f8}(0.863,0.843,0.859) … RGB{N0f8}(0.769,0.447,0.298) RGB{N0f8}(0.714,0.329,0.216)]\n",
       " [RGB{N0f8}(0.835,0.796,0.839) RGB{N0f8}(0.902,0.871,0.922) … RGB{N0f8}(0.914,0.902,0.929) RGB{N0f8}(0.914,0.902,0.929); RGB{N0f8}(0.871,0.824,0.871) RGB{N0f8}(0.894,0.851,0.906) … RGB{N0f8}(0.914,0.902,0.929) RGB{N0f8}(0.914,0.902,0.929); … ; RGB{N0f8}(0.922,0.906,0.961) RGB{N0f8}(1.0,0.949,1.0) … RGB{N0f8}(0.898,0.89,0.902) RGB{N0f8}(0.898,0.898,0.906); RGB{N0f8}(0.906,0.898,0.953) RGB{N0f8}(1.0,0.969,1.0) … RGB{N0f8}(0.898,0.89,0.902) RGB{N0f8}(0.89,0.89,0.898)]\n",
       " [RGB{N0f8}(0.596,0.424,0.482) RGB{N0f8}(0.608,0.439,0.506) … RGB{N0f8}(0.22,0.075,0.196) RGB{N0f8}(0.431,0.271,0.404); RGB{N0f8}(0.745,0.573,0.663) RGB{N0f8}(1.0,0.843,0.937) … RGB{N0f8}(0.843,0.702,0.812) RGB{N0f8}(1.0,0.863,0.984); … ; RGB{N0f8}(0.875,0.761,0.776) RGB{N0f8}(1.0,0.953,1.0) … RGB{N0f8}(0.651,0.525,0.686) RGB{N0f8}(0.153,0.039,0.22); RGB{N0f8}(0.843,0.729,0.749) RGB{N0f8}(0.824,0.71,0.78) … RGB{N0f8}(0.647,0.502,0.706) RGB{N0f8}(0.216,0.082,0.318)]\n",
       " [RGB{N0f8}(0.443,0.333,0.624) RGB{N0f8}(0.306,0.161,0.467) … RGB{N0f8}(0.604,0.251,0.627) RGB{N0f8}(0.525,0.184,0.557); RGB{N0f8}(0.675,0.584,0.859) RGB{N0f8}(0.314,0.18,0.482) … RGB{N0f8}(0.631,0.298,0.663) RGB{N0f8}(0.702,0.376,0.729); … ; RGB{N0f8}(0.639,0.388,0.718) RGB{N0f8}(0.643,0.376,0.71) … RGB{N0f8}(0.655,0.443,0.686) RGB{N0f8}(0.831,0.612,0.851); RGB{N0f8}(0.745,0.545,0.847) RGB{N0f8}(0.659,0.42,0.733) … RGB{N0f8}(0.812,0.616,0.847) RGB{N0f8}(0.541,0.341,0.561)]\n",
       " [RGB{N0f8}(0.847,0.588,0.694) RGB{N0f8}(0.882,0.631,0.733) … RGB{N0f8}(0.996,0.733,0.855) RGB{N0f8}(0.435,0.18,0.298); RGB{N0f8}(0.918,0.659,0.765) RGB{N0f8}(0.827,0.576,0.678) … RGB{N0f8}(0.788,0.525,0.655) RGB{N0f8}(0.776,0.522,0.647); … ; RGB{N0f8}(0.788,0.51,0.627) RGB{N0f8}(0.792,0.514,0.631) … RGB{N0f8}(0.51,0.282,0.439) RGB{N0f8}(0.439,0.22,0.373); RGB{N0f8}(0.867,0.588,0.714) RGB{N0f8}(0.82,0.533,0.651) … RGB{N0f8}(0.694,0.455,0.616) RGB{N0f8}(0.733,0.506,0.663)]\n",
       " [RGB{N0f8}(0.165,0.024,0.4) RGB{N0f8}(0.204,0.09,0.443) … RGB{N0f8}(0.996,0.576,0.992) RGB{N0f8}(0.765,0.337,0.765); RGB{N0f8}(0.357,0.133,0.514) RGB{N0f8}(0.298,0.106,0.463) … RGB{N0f8}(0.722,0.361,0.749) RGB{N0f8}(0.639,0.302,0.69); … ; RGB{N0f8}(0.365,0.09,0.475) RGB{N0f8}(0.396,0.137,0.522) … RGB{N0f8}(0.349,0.137,0.522) RGB{N0f8}(0.38,0.169,0.553); RGB{N0f8}(0.4,0.082,0.482) RGB{N0f8}(0.541,0.239,0.639) … RGB{N0f8}(0.353,0.153,0.525) RGB{N0f8}(0.357,0.157,0.529)]"
      ]
     },
     "execution_count": 17,
     "metadata": {},
     "output_type": "execute_result"
    }
   ],
   "source": [
    "# Insertamos la nueva columna con la información RGB correspondiente a cada imagen\n",
    "df.images = train_images"
   ]
  },
  {
   "cell_type": "code",
   "execution_count": 18,
   "metadata": {},
   "outputs": [
    {
     "data": {
      "text/html": [
       "<div><div style = \"float: left;\"><span>1000×4 DataFrame</span></div><div style = \"float: right;\"><span style = \"font-style: italic;\">975 rows omitted</span></div><div style = \"clear: both;\"></div></div><div class = \"data-frame\" style = \"overflow-x: scroll;\"><table class = \"data-frame\" style = \"margin-bottom: 6px;\"><thead><tr class = \"header\"><th class = \"rowNumber\" style = \"font-weight: bold; text-align: right;\">Row</th><th style = \"text-align: left;\">id</th><th style = \"text-align: left;\">label</th><th style = \"text-align: left;\">image_path</th><th style = \"text-align: left;\">images</th></tr><tr class = \"subheader headerLastRow\"><th class = \"rowNumber\" style = \"font-weight: bold; text-align: right;\"></th><th title = \"String\" style = \"text-align: left;\">String</th><th title = \"Int64\" style = \"text-align: left;\">Int64</th><th title = \"String\" style = \"text-align: left;\">String</th><th title = \"Matrix{RGB}\" style = \"text-align: left;\">Array…</th></tr></thead><tbody><tr><td class = \"rowNumber\" style = \"font-weight: bold; text-align: right;\">1</td><td style = \"text-align: left;\">0655891cc0f8cff190a182c0511ce12f5d9e0145</td><td style = \"text-align: right;\">1</td><td style = \"text-align: left;\">../input/histopathologic-cancer-detection/train/0655891cc0f8cff190a182c0511ce12f5d9e0145.tif</td><td style = \"text-align: left;\">RGB[RGB{N0f8}(0.227,0.145,0.549) RGB{N0f8}(0.267,0.169,0.569) … RGB{N0f8}(0.153,0.063,0.329) RGB{N0f8}(0.129,0.055,0.306); RGB{N0f8}(0.173,0.024,0.427) RGB{N0f8}(0.275,0.106,0.518) … RGB{N0f8}(0.149,0.043,0.322) RGB{N0f8}(0.122,0.024,0.29); … ; RGB{N0f8}(0.655,0.341,0.714) RGB{N0f8}(0.573,0.255,0.627) … RGB{N0f8}(0.251,0.078,0.373) RGB{N0f8}(0.251,0.078,0.373); RGB{N0f8}(0.392,0.098,0.471) RGB{N0f8}(0.612,0.298,0.678) … RGB{N0f8}(0.231,0.059,0.353) RGB{N0f8}(0.204,0.031,0.325)]</td></tr><tr><td class = \"rowNumber\" style = \"font-weight: bold; text-align: right;\">2</td><td style = \"text-align: left;\">50bd266a907e0a5c648e959277745ddde0b88993</td><td style = \"text-align: right;\">0</td><td style = \"text-align: left;\">../input/histopathologic-cancer-detection/train/50bd266a907e0a5c648e959277745ddde0b88993.tif</td><td style = \"text-align: left;\">RGB[RGB{N0f8}(0.89,0.71,0.812) RGB{N0f8}(0.882,0.718,0.812) … RGB{N0f8}(0.518,0.396,0.455) RGB{N0f8}(1.0,0.91,0.969); RGB{N0f8}(0.957,0.78,0.871) RGB{N0f8}(0.914,0.749,0.835) … RGB{N0f8}(0.91,0.8,0.855) RGB{N0f8}(0.796,0.686,0.741); … ; RGB{N0f8}(0.957,0.749,0.812) RGB{N0f8}(0.714,0.506,0.576) … RGB{N0f8}(1.0,0.949,1.0) RGB{N0f8}(0.914,0.827,0.878); RGB{N0f8}(0.988,0.8,0.855) RGB{N0f8}(0.847,0.659,0.714) … RGB{N0f8}(0.792,0.702,0.765) RGB{N0f8}(0.839,0.745,0.808)]</td></tr><tr><td class = \"rowNumber\" style = \"font-weight: bold; text-align: right;\">3</td><td style = \"text-align: left;\">f1be09086e94f056d0089dc0f9e812cf65dcbed7</td><td style = \"text-align: right;\">0</td><td style = \"text-align: left;\">../input/histopathologic-cancer-detection/train/f1be09086e94f056d0089dc0f9e812cf65dcbed7.tif</td><td style = \"text-align: left;\">RGB[RGB{N0f8}(0.396,0.2,0.431) RGB{N0f8}(0.745,0.561,0.773) … RGB{N0f8}(0.765,0.616,0.667) RGB{N0f8}(0.655,0.502,0.576); RGB{N0f8}(0.686,0.518,0.698) RGB{N0f8}(0.337,0.169,0.345) … RGB{N0f8}(0.918,0.784,0.847) RGB{N0f8}(0.839,0.702,0.788); … ; RGB{N0f8}(0.992,0.898,0.953) RGB{N0f8}(0.914,0.827,0.878) … RGB{N0f8}(0.984,0.882,0.925) RGB{N0f8}(0.953,0.855,0.839); RGB{N0f8}(0.89,0.808,0.875) RGB{N0f8}(0.882,0.808,0.882) … RGB{N0f8}(1.0,0.945,0.976) RGB{N0f8}(0.894,0.808,0.765)]</td></tr><tr><td class = \"rowNumber\" style = \"font-weight: bold; text-align: right;\">4</td><td style = \"text-align: left;\">e91d656c816edc5c1931c61699c87552e0914adc</td><td style = \"text-align: right;\">0</td><td style = \"text-align: left;\">../input/histopathologic-cancer-detection/train/e91d656c816edc5c1931c61699c87552e0914adc.tif</td><td style = \"text-align: left;\">RGB[RGB{N0f8}(0.898,0.761,0.918) RGB{N0f8}(0.82,0.667,0.843) … RGB{N0f8}(1.0,0.949,1.0) RGB{N0f8}(0.875,0.812,0.914); RGB{N0f8}(0.89,0.757,0.855) RGB{N0f8}(0.729,0.576,0.698) … RGB{N0f8}(0.89,0.812,0.847) RGB{N0f8}(0.624,0.549,0.627); … ; RGB{N0f8}(0.894,0.725,0.843) RGB{N0f8}(0.745,0.584,0.718) … RGB{N0f8}(0.808,0.631,0.761) RGB{N0f8}(0.8,0.612,0.769); RGB{N0f8}(0.694,0.553,0.655) RGB{N0f8}(0.843,0.698,0.82) … RGB{N0f8}(0.847,0.667,0.769) RGB{N0f8}(0.855,0.671,0.796)]</td></tr><tr><td class = \"rowNumber\" style = \"font-weight: bold; text-align: right;\">5</td><td style = \"text-align: left;\">08053e213515a9fffd813ba52e79caefd816f8a3</td><td style = \"text-align: right;\">1</td><td style = \"text-align: left;\">../input/histopathologic-cancer-detection/train/08053e213515a9fffd813ba52e79caefd816f8a3.tif</td><td style = \"text-align: left;\">RGB[RGB{N0f8}(0.89,0.651,0.812) RGB{N0f8}(1.0,0.831,0.969) … RGB{N0f8}(0.82,0.631,0.733) RGB{N0f8}(0.867,0.69,0.773); RGB{N0f8}(0.502,0.263,0.427) RGB{N0f8}(0.506,0.333,0.475) … RGB{N0f8}(1.0,0.859,0.937) RGB{N0f8}(0.749,0.576,0.635); … ; RGB{N0f8}(0.275,0.086,0.282) RGB{N0f8}(0.263,0.11,0.282) … RGB{N0f8}(0.933,0.812,0.831) RGB{N0f8}(1.0,0.969,0.973); RGB{N0f8}(0.271,0.086,0.298) RGB{N0f8}(0.235,0.082,0.259) … RGB{N0f8}(0.855,0.753,0.757) RGB{N0f8}(1.0,0.918,0.906)]</td></tr><tr><td class = \"rowNumber\" style = \"font-weight: bold; text-align: right;\">6</td><td style = \"text-align: left;\">325844041d0e9f2a7cde0b2a2c05128175a240ff</td><td style = \"text-align: right;\">0</td><td style = \"text-align: left;\">../input/histopathologic-cancer-detection/train/325844041d0e9f2a7cde0b2a2c05128175a240ff.tif</td><td style = \"text-align: left;\">RGB[RGB{N0f8}(0.31,0.161,0.596) RGB{N0f8}(0.329,0.204,0.584) … RGB{N0f8}(0.647,0.412,0.757) RGB{N0f8}(0.38,0.114,0.455); RGB{N0f8}(0.235,0.094,0.486) RGB{N0f8}(0.282,0.157,0.537) … RGB{N0f8}(0.871,0.659,0.988) RGB{N0f8}(0.545,0.294,0.624); … ; RGB{N0f8}(0.624,0.361,0.741) RGB{N0f8}(0.89,0.643,0.918) … RGB{N0f8}(0.561,0.38,0.808) RGB{N0f8}(0.451,0.29,0.651); RGB{N0f8}(0.918,0.627,1.0) RGB{N0f8}(0.965,0.706,0.957) … RGB{N0f8}(0.408,0.235,0.686) RGB{N0f8}(0.596,0.435,0.796)]</td></tr><tr><td class = \"rowNumber\" style = \"font-weight: bold; text-align: right;\">7</td><td style = \"text-align: left;\">a3ae00594011f19aeec86c41d739c0f000981cb6</td><td style = \"text-align: right;\">0</td><td style = \"text-align: left;\">../input/histopathologic-cancer-detection/train/a3ae00594011f19aeec86c41d739c0f000981cb6.tif</td><td style = \"text-align: left;\">RGB[RGB{N0f8}(0.863,0.561,0.78) RGB{N0f8}(0.729,0.455,0.651) … RGB{N0f8}(0.804,0.71,0.765) RGB{N0f8}(0.867,0.761,0.82); RGB{N0f8}(0.616,0.341,0.553) RGB{N0f8}(0.733,0.482,0.678) … RGB{N0f8}(0.733,0.624,0.682) RGB{N0f8}(0.788,0.667,0.729); … ; RGB{N0f8}(0.875,0.859,0.863) RGB{N0f8}(0.878,0.863,0.867) … RGB{N0f8}(0.722,0.592,0.698) RGB{N0f8}(0.675,0.537,0.655); RGB{N0f8}(0.871,0.855,0.859) RGB{N0f8}(0.878,0.863,0.867) … RGB{N0f8}(0.776,0.631,0.753) RGB{N0f8}(0.698,0.541,0.675)]</td></tr><tr><td class = \"rowNumber\" style = \"font-weight: bold; text-align: right;\">8</td><td style = \"text-align: left;\">4984042a48026f8facf3b58fdb33ea5f6b562526</td><td style = \"text-align: right;\">0</td><td style = \"text-align: left;\">../input/histopathologic-cancer-detection/train/4984042a48026f8facf3b58fdb33ea5f6b562526.tif</td><td style = \"text-align: left;\">RGB[RGB{N0f8}(0.922,0.773,0.824) RGB{N0f8}(0.894,0.729,0.816) … RGB{N0f8}(0.902,0.588,0.686) RGB{N0f8}(0.957,0.663,0.753); RGB{N0f8}(0.945,0.796,0.855) RGB{N0f8}(0.824,0.651,0.749) … RGB{N0f8}(0.851,0.525,0.627) RGB{N0f8}(0.886,0.58,0.675); … ; RGB{N0f8}(0.8,0.659,0.667) RGB{N0f8}(1.0,0.898,0.976) … RGB{N0f8}(0.949,0.824,0.875) RGB{N0f8}(0.878,0.769,0.816); RGB{N0f8}(0.78,0.643,0.635) RGB{N0f8}(1.0,0.902,0.969) … RGB{N0f8}(0.753,0.584,0.651) RGB{N0f8}(1.0,0.859,0.914)]</td></tr><tr><td class = \"rowNumber\" style = \"font-weight: bold; text-align: right;\">9</td><td style = \"text-align: left;\">21688ea4804321d49a7a24cd34567e0c67e1b31f</td><td style = \"text-align: right;\">1</td><td style = \"text-align: left;\">../input/histopathologic-cancer-detection/train/21688ea4804321d49a7a24cd34567e0c67e1b31f.tif</td><td style = \"text-align: left;\">RGB[RGB{N0f8}(0.886,0.89,0.898) RGB{N0f8}(0.886,0.89,0.898) … RGB{N0f8}(0.925,0.812,0.933) RGB{N0f8}(0.914,0.8,0.922); RGB{N0f8}(0.882,0.886,0.894) RGB{N0f8}(0.882,0.886,0.894) … RGB{N0f8}(0.984,0.902,0.976) RGB{N0f8}(0.969,0.886,0.953); … ; RGB{N0f8}(0.882,0.886,0.894) RGB{N0f8}(0.882,0.89,0.886) … RGB{N0f8}(0.875,0.894,0.878) RGB{N0f8}(0.902,0.922,0.906); RGB{N0f8}(0.878,0.882,0.89) RGB{N0f8}(0.878,0.886,0.882) … RGB{N0f8}(0.863,0.882,0.898) RGB{N0f8}(0.871,0.89,0.906)]</td></tr><tr><td class = \"rowNumber\" style = \"font-weight: bold; text-align: right;\">10</td><td style = \"text-align: left;\">097b7d880b8e08bb52446ecc226f1704b5745e61</td><td style = \"text-align: right;\">0</td><td style = \"text-align: left;\">../input/histopathologic-cancer-detection/train/097b7d880b8e08bb52446ecc226f1704b5745e61.tif</td><td style = \"text-align: left;\">RGB[RGB{N0f8}(0.204,0.114,0.224) RGB{N0f8}(0.118,0.02,0.137) … RGB{N0f8}(0.757,0.451,0.553) RGB{N0f8}(0.788,0.475,0.58); RGB{N0f8}(0.161,0.031,0.153) RGB{N0f8}(0.196,0.067,0.188) … RGB{N0f8}(0.788,0.475,0.58) RGB{N0f8}(0.686,0.373,0.478); … ; RGB{N0f8}(0.906,0.643,0.773) RGB{N0f8}(0.922,0.686,0.788) … RGB{N0f8}(0.275,0.086,0.275) RGB{N0f8}(0.329,0.2,0.384); RGB{N0f8}(0.671,0.365,0.467) RGB{N0f8}(0.733,0.467,0.549) … RGB{N0f8}(0.302,0.145,0.282) RGB{N0f8}(0.267,0.173,0.314)]</td></tr><tr><td class = \"rowNumber\" style = \"font-weight: bold; text-align: right;\">11</td><td style = \"text-align: left;\">6a72d1f51924d19ecf8e29a6fa09acfaba064525</td><td style = \"text-align: right;\">0</td><td style = \"text-align: left;\">../input/histopathologic-cancer-detection/train/6a72d1f51924d19ecf8e29a6fa09acfaba064525.tif</td><td style = \"text-align: left;\">RGB[RGB{N0f8}(0.78,0.729,0.757) RGB{N0f8}(0.792,0.741,0.769) … RGB{N0f8}(0.416,0.216,0.384) RGB{N0f8}(0.592,0.369,0.545); RGB{N0f8}(0.859,0.816,0.839) RGB{N0f8}(0.847,0.804,0.827) … RGB{N0f8}(0.314,0.125,0.29) RGB{N0f8}(0.424,0.216,0.388); … ; RGB{N0f8}(0.937,0.937,0.929) RGB{N0f8}(0.937,0.937,0.929) … RGB{N0f8}(0.816,0.616,0.745) RGB{N0f8}(0.361,0.196,0.337); RGB{N0f8}(0.937,0.937,0.929) RGB{N0f8}(0.937,0.937,0.929) … RGB{N0f8}(0.627,0.435,0.561) RGB{N0f8}(0.627,0.471,0.608)]</td></tr><tr><td class = \"rowNumber\" style = \"font-weight: bold; text-align: right;\">12</td><td style = \"text-align: left;\">d7be202747ae8700936083591d58d4f9e551aadf</td><td style = \"text-align: right;\">1</td><td style = \"text-align: left;\">../input/histopathologic-cancer-detection/train/d7be202747ae8700936083591d58d4f9e551aadf.tif</td><td style = \"text-align: left;\">RGB[RGB{N0f8}(0.486,0.329,0.71) RGB{N0f8}(0.392,0.22,0.592) … RGB{N0f8}(0.537,0.329,0.643) RGB{N0f8}(0.529,0.325,0.647); RGB{N0f8}(0.486,0.325,0.702) RGB{N0f8}(0.565,0.388,0.753) … RGB{N0f8}(0.639,0.427,0.765) RGB{N0f8}(0.667,0.455,0.792); … ; RGB{N0f8}(0.569,0.333,0.671) RGB{N0f8}(0.671,0.451,0.792) … RGB{N0f8}(0.498,0.298,0.663) RGB{N0f8}(0.443,0.263,0.647); RGB{N0f8}(0.89,0.659,0.973) RGB{N0f8}(0.714,0.498,0.824) … RGB{N0f8}(0.455,0.263,0.612) RGB{N0f8}(0.584,0.416,0.769)]</td></tr><tr><td class = \"rowNumber\" style = \"font-weight: bold; text-align: right;\">13</td><td style = \"text-align: left;\">16c56addf9e220e2974d7059ebc97f38da548761</td><td style = \"text-align: right;\">0</td><td style = \"text-align: left;\">../input/histopathologic-cancer-detection/train/16c56addf9e220e2974d7059ebc97f38da548761.tif</td><td style = \"text-align: left;\">RGB[RGB{N0f8}(0.412,0.239,0.612) RGB{N0f8}(0.408,0.212,0.655) … RGB{N0f8}(0.518,0.302,0.702) RGB{N0f8}(0.275,0.102,0.475); RGB{N0f8}(0.439,0.259,0.643) RGB{N0f8}(0.294,0.098,0.541) … RGB{N0f8}(0.494,0.306,0.698) RGB{N0f8}(0.29,0.133,0.51); … ; RGB{N0f8}(0.353,0.11,0.498) RGB{N0f8}(0.592,0.337,0.737) … RGB{N0f8}(0.592,0.302,0.643) RGB{N0f8}(0.69,0.38,0.698); RGB{N0f8}(0.498,0.216,0.647) RGB{N0f8}(0.576,0.29,0.714) … RGB{N0f8}(0.678,0.384,0.718) RGB{N0f8}(0.824,0.514,0.839)]</td></tr><tr><td style = \"text-align: right;\">&vellip;</td><td style = \"text-align: right;\">&vellip;</td><td style = \"text-align: right;\">&vellip;</td><td style = \"text-align: right;\">&vellip;</td><td style = \"text-align: right;\">&vellip;</td></tr><tr><td class = \"rowNumber\" style = \"font-weight: bold; text-align: right;\">989</td><td style = \"text-align: left;\">23a853ad45352e51f8e7f654a3f41045390eef84</td><td style = \"text-align: right;\">0</td><td style = \"text-align: left;\">../input/histopathologic-cancer-detection/train/23a853ad45352e51f8e7f654a3f41045390eef84.tif</td><td style = \"text-align: left;\">RGB[RGB{N0f8}(0.094,0.0,0.322) RGB{N0f8}(0.412,0.216,0.557) … RGB{N0f8}(0.651,0.482,0.753) RGB{N0f8}(0.294,0.141,0.404); RGB{N0f8}(0.227,0.141,0.467) RGB{N0f8}(0.173,0.0,0.337) … RGB{N0f8}(0.231,0.047,0.361) RGB{N0f8}(0.247,0.086,0.392); … ; RGB{N0f8}(0.906,0.769,1.0) RGB{N0f8}(0.557,0.396,0.671) … RGB{N0f8}(0.506,0.294,0.588) RGB{N0f8}(0.439,0.208,0.522); RGB{N0f8}(0.8,0.682,0.894) RGB{N0f8}(0.592,0.435,0.671) … RGB{N0f8}(0.773,0.518,0.871) RGB{N0f8}(0.961,0.686,1.0)]</td></tr><tr><td class = \"rowNumber\" style = \"font-weight: bold; text-align: right;\">990</td><td style = \"text-align: left;\">015bdde729841fca9870c138deedca1fa587694d</td><td style = \"text-align: right;\">1</td><td style = \"text-align: left;\">../input/histopathologic-cancer-detection/train/015bdde729841fca9870c138deedca1fa587694d.tif</td><td style = \"text-align: left;\">RGB[RGB{N0f8}(0.675,0.337,0.624) RGB{N0f8}(0.863,0.525,0.804) … RGB{N0f8}(0.788,0.686,0.824) RGB{N0f8}(0.925,0.902,1.0); RGB{N0f8}(0.898,0.573,0.855) RGB{N0f8}(0.725,0.4,0.675) … RGB{N0f8}(0.761,0.584,0.753) RGB{N0f8}(0.58,0.447,0.592); … ; RGB{N0f8}(0.459,0.247,0.49) RGB{N0f8}(0.612,0.431,0.686) … RGB{N0f8}(0.765,0.576,0.733) RGB{N0f8}(0.749,0.529,0.722); RGB{N0f8}(0.251,0.043,0.31) RGB{N0f8}(0.631,0.439,0.749) … RGB{N0f8}(0.529,0.325,0.475) RGB{N0f8}(0.549,0.318,0.498)]</td></tr><tr><td class = \"rowNumber\" style = \"font-weight: bold; text-align: right;\">991</td><td style = \"text-align: left;\">8ab19d094aa5cfd9d3a791456f21b78739357239</td><td style = \"text-align: right;\">1</td><td style = \"text-align: left;\">../input/histopathologic-cancer-detection/train/8ab19d094aa5cfd9d3a791456f21b78739357239.tif</td><td style = \"text-align: left;\">RGB[RGB{N0f8}(0.847,0.863,0.859) RGB{N0f8}(0.878,0.882,0.89) … RGB{N0f8}(0.855,0.655,0.886) RGB{N0f8}(0.784,0.6,0.812); RGB{N0f8}(0.863,0.878,0.875) RGB{N0f8}(0.878,0.882,0.89) … RGB{N0f8}(0.859,0.682,0.906) RGB{N0f8}(0.859,0.71,0.902); … ; RGB{N0f8}(0.941,0.776,0.925) RGB{N0f8}(0.894,0.737,0.882) … RGB{N0f8}(0.694,0.412,0.698) RGB{N0f8}(0.792,0.506,0.784); RGB{N0f8}(0.922,0.761,0.925) RGB{N0f8}(0.867,0.718,0.878) … RGB{N0f8}(0.827,0.522,0.816) RGB{N0f8}(0.937,0.624,0.91)]</td></tr><tr><td class = \"rowNumber\" style = \"font-weight: bold; text-align: right;\">992</td><td style = \"text-align: left;\">2f7862982e01caffd7a47a6cef241968be766747</td><td style = \"text-align: right;\">0</td><td style = \"text-align: left;\">../input/histopathologic-cancer-detection/train/2f7862982e01caffd7a47a6cef241968be766747.tif</td><td style = \"text-align: left;\">RGB[RGB{N0f8}(1.0,0.863,0.945) RGB{N0f8}(0.706,0.529,0.62) … RGB{N0f8}(0.459,0.392,0.467) RGB{N0f8}(0.737,0.694,0.718); RGB{N0f8}(0.58,0.404,0.565) RGB{N0f8}(0.412,0.235,0.396) … RGB{N0f8}(0.624,0.553,0.647) RGB{N0f8}(1.0,0.98,1.0); … ; RGB{N0f8}(0.404,0.243,0.4) RGB{N0f8}(0.255,0.094,0.251) … RGB{N0f8}(0.31,0.157,0.333) RGB{N0f8}(0.424,0.267,0.463); RGB{N0f8}(0.337,0.188,0.333) RGB{N0f8}(0.424,0.275,0.427) … RGB{N0f8}(0.235,0.071,0.267) RGB{N0f8}(0.247,0.071,0.294)]</td></tr><tr><td class = \"rowNumber\" style = \"font-weight: bold; text-align: right;\">993</td><td style = \"text-align: left;\">9b713aa08699e40ca436abcfc11c385c35d763f7</td><td style = \"text-align: right;\">0</td><td style = \"text-align: left;\">../input/histopathologic-cancer-detection/train/9b713aa08699e40ca436abcfc11c385c35d763f7.tif</td><td style = \"text-align: left;\">RGB[RGB{N0f8}(0.224,0.082,0.231) RGB{N0f8}(0.267,0.118,0.271) … RGB{N0f8}(0.2,0.059,0.2) RGB{N0f8}(0.929,0.792,0.922); RGB{N0f8}(0.231,0.067,0.224) RGB{N0f8}(0.251,0.075,0.227) … RGB{N0f8}(0.169,0.051,0.192) RGB{N0f8}(0.314,0.196,0.329); … ; RGB{N0f8}(0.267,0.102,0.298) RGB{N0f8}(0.298,0.145,0.329) … RGB{N0f8}(0.341,0.161,0.345) RGB{N0f8}(0.239,0.039,0.259); RGB{N0f8}(0.271,0.114,0.31) RGB{N0f8}(0.192,0.063,0.247) … RGB{N0f8}(0.38,0.255,0.4) RGB{N0f8}(0.176,0.039,0.204)]</td></tr><tr><td class = \"rowNumber\" style = \"font-weight: bold; text-align: right;\">994</td><td style = \"text-align: left;\">90cab9104fa89c2dc8f982fb7735b81a076c2c9b</td><td style = \"text-align: right;\">0</td><td style = \"text-align: left;\">../input/histopathologic-cancer-detection/train/90cab9104fa89c2dc8f982fb7735b81a076c2c9b.tif</td><td style = \"text-align: left;\">RGB[RGB{N0f8}(0.941,0.875,1.0) RGB{N0f8}(0.329,0.208,0.471) … RGB{N0f8}(0.275,0.133,0.478) RGB{N0f8}(0.263,0.129,0.498); RGB{N0f8}(0.678,0.573,0.851) RGB{N0f8}(0.749,0.588,0.894) … RGB{N0f8}(0.702,0.549,0.867) RGB{N0f8}(0.471,0.322,0.663); … ; RGB{N0f8}(0.584,0.361,0.671) RGB{N0f8}(0.596,0.416,0.71) … RGB{N0f8}(0.953,0.843,0.992) RGB{N0f8}(0.937,0.839,0.922); RGB{N0f8}(0.643,0.396,0.706) RGB{N0f8}(0.561,0.353,0.659) … RGB{N0f8}(0.906,0.788,0.929) RGB{N0f8}(0.902,0.788,0.859)]</td></tr><tr><td class = \"rowNumber\" style = \"font-weight: bold; text-align: right;\">995</td><td style = \"text-align: left;\">4fcc849e71def8144263abded575e73710877adb</td><td style = \"text-align: right;\">0</td><td style = \"text-align: left;\">../input/histopathologic-cancer-detection/train/4fcc849e71def8144263abded575e73710877adb.tif</td><td style = \"text-align: left;\">RGB[RGB{N0f8}(0.831,0.522,0.831) RGB{N0f8}(0.808,0.502,0.796) … RGB{N0f8}(0.922,0.522,0.812) RGB{N0f8}(0.827,0.431,0.737); RGB{N0f8}(0.984,0.69,0.82) RGB{N0f8}(0.816,0.518,0.659) … RGB{N0f8}(0.859,0.475,0.761) RGB{N0f8}(0.753,0.376,0.667); … ; RGB{N0f8}(0.863,0.843,0.859) RGB{N0f8}(0.863,0.843,0.859) … RGB{N0f8}(0.808,0.486,0.404) RGB{N0f8}(0.867,0.482,0.447); RGB{N0f8}(0.863,0.843,0.859) RGB{N0f8}(0.863,0.843,0.859) … RGB{N0f8}(0.769,0.447,0.298) RGB{N0f8}(0.714,0.329,0.216)]</td></tr><tr><td class = \"rowNumber\" style = \"font-weight: bold; text-align: right;\">996</td><td style = \"text-align: left;\">6c7565bfc2cec4f16bb5394ab7cd4663e5a2ef12</td><td style = \"text-align: right;\">0</td><td style = \"text-align: left;\">../input/histopathologic-cancer-detection/train/6c7565bfc2cec4f16bb5394ab7cd4663e5a2ef12.tif</td><td style = \"text-align: left;\">RGB[RGB{N0f8}(0.835,0.796,0.839) RGB{N0f8}(0.902,0.871,0.922) … RGB{N0f8}(0.914,0.902,0.929) RGB{N0f8}(0.914,0.902,0.929); RGB{N0f8}(0.871,0.824,0.871) RGB{N0f8}(0.894,0.851,0.906) … RGB{N0f8}(0.914,0.902,0.929) RGB{N0f8}(0.914,0.902,0.929); … ; RGB{N0f8}(0.922,0.906,0.961) RGB{N0f8}(1.0,0.949,1.0) … RGB{N0f8}(0.898,0.89,0.902) RGB{N0f8}(0.898,0.898,0.906); RGB{N0f8}(0.906,0.898,0.953) RGB{N0f8}(1.0,0.969,1.0) … RGB{N0f8}(0.898,0.89,0.902) RGB{N0f8}(0.89,0.89,0.898)]</td></tr><tr><td class = \"rowNumber\" style = \"font-weight: bold; text-align: right;\">997</td><td style = \"text-align: left;\">7e9798b9c82b0120fa5b5920e5ee2b6141383315</td><td style = \"text-align: right;\">0</td><td style = \"text-align: left;\">../input/histopathologic-cancer-detection/train/7e9798b9c82b0120fa5b5920e5ee2b6141383315.tif</td><td style = \"text-align: left;\">RGB[RGB{N0f8}(0.596,0.424,0.482) RGB{N0f8}(0.608,0.439,0.506) … RGB{N0f8}(0.22,0.075,0.196) RGB{N0f8}(0.431,0.271,0.404); RGB{N0f8}(0.745,0.573,0.663) RGB{N0f8}(1.0,0.843,0.937) … RGB{N0f8}(0.843,0.702,0.812) RGB{N0f8}(1.0,0.863,0.984); … ; RGB{N0f8}(0.875,0.761,0.776) RGB{N0f8}(1.0,0.953,1.0) … RGB{N0f8}(0.651,0.525,0.686) RGB{N0f8}(0.153,0.039,0.22); RGB{N0f8}(0.843,0.729,0.749) RGB{N0f8}(0.824,0.71,0.78) … RGB{N0f8}(0.647,0.502,0.706) RGB{N0f8}(0.216,0.082,0.318)]</td></tr><tr><td class = \"rowNumber\" style = \"font-weight: bold; text-align: right;\">998</td><td style = \"text-align: left;\">d4ba1b179fea3771a4ddf2be024f92425379e5f4</td><td style = \"text-align: right;\">1</td><td style = \"text-align: left;\">../input/histopathologic-cancer-detection/train/d4ba1b179fea3771a4ddf2be024f92425379e5f4.tif</td><td style = \"text-align: left;\">RGB[RGB{N0f8}(0.443,0.333,0.624) RGB{N0f8}(0.306,0.161,0.467) … RGB{N0f8}(0.604,0.251,0.627) RGB{N0f8}(0.525,0.184,0.557); RGB{N0f8}(0.675,0.584,0.859) RGB{N0f8}(0.314,0.18,0.482) … RGB{N0f8}(0.631,0.298,0.663) RGB{N0f8}(0.702,0.376,0.729); … ; RGB{N0f8}(0.639,0.388,0.718) RGB{N0f8}(0.643,0.376,0.71) … RGB{N0f8}(0.655,0.443,0.686) RGB{N0f8}(0.831,0.612,0.851); RGB{N0f8}(0.745,0.545,0.847) RGB{N0f8}(0.659,0.42,0.733) … RGB{N0f8}(0.812,0.616,0.847) RGB{N0f8}(0.541,0.341,0.561)]</td></tr><tr><td class = \"rowNumber\" style = \"font-weight: bold; text-align: right;\">999</td><td style = \"text-align: left;\">4bebf95f3d7ec4227178397df8e2aad3faa5f955</td><td style = \"text-align: right;\">1</td><td style = \"text-align: left;\">../input/histopathologic-cancer-detection/train/4bebf95f3d7ec4227178397df8e2aad3faa5f955.tif</td><td style = \"text-align: left;\">RGB[RGB{N0f8}(0.847,0.588,0.694) RGB{N0f8}(0.882,0.631,0.733) … RGB{N0f8}(0.996,0.733,0.855) RGB{N0f8}(0.435,0.18,0.298); RGB{N0f8}(0.918,0.659,0.765) RGB{N0f8}(0.827,0.576,0.678) … RGB{N0f8}(0.788,0.525,0.655) RGB{N0f8}(0.776,0.522,0.647); … ; RGB{N0f8}(0.788,0.51,0.627) RGB{N0f8}(0.792,0.514,0.631) … RGB{N0f8}(0.51,0.282,0.439) RGB{N0f8}(0.439,0.22,0.373); RGB{N0f8}(0.867,0.588,0.714) RGB{N0f8}(0.82,0.533,0.651) … RGB{N0f8}(0.694,0.455,0.616) RGB{N0f8}(0.733,0.506,0.663)]</td></tr><tr><td class = \"rowNumber\" style = \"font-weight: bold; text-align: right;\">1000</td><td style = \"text-align: left;\">560cf9f4e75b89072fcdc7f84ffcd896276a291a</td><td style = \"text-align: right;\">1</td><td style = \"text-align: left;\">../input/histopathologic-cancer-detection/train/560cf9f4e75b89072fcdc7f84ffcd896276a291a.tif</td><td style = \"text-align: left;\">RGB[RGB{N0f8}(0.165,0.024,0.4) RGB{N0f8}(0.204,0.09,0.443) … RGB{N0f8}(0.996,0.576,0.992) RGB{N0f8}(0.765,0.337,0.765); RGB{N0f8}(0.357,0.133,0.514) RGB{N0f8}(0.298,0.106,0.463) … RGB{N0f8}(0.722,0.361,0.749) RGB{N0f8}(0.639,0.302,0.69); … ; RGB{N0f8}(0.365,0.09,0.475) RGB{N0f8}(0.396,0.137,0.522) … RGB{N0f8}(0.349,0.137,0.522) RGB{N0f8}(0.38,0.169,0.553); RGB{N0f8}(0.4,0.082,0.482) RGB{N0f8}(0.541,0.239,0.639) … RGB{N0f8}(0.353,0.153,0.525) RGB{N0f8}(0.357,0.157,0.529)]</td></tr></tbody></table></div>"
      ],
      "text/latex": [
       "\\begin{tabular}{r|cccc}\n",
       "\t& id & label & image\\_path & \\\\\n",
       "\t\\hline\n",
       "\t& String & Int64 & String & \\\\\n",
       "\t\\hline\n",
       "\t1 & 0655891cc0f8cff190a182c0511ce12f5d9e0145 & 1 & ../input/histopathologic-cancer-detection/train/0655891cc0f8cff190a182c0511ce12f5d9e0145.tif & $\\dots$ \\\\\n",
       "\t2 & 50bd266a907e0a5c648e959277745ddde0b88993 & 0 & ../input/histopathologic-cancer-detection/train/50bd266a907e0a5c648e959277745ddde0b88993.tif & $\\dots$ \\\\\n",
       "\t3 & f1be09086e94f056d0089dc0f9e812cf65dcbed7 & 0 & ../input/histopathologic-cancer-detection/train/f1be09086e94f056d0089dc0f9e812cf65dcbed7.tif & $\\dots$ \\\\\n",
       "\t4 & e91d656c816edc5c1931c61699c87552e0914adc & 0 & ../input/histopathologic-cancer-detection/train/e91d656c816edc5c1931c61699c87552e0914adc.tif & $\\dots$ \\\\\n",
       "\t5 & 08053e213515a9fffd813ba52e79caefd816f8a3 & 1 & ../input/histopathologic-cancer-detection/train/08053e213515a9fffd813ba52e79caefd816f8a3.tif & $\\dots$ \\\\\n",
       "\t6 & 325844041d0e9f2a7cde0b2a2c05128175a240ff & 0 & ../input/histopathologic-cancer-detection/train/325844041d0e9f2a7cde0b2a2c05128175a240ff.tif & $\\dots$ \\\\\n",
       "\t7 & a3ae00594011f19aeec86c41d739c0f000981cb6 & 0 & ../input/histopathologic-cancer-detection/train/a3ae00594011f19aeec86c41d739c0f000981cb6.tif & $\\dots$ \\\\\n",
       "\t8 & 4984042a48026f8facf3b58fdb33ea5f6b562526 & 0 & ../input/histopathologic-cancer-detection/train/4984042a48026f8facf3b58fdb33ea5f6b562526.tif & $\\dots$ \\\\\n",
       "\t9 & 21688ea4804321d49a7a24cd34567e0c67e1b31f & 1 & ../input/histopathologic-cancer-detection/train/21688ea4804321d49a7a24cd34567e0c67e1b31f.tif & $\\dots$ \\\\\n",
       "\t10 & 097b7d880b8e08bb52446ecc226f1704b5745e61 & 0 & ../input/histopathologic-cancer-detection/train/097b7d880b8e08bb52446ecc226f1704b5745e61.tif & $\\dots$ \\\\\n",
       "\t11 & 6a72d1f51924d19ecf8e29a6fa09acfaba064525 & 0 & ../input/histopathologic-cancer-detection/train/6a72d1f51924d19ecf8e29a6fa09acfaba064525.tif & $\\dots$ \\\\\n",
       "\t12 & d7be202747ae8700936083591d58d4f9e551aadf & 1 & ../input/histopathologic-cancer-detection/train/d7be202747ae8700936083591d58d4f9e551aadf.tif & $\\dots$ \\\\\n",
       "\t13 & 16c56addf9e220e2974d7059ebc97f38da548761 & 0 & ../input/histopathologic-cancer-detection/train/16c56addf9e220e2974d7059ebc97f38da548761.tif & $\\dots$ \\\\\n",
       "\t14 & 25169fed201f81954e1e3eb2c575f3d8e48d1f41 & 1 & ../input/histopathologic-cancer-detection/train/25169fed201f81954e1e3eb2c575f3d8e48d1f41.tif & $\\dots$ \\\\\n",
       "\t15 & b1e81489f233b7c2f28e0e6373ea7240d4db6d9a & 0 & ../input/histopathologic-cancer-detection/train/b1e81489f233b7c2f28e0e6373ea7240d4db6d9a.tif & $\\dots$ \\\\\n",
       "\t16 & 14af64d1162ad952044fb00e5ff51b697e4d007b & 0 & ../input/histopathologic-cancer-detection/train/14af64d1162ad952044fb00e5ff51b697e4d007b.tif & $\\dots$ \\\\\n",
       "\t17 & b4b3a7317b7814d0abffd5f695a1d70ec09f3fb8 & 1 & ../input/histopathologic-cancer-detection/train/b4b3a7317b7814d0abffd5f695a1d70ec09f3fb8.tif & $\\dots$ \\\\\n",
       "\t18 & f8b429b45a3749b467efb7f00c0b2533e8efdf93 & 1 & ../input/histopathologic-cancer-detection/train/f8b429b45a3749b467efb7f00c0b2533e8efdf93.tif & $\\dots$ \\\\\n",
       "\t19 & f9b18029b15496528f6789c72e3d80d361ae16e7 & 1 & ../input/histopathologic-cancer-detection/train/f9b18029b15496528f6789c72e3d80d361ae16e7.tif & $\\dots$ \\\\\n",
       "\t20 & 12e3d2b3f60cc1179f66a3dc9c42d030f44af1bd & 0 & ../input/histopathologic-cancer-detection/train/12e3d2b3f60cc1179f66a3dc9c42d030f44af1bd.tif & $\\dots$ \\\\\n",
       "\t21 & 125ede601526cea7833898e86d2f8fb562657a1c & 1 & ../input/histopathologic-cancer-detection/train/125ede601526cea7833898e86d2f8fb562657a1c.tif & $\\dots$ \\\\\n",
       "\t22 & 81d1c7a84b5a537de928de3d9465d57bb373309d & 0 & ../input/histopathologic-cancer-detection/train/81d1c7a84b5a537de928de3d9465d57bb373309d.tif & $\\dots$ \\\\\n",
       "\t23 & 399e78d2e13fd2040b99898854d168cc386a99fd & 0 & ../input/histopathologic-cancer-detection/train/399e78d2e13fd2040b99898854d168cc386a99fd.tif & $\\dots$ \\\\\n",
       "\t24 & eee02991543fe16057dcc3aa8f23cd100c586448 & 1 & ../input/histopathologic-cancer-detection/train/eee02991543fe16057dcc3aa8f23cd100c586448.tif & $\\dots$ \\\\\n",
       "\t25 & 05c7864be959d93e42a490b65318f5330ae00a11 & 1 & ../input/histopathologic-cancer-detection/train/05c7864be959d93e42a490b65318f5330ae00a11.tif & $\\dots$ \\\\\n",
       "\t26 & d555c23aad2513c5b9a1c43e4b524954a958e868 & 0 & ../input/histopathologic-cancer-detection/train/d555c23aad2513c5b9a1c43e4b524954a958e868.tif & $\\dots$ \\\\\n",
       "\t27 & adb853f5e7c17cdb56181c2986c8656250464620 & 1 & ../input/histopathologic-cancer-detection/train/adb853f5e7c17cdb56181c2986c8656250464620.tif & $\\dots$ \\\\\n",
       "\t28 & e7d39a1c0af923931f86944f0e2e22c39c814ab2 & 1 & ../input/histopathologic-cancer-detection/train/e7d39a1c0af923931f86944f0e2e22c39c814ab2.tif & $\\dots$ \\\\\n",
       "\t29 & f5aed547030591efed67ec032a6bf57927ff4947 & 0 & ../input/histopathologic-cancer-detection/train/f5aed547030591efed67ec032a6bf57927ff4947.tif & $\\dots$ \\\\\n",
       "\t30 & 77540a186e07df688bd575c8b3147e777a689b08 & 1 & ../input/histopathologic-cancer-detection/train/77540a186e07df688bd575c8b3147e777a689b08.tif & $\\dots$ \\\\\n",
       "\t$\\dots$ & $\\dots$ & $\\dots$ & $\\dots$ &  \\\\\n",
       "\\end{tabular}\n"
      ],
      "text/plain": [
       "\u001b[1m1000×4 DataFrame\u001b[0m\n",
       "\u001b[1m  Row \u001b[0m│\u001b[1m id                                \u001b[0m\u001b[1m label \u001b[0m\u001b[1m image_path                  \u001b[0m ⋯\n",
       "      │\u001b[90m String                            \u001b[0m\u001b[90m Int64 \u001b[0m\u001b[90m String                      \u001b[0m ⋯\n",
       "──────┼─────────────────────────────────────────────────────────────────────────\n",
       "    1 │ 0655891cc0f8cff190a182c0511ce12f…      1  ../input/histopathologic-can ⋯\n",
       "    2 │ 50bd266a907e0a5c648e959277745ddd…      0  ../input/histopathologic-can\n",
       "    3 │ f1be09086e94f056d0089dc0f9e812cf…      0  ../input/histopathologic-can\n",
       "    4 │ e91d656c816edc5c1931c61699c87552…      0  ../input/histopathologic-can\n",
       "    5 │ 08053e213515a9fffd813ba52e79caef…      1  ../input/histopathologic-can ⋯\n",
       "    6 │ 325844041d0e9f2a7cde0b2a2c051281…      0  ../input/histopathologic-can\n",
       "    7 │ a3ae00594011f19aeec86c41d739c0f0…      0  ../input/histopathologic-can\n",
       "    8 │ 4984042a48026f8facf3b58fdb33ea5f…      0  ../input/histopathologic-can\n",
       "    9 │ 21688ea4804321d49a7a24cd34567e0c…      1  ../input/histopathologic-can ⋯\n",
       "   10 │ 097b7d880b8e08bb52446ecc226f1704…      0  ../input/histopathologic-can\n",
       "   11 │ 6a72d1f51924d19ecf8e29a6fa09acfa…      0  ../input/histopathologic-can\n",
       "  ⋮   │                 ⋮                    ⋮                    ⋮            ⋱\n",
       "  991 │ 8ab19d094aa5cfd9d3a791456f21b787…      1  ../input/histopathologic-can\n",
       "  992 │ 2f7862982e01caffd7a47a6cef241968…      0  ../input/histopathologic-can ⋯\n",
       "  993 │ 9b713aa08699e40ca436abcfc11c385c…      0  ../input/histopathologic-can\n",
       "  994 │ 90cab9104fa89c2dc8f982fb7735b81a…      0  ../input/histopathologic-can\n",
       "  995 │ 4fcc849e71def8144263abded575e737…      0  ../input/histopathologic-can\n",
       "  996 │ 6c7565bfc2cec4f16bb5394ab7cd4663…      0  ../input/histopathologic-can ⋯\n",
       "  997 │ 7e9798b9c82b0120fa5b5920e5ee2b61…      0  ../input/histopathologic-can\n",
       "  998 │ d4ba1b179fea3771a4ddf2be024f9242…      1  ../input/histopathologic-can\n",
       "  999 │ 4bebf95f3d7ec4227178397df8e2aad3…      1  ../input/histopathologic-can\n",
       " 1000 │ 560cf9f4e75b89072fcdc7f84ffcd896…      1  ../input/histopathologic-can ⋯\n",
       "\u001b[36m                                                  2 columns and 979 rows omitted\u001b[0m"
      ]
     },
     "execution_count": 18,
     "metadata": {},
     "output_type": "execute_result"
    }
   ],
   "source": [
    "df"
   ]
  },
  {
   "cell_type": "code",
   "execution_count": 14,
   "metadata": {},
   "outputs": [
    {
     "data": {
      "text/plain": [
       "make_minibatch (generic function with 1 method)"
      ]
     },
     "execution_count": 14,
     "metadata": {},
     "output_type": "execute_result"
    }
   ],
   "source": [
    "# Las redes neuronales se pueden entrenar de manera más eficiente cuando los datos se transmiten en pequeños grupos\n",
    "# o lotes de datos, en lugar de individualmente. \n",
    "# Este también es un procedimiento estándar cuando se trabaja con redes neuronales.\n",
    "# La siguiente función agrupa los datos en mini batches para un posterior entrenamiento de la red.\n",
    "# Luego creamos los minibatches, especificando un batchsize de 128. \n",
    "# El batchsize define el número de muestras que se propagarán a través de la red.\n",
    "function make_minibatch(X, Y, idxs)\n",
    "    X_batch = Array{RGB}(undef, size(X[1])..., 1, length(idxs))\n",
    "    for i in 1:length(idxs)\n",
    "        X_batch[:, :, :, i] = RGB.(X[idxs[i]])\n",
    "    end\n",
    "    Y_batch = onehotbatch(Y[idxs], 0:1)\n",
    "    return (X_batch, Y_batch)\n",
    "end"
   ]
  },
  {
   "cell_type": "code",
   "execution_count": 23,
   "metadata": {},
   "outputs": [
    {
     "data": {
      "text/html": [
       "<div><div style = \"float: left;\"><span>300×4 DataFrame</span></div><div style = \"float: right;\"><span style = \"font-style: italic;\">275 rows omitted</span></div><div style = \"clear: both;\"></div></div><div class = \"data-frame\" style = \"overflow-x: scroll;\"><table class = \"data-frame\" style = \"margin-bottom: 6px;\"><thead><tr class = \"header\"><th class = \"rowNumber\" style = \"font-weight: bold; text-align: right;\">Row</th><th style = \"text-align: left;\">id</th><th style = \"text-align: left;\">label</th><th style = \"text-align: left;\">image_path</th><th style = \"text-align: left;\">images</th></tr><tr class = \"subheader headerLastRow\"><th class = \"rowNumber\" style = \"font-weight: bold; text-align: right;\"></th><th title = \"String\" style = \"text-align: left;\">String</th><th title = \"Int64\" style = \"text-align: left;\">Int64</th><th title = \"String\" style = \"text-align: left;\">String</th><th title = \"Matrix{RGB}\" style = \"text-align: left;\">Array…</th></tr></thead><tbody><tr><td class = \"rowNumber\" style = \"font-weight: bold; text-align: right;\">1</td><td style = \"text-align: left;\">c0062ff9cca635f9437a525c54848b444e302532</td><td style = \"text-align: right;\">0</td><td style = \"text-align: left;\">../input/histopathologic-cancer-detection/train/c0062ff9cca635f9437a525c54848b444e302532.tif</td><td style = \"text-align: left;\">RGB[RGB{N0f8}(0.624,0.494,0.561) RGB{N0f8}(0.212,0.075,0.161) … RGB{N0f8}(0.31,0.145,0.294) RGB{N0f8}(0.42,0.216,0.365); RGB{N0f8}(0.875,0.643,0.761) RGB{N0f8}(0.608,0.392,0.518) … RGB{N0f8}(0.325,0.149,0.302) RGB{N0f8}(0.494,0.29,0.439); … ; RGB{N0f8}(0.196,0.106,0.216) RGB{N0f8}(0.192,0.082,0.231) … RGB{N0f8}(0.624,0.447,0.6) RGB{N0f8}(0.125,0.0,0.133); RGB{N0f8}(0.388,0.318,0.412) RGB{N0f8}(0.235,0.141,0.275) … RGB{N0f8}(0.365,0.216,0.376) RGB{N0f8}(0.149,0.039,0.2)]</td></tr><tr><td class = \"rowNumber\" style = \"font-weight: bold; text-align: right;\">2</td><td style = \"text-align: left;\">28616ce24292c1727522b35f10c4def61c3f962f</td><td style = \"text-align: right;\">0</td><td style = \"text-align: left;\">../input/histopathologic-cancer-detection/train/28616ce24292c1727522b35f10c4def61c3f962f.tif</td><td style = \"text-align: left;\">RGB[RGB{N0f8}(0.396,0.11,0.533) RGB{N0f8}(0.369,0.153,0.553) … RGB{N0f8}(0.514,0.259,0.659) RGB{N0f8}(0.749,0.455,0.867); RGB{N0f8}(0.42,0.2,0.596) RGB{N0f8}(0.384,0.212,0.592) … RGB{N0f8}(0.549,0.353,0.733) RGB{N0f8}(0.4,0.157,0.553); … ; RGB{N0f8}(0.267,0.09,0.447) RGB{N0f8}(0.38,0.188,0.549) … RGB{N0f8}(0.702,0.392,0.753) RGB{N0f8}(0.651,0.302,0.631); RGB{N0f8}(0.325,0.165,0.525) RGB{N0f8}(0.659,0.482,0.847) … RGB{N0f8}(0.792,0.482,0.839) RGB{N0f8}(0.71,0.361,0.69)]</td></tr><tr><td class = \"rowNumber\" style = \"font-weight: bold; text-align: right;\">3</td><td style = \"text-align: left;\">7c94f1592863be0a707834c45f694f5e730267bb</td><td style = \"text-align: right;\">0</td><td style = \"text-align: left;\">../input/histopathologic-cancer-detection/train/7c94f1592863be0a707834c45f694f5e730267bb.tif</td><td style = \"text-align: left;\">RGB[RGB{N0f8}(0.576,0.271,0.459) RGB{N0f8}(0.553,0.286,0.471) … RGB{N0f8}(0.4,0.196,0.388) RGB{N0f8}(0.376,0.169,0.38); RGB{N0f8}(0.729,0.455,0.6) RGB{N0f8}(0.698,0.455,0.6) … RGB{N0f8}(0.416,0.227,0.424) RGB{N0f8}(0.31,0.122,0.318); … ; RGB{N0f8}(0.882,0.765,0.733) RGB{N0f8}(0.976,0.847,0.882) … RGB{N0f8}(0.792,0.584,0.655) RGB{N0f8}(0.882,0.675,0.737); RGB{N0f8}(0.992,0.859,0.812) RGB{N0f8}(1.0,0.949,0.992) … RGB{N0f8}(0.784,0.584,0.651) RGB{N0f8}(0.706,0.502,0.553)]</td></tr><tr><td class = \"rowNumber\" style = \"font-weight: bold; text-align: right;\">4</td><td style = \"text-align: left;\">4cee0d4666424cef1ea1e0412363edb4737c27d1</td><td style = \"text-align: right;\">0</td><td style = \"text-align: left;\">../input/histopathologic-cancer-detection/train/4cee0d4666424cef1ea1e0412363edb4737c27d1.tif</td><td style = \"text-align: left;\">RGB[RGB{N0f8}(0.894,0.886,0.89) RGB{N0f8}(0.902,0.886,0.89) … RGB{N0f8}(1.0,0.973,1.0) RGB{N0f8}(0.753,0.69,0.729); RGB{N0f8}(0.898,0.898,0.898) RGB{N0f8}(0.902,0.894,0.898) … RGB{N0f8}(0.933,0.851,0.91) RGB{N0f8}(1.0,0.973,1.0); … ; RGB{N0f8}(0.976,0.965,1.0) RGB{N0f8}(0.894,0.89,0.914) … RGB{N0f8}(0.878,0.859,0.886) RGB{N0f8}(0.871,0.851,0.878); RGB{N0f8}(1.0,0.992,1.0) RGB{N0f8}(0.886,0.882,0.906) … RGB{N0f8}(0.922,0.902,0.929) RGB{N0f8}(0.922,0.902,0.929)]</td></tr><tr><td class = \"rowNumber\" style = \"font-weight: bold; text-align: right;\">5</td><td style = \"text-align: left;\">68788b461d1c31a6175e701695278892dde0745f</td><td style = \"text-align: right;\">0</td><td style = \"text-align: left;\">../input/histopathologic-cancer-detection/train/68788b461d1c31a6175e701695278892dde0745f.tif</td><td style = \"text-align: left;\">RGB[RGB{N0f8}(0.878,0.871,0.89) RGB{N0f8}(0.878,0.871,0.89) … RGB{N0f8}(0.875,0.867,0.886) RGB{N0f8}(0.875,0.867,0.886); RGB{N0f8}(0.878,0.871,0.89) RGB{N0f8}(0.878,0.871,0.89) … RGB{N0f8}(0.875,0.867,0.886) RGB{N0f8}(0.875,0.867,0.886); … ; RGB{N0f8}(0.651,0.447,0.627) RGB{N0f8}(0.651,0.467,0.631) … RGB{N0f8}(0.875,0.863,0.89) RGB{N0f8}(0.875,0.863,0.89); RGB{N0f8}(0.722,0.502,0.686) RGB{N0f8}(0.835,0.643,0.82) … RGB{N0f8}(0.867,0.855,0.882) RGB{N0f8}(0.867,0.855,0.882)]</td></tr><tr><td class = \"rowNumber\" style = \"font-weight: bold; text-align: right;\">6</td><td style = \"text-align: left;\">4e6000b6504ea7bc2ad6a9c7b6644a7b0b62a70d</td><td style = \"text-align: right;\">0</td><td style = \"text-align: left;\">../input/histopathologic-cancer-detection/train/4e6000b6504ea7bc2ad6a9c7b6644a7b0b62a70d.tif</td><td style = \"text-align: left;\">RGB[RGB{N0f8}(0.953,0.792,0.855) RGB{N0f8}(0.918,0.757,0.82) … RGB{N0f8}(0.925,0.635,0.741) RGB{N0f8}(0.886,0.596,0.702); RGB{N0f8}(0.839,0.675,0.729) RGB{N0f8}(0.878,0.714,0.769) … RGB{N0f8}(0.929,0.694,0.792) RGB{N0f8}(1.0,0.784,0.882); … ; RGB{N0f8}(0.929,0.78,0.863) RGB{N0f8}(0.663,0.518,0.588) … RGB{N0f8}(0.753,0.608,0.678) RGB{N0f8}(0.839,0.69,0.78); RGB{N0f8}(0.863,0.725,0.753) RGB{N0f8}(0.878,0.753,0.773) … RGB{N0f8}(0.969,0.812,0.918) RGB{N0f8}(0.706,0.545,0.663)]</td></tr><tr><td class = \"rowNumber\" style = \"font-weight: bold; text-align: right;\">7</td><td style = \"text-align: left;\">7f068543d52ac5604c4cf64d2f379c5c61086801</td><td style = \"text-align: right;\">1</td><td style = \"text-align: left;\">../input/histopathologic-cancer-detection/train/7f068543d52ac5604c4cf64d2f379c5c61086801.tif</td><td style = \"text-align: left;\">RGB[RGB{N0f8}(0.725,0.475,0.773) RGB{N0f8}(0.773,0.522,0.82) … RGB{N0f8}(1.0,0.835,1.0) RGB{N0f8}(0.671,0.4,0.663); RGB{N0f8}(0.871,0.62,0.918) RGB{N0f8}(0.776,0.514,0.816) … RGB{N0f8}(0.702,0.463,0.765) RGB{N0f8}(0.769,0.525,0.812); … ; RGB{N0f8}(0.667,0.443,0.745) RGB{N0f8}(0.702,0.494,0.808) … RGB{N0f8}(0.918,0.659,0.937) RGB{N0f8}(0.757,0.471,0.78); RGB{N0f8}(0.725,0.471,0.737) RGB{N0f8}(0.643,0.408,0.69) … RGB{N0f8}(0.451,0.192,0.471) RGB{N0f8}(0.553,0.251,0.573)]</td></tr><tr><td class = \"rowNumber\" style = \"font-weight: bold; text-align: right;\">8</td><td style = \"text-align: left;\">b3b37e6aedfccbda2df74df40d9107e2d6c595e9</td><td style = \"text-align: right;\">1</td><td style = \"text-align: left;\">../input/histopathologic-cancer-detection/train/b3b37e6aedfccbda2df74df40d9107e2d6c595e9.tif</td><td style = \"text-align: left;\">RGB[RGB{N0f8}(0.231,0.114,0.498) RGB{N0f8}(0.239,0.11,0.427) … RGB{N0f8}(0.373,0.208,0.545) RGB{N0f8}(0.525,0.376,0.718); RGB{N0f8}(0.161,0.055,0.435) RGB{N0f8}(0.341,0.22,0.533) … RGB{N0f8}(0.502,0.306,0.694) RGB{N0f8}(0.408,0.22,0.608); … ; RGB{N0f8}(0.788,0.506,0.894) RGB{N0f8}(0.549,0.271,0.631) … RGB{N0f8}(0.737,0.525,0.855) RGB{N0f8}(0.384,0.2,0.514); RGB{N0f8}(0.561,0.306,0.627) RGB{N0f8}(0.714,0.471,0.804) … RGB{N0f8}(0.533,0.325,0.631) RGB{N0f8}(0.439,0.255,0.537)]</td></tr><tr><td class = \"rowNumber\" style = \"font-weight: bold; text-align: right;\">9</td><td style = \"text-align: left;\">d7ad19b89cb9a9ba034143dce52e74ed503b6107</td><td style = \"text-align: right;\">0</td><td style = \"text-align: left;\">../input/histopathologic-cancer-detection/train/d7ad19b89cb9a9ba034143dce52e74ed503b6107.tif</td><td style = \"text-align: left;\">RGB[RGB{N0f8}(0.627,0.337,0.576) RGB{N0f8}(0.718,0.471,0.749) … RGB{N0f8}(0.482,0.263,0.604) RGB{N0f8}(0.749,0.486,0.8); RGB{N0f8}(0.702,0.447,0.706) RGB{N0f8}(0.78,0.557,0.859) … RGB{N0f8}(0.243,0.047,0.388) RGB{N0f8}(0.831,0.6,0.914); … ; RGB{N0f8}(0.282,0.078,0.463) RGB{N0f8}(0.745,0.549,0.922) … RGB{N0f8}(0.275,0.173,0.514) RGB{N0f8}(0.157,0.067,0.42); RGB{N0f8}(0.216,0.031,0.349) RGB{N0f8}(0.553,0.369,0.675) … RGB{N0f8}(0.22,0.106,0.459) RGB{N0f8}(0.271,0.173,0.533)]</td></tr><tr><td class = \"rowNumber\" style = \"font-weight: bold; text-align: right;\">10</td><td style = \"text-align: left;\">b941186ae3d8e52203d315087d7bf7ee05f78dd3</td><td style = \"text-align: right;\">0</td><td style = \"text-align: left;\">../input/histopathologic-cancer-detection/train/b941186ae3d8e52203d315087d7bf7ee05f78dd3.tif</td><td style = \"text-align: left;\">RGB[RGB{N0f8}(0.859,0.631,0.678) RGB{N0f8}(0.812,0.616,0.659) … RGB{N0f8}(1.0,0.792,0.882) RGB{N0f8}(0.663,0.463,0.592); RGB{N0f8}(0.867,0.659,0.737) RGB{N0f8}(0.82,0.647,0.706) … RGB{N0f8}(0.612,0.392,0.498) RGB{N0f8}(0.404,0.188,0.345); … ; RGB{N0f8}(0.651,0.471,0.663) RGB{N0f8}(0.482,0.314,0.49) … RGB{N0f8}(0.271,0.078,0.204) RGB{N0f8}(0.333,0.137,0.275); RGB{N0f8}(0.416,0.243,0.482) RGB{N0f8}(0.2,0.043,0.239) … RGB{N0f8}(0.353,0.169,0.294) RGB{N0f8}(0.373,0.196,0.325)]</td></tr><tr><td class = \"rowNumber\" style = \"font-weight: bold; text-align: right;\">11</td><td style = \"text-align: left;\">84178857af0fc3b660ab86dbe154e1beba627115</td><td style = \"text-align: right;\">0</td><td style = \"text-align: left;\">../input/histopathologic-cancer-detection/train/84178857af0fc3b660ab86dbe154e1beba627115.tif</td><td style = \"text-align: left;\">RGB[RGB{N0f8}(0.247,0.169,0.376) RGB{N0f8}(0.255,0.165,0.337) … RGB{N0f8}(0.71,0.62,0.682) RGB{N0f8}(0.831,0.753,0.796); RGB{N0f8}(0.373,0.255,0.451) RGB{N0f8}(0.341,0.22,0.384) … RGB{N0f8}(0.82,0.722,0.808) RGB{N0f8}(1.0,0.949,1.0); … ; RGB{N0f8}(0.651,0.525,0.608) RGB{N0f8}(0.871,0.745,0.827) … RGB{N0f8}(0.969,0.871,0.953) RGB{N0f8}(0.898,0.804,0.898); RGB{N0f8}(0.965,0.824,0.933) RGB{N0f8}(1.0,0.878,0.976) … RGB{N0f8}(0.549,0.443,0.471) RGB{N0f8}(0.631,0.537,0.588)]</td></tr><tr><td class = \"rowNumber\" style = \"font-weight: bold; text-align: right;\">12</td><td style = \"text-align: left;\">042f555e04a8b1e4ab63b2f45cb9096a5347b486</td><td style = \"text-align: right;\">0</td><td style = \"text-align: left;\">../input/histopathologic-cancer-detection/train/042f555e04a8b1e4ab63b2f45cb9096a5347b486.tif</td><td style = \"text-align: left;\">RGB[RGB{N0f8}(0.906,0.796,0.855) RGB{N0f8}(0.863,0.741,0.8) … RGB{N0f8}(0.655,0.463,0.537) RGB{N0f8}(0.922,0.737,0.8); RGB{N0f8}(0.71,0.58,0.647) RGB{N0f8}(0.89,0.757,0.82) … RGB{N0f8}(0.722,0.529,0.616) RGB{N0f8}(0.827,0.635,0.718); … ; RGB{N0f8}(0.835,0.6,0.71) RGB{N0f8}(0.58,0.333,0.447) … RGB{N0f8}(0.725,0.529,0.675) RGB{N0f8}(0.439,0.251,0.4); RGB{N0f8}(0.82,0.573,0.678) RGB{N0f8}(0.773,0.522,0.627) … RGB{N0f8}(0.361,0.184,0.337) RGB{N0f8}(0.224,0.055,0.224)]</td></tr><tr><td class = \"rowNumber\" style = \"font-weight: bold; text-align: right;\">13</td><td style = \"text-align: left;\">2ddc9c180f31ca049e4b7df5b9bd3376249b0081</td><td style = \"text-align: right;\">0</td><td style = \"text-align: left;\">../input/histopathologic-cancer-detection/train/2ddc9c180f31ca049e4b7df5b9bd3376249b0081.tif</td><td style = \"text-align: left;\">RGB[RGB{N0f8}(0.969,0.953,0.949) RGB{N0f8}(0.969,0.953,0.949) … RGB{N0f8}(0.906,0.824,0.851) RGB{N0f8}(0.91,0.863,0.878); RGB{N0f8}(0.961,0.957,0.949) RGB{N0f8}(0.961,0.957,0.949) … RGB{N0f8}(1.0,0.957,1.0) RGB{N0f8}(0.976,0.875,0.91); … ; RGB{N0f8}(0.976,0.969,0.98) RGB{N0f8}(0.969,0.976,0.973) … RGB{N0f8}(0.78,0.671,0.718) RGB{N0f8}(1.0,0.91,0.957); RGB{N0f8}(0.945,0.937,0.957) RGB{N0f8}(0.957,0.965,0.961) … RGB{N0f8}(0.839,0.737,0.78) RGB{N0f8}(0.933,0.824,0.871)]</td></tr><tr><td style = \"text-align: right;\">&vellip;</td><td style = \"text-align: right;\">&vellip;</td><td style = \"text-align: right;\">&vellip;</td><td style = \"text-align: right;\">&vellip;</td><td style = \"text-align: right;\">&vellip;</td></tr><tr><td class = \"rowNumber\" style = \"font-weight: bold; text-align: right;\">289</td><td style = \"text-align: left;\">23a853ad45352e51f8e7f654a3f41045390eef84</td><td style = \"text-align: right;\">0</td><td style = \"text-align: left;\">../input/histopathologic-cancer-detection/train/23a853ad45352e51f8e7f654a3f41045390eef84.tif</td><td style = \"text-align: left;\">RGB[RGB{N0f8}(0.094,0.0,0.322) RGB{N0f8}(0.412,0.216,0.557) … RGB{N0f8}(0.651,0.482,0.753) RGB{N0f8}(0.294,0.141,0.404); RGB{N0f8}(0.227,0.141,0.467) RGB{N0f8}(0.173,0.0,0.337) … RGB{N0f8}(0.231,0.047,0.361) RGB{N0f8}(0.247,0.086,0.392); … ; RGB{N0f8}(0.906,0.769,1.0) RGB{N0f8}(0.557,0.396,0.671) … RGB{N0f8}(0.506,0.294,0.588) RGB{N0f8}(0.439,0.208,0.522); RGB{N0f8}(0.8,0.682,0.894) RGB{N0f8}(0.592,0.435,0.671) … RGB{N0f8}(0.773,0.518,0.871) RGB{N0f8}(0.961,0.686,1.0)]</td></tr><tr><td class = \"rowNumber\" style = \"font-weight: bold; text-align: right;\">290</td><td style = \"text-align: left;\">015bdde729841fca9870c138deedca1fa587694d</td><td style = \"text-align: right;\">1</td><td style = \"text-align: left;\">../input/histopathologic-cancer-detection/train/015bdde729841fca9870c138deedca1fa587694d.tif</td><td style = \"text-align: left;\">RGB[RGB{N0f8}(0.675,0.337,0.624) RGB{N0f8}(0.863,0.525,0.804) … RGB{N0f8}(0.788,0.686,0.824) RGB{N0f8}(0.925,0.902,1.0); RGB{N0f8}(0.898,0.573,0.855) RGB{N0f8}(0.725,0.4,0.675) … RGB{N0f8}(0.761,0.584,0.753) RGB{N0f8}(0.58,0.447,0.592); … ; RGB{N0f8}(0.459,0.247,0.49) RGB{N0f8}(0.612,0.431,0.686) … RGB{N0f8}(0.765,0.576,0.733) RGB{N0f8}(0.749,0.529,0.722); RGB{N0f8}(0.251,0.043,0.31) RGB{N0f8}(0.631,0.439,0.749) … RGB{N0f8}(0.529,0.325,0.475) RGB{N0f8}(0.549,0.318,0.498)]</td></tr><tr><td class = \"rowNumber\" style = \"font-weight: bold; text-align: right;\">291</td><td style = \"text-align: left;\">8ab19d094aa5cfd9d3a791456f21b78739357239</td><td style = \"text-align: right;\">1</td><td style = \"text-align: left;\">../input/histopathologic-cancer-detection/train/8ab19d094aa5cfd9d3a791456f21b78739357239.tif</td><td style = \"text-align: left;\">RGB[RGB{N0f8}(0.847,0.863,0.859) RGB{N0f8}(0.878,0.882,0.89) … RGB{N0f8}(0.855,0.655,0.886) RGB{N0f8}(0.784,0.6,0.812); RGB{N0f8}(0.863,0.878,0.875) RGB{N0f8}(0.878,0.882,0.89) … RGB{N0f8}(0.859,0.682,0.906) RGB{N0f8}(0.859,0.71,0.902); … ; RGB{N0f8}(0.941,0.776,0.925) RGB{N0f8}(0.894,0.737,0.882) … RGB{N0f8}(0.694,0.412,0.698) RGB{N0f8}(0.792,0.506,0.784); RGB{N0f8}(0.922,0.761,0.925) RGB{N0f8}(0.867,0.718,0.878) … RGB{N0f8}(0.827,0.522,0.816) RGB{N0f8}(0.937,0.624,0.91)]</td></tr><tr><td class = \"rowNumber\" style = \"font-weight: bold; text-align: right;\">292</td><td style = \"text-align: left;\">2f7862982e01caffd7a47a6cef241968be766747</td><td style = \"text-align: right;\">0</td><td style = \"text-align: left;\">../input/histopathologic-cancer-detection/train/2f7862982e01caffd7a47a6cef241968be766747.tif</td><td style = \"text-align: left;\">RGB[RGB{N0f8}(1.0,0.863,0.945) RGB{N0f8}(0.706,0.529,0.62) … RGB{N0f8}(0.459,0.392,0.467) RGB{N0f8}(0.737,0.694,0.718); RGB{N0f8}(0.58,0.404,0.565) RGB{N0f8}(0.412,0.235,0.396) … RGB{N0f8}(0.624,0.553,0.647) RGB{N0f8}(1.0,0.98,1.0); … ; RGB{N0f8}(0.404,0.243,0.4) RGB{N0f8}(0.255,0.094,0.251) … RGB{N0f8}(0.31,0.157,0.333) RGB{N0f8}(0.424,0.267,0.463); RGB{N0f8}(0.337,0.188,0.333) RGB{N0f8}(0.424,0.275,0.427) … RGB{N0f8}(0.235,0.071,0.267) RGB{N0f8}(0.247,0.071,0.294)]</td></tr><tr><td class = \"rowNumber\" style = \"font-weight: bold; text-align: right;\">293</td><td style = \"text-align: left;\">9b713aa08699e40ca436abcfc11c385c35d763f7</td><td style = \"text-align: right;\">0</td><td style = \"text-align: left;\">../input/histopathologic-cancer-detection/train/9b713aa08699e40ca436abcfc11c385c35d763f7.tif</td><td style = \"text-align: left;\">RGB[RGB{N0f8}(0.224,0.082,0.231) RGB{N0f8}(0.267,0.118,0.271) … RGB{N0f8}(0.2,0.059,0.2) RGB{N0f8}(0.929,0.792,0.922); RGB{N0f8}(0.231,0.067,0.224) RGB{N0f8}(0.251,0.075,0.227) … RGB{N0f8}(0.169,0.051,0.192) RGB{N0f8}(0.314,0.196,0.329); … ; RGB{N0f8}(0.267,0.102,0.298) RGB{N0f8}(0.298,0.145,0.329) … RGB{N0f8}(0.341,0.161,0.345) RGB{N0f8}(0.239,0.039,0.259); RGB{N0f8}(0.271,0.114,0.31) RGB{N0f8}(0.192,0.063,0.247) … RGB{N0f8}(0.38,0.255,0.4) RGB{N0f8}(0.176,0.039,0.204)]</td></tr><tr><td class = \"rowNumber\" style = \"font-weight: bold; text-align: right;\">294</td><td style = \"text-align: left;\">90cab9104fa89c2dc8f982fb7735b81a076c2c9b</td><td style = \"text-align: right;\">0</td><td style = \"text-align: left;\">../input/histopathologic-cancer-detection/train/90cab9104fa89c2dc8f982fb7735b81a076c2c9b.tif</td><td style = \"text-align: left;\">RGB[RGB{N0f8}(0.941,0.875,1.0) RGB{N0f8}(0.329,0.208,0.471) … RGB{N0f8}(0.275,0.133,0.478) RGB{N0f8}(0.263,0.129,0.498); RGB{N0f8}(0.678,0.573,0.851) RGB{N0f8}(0.749,0.588,0.894) … RGB{N0f8}(0.702,0.549,0.867) RGB{N0f8}(0.471,0.322,0.663); … ; RGB{N0f8}(0.584,0.361,0.671) RGB{N0f8}(0.596,0.416,0.71) … RGB{N0f8}(0.953,0.843,0.992) RGB{N0f8}(0.937,0.839,0.922); RGB{N0f8}(0.643,0.396,0.706) RGB{N0f8}(0.561,0.353,0.659) … RGB{N0f8}(0.906,0.788,0.929) RGB{N0f8}(0.902,0.788,0.859)]</td></tr><tr><td class = \"rowNumber\" style = \"font-weight: bold; text-align: right;\">295</td><td style = \"text-align: left;\">4fcc849e71def8144263abded575e73710877adb</td><td style = \"text-align: right;\">0</td><td style = \"text-align: left;\">../input/histopathologic-cancer-detection/train/4fcc849e71def8144263abded575e73710877adb.tif</td><td style = \"text-align: left;\">RGB[RGB{N0f8}(0.831,0.522,0.831) RGB{N0f8}(0.808,0.502,0.796) … RGB{N0f8}(0.922,0.522,0.812) RGB{N0f8}(0.827,0.431,0.737); RGB{N0f8}(0.984,0.69,0.82) RGB{N0f8}(0.816,0.518,0.659) … RGB{N0f8}(0.859,0.475,0.761) RGB{N0f8}(0.753,0.376,0.667); … ; RGB{N0f8}(0.863,0.843,0.859) RGB{N0f8}(0.863,0.843,0.859) … RGB{N0f8}(0.808,0.486,0.404) RGB{N0f8}(0.867,0.482,0.447); RGB{N0f8}(0.863,0.843,0.859) RGB{N0f8}(0.863,0.843,0.859) … RGB{N0f8}(0.769,0.447,0.298) RGB{N0f8}(0.714,0.329,0.216)]</td></tr><tr><td class = \"rowNumber\" style = \"font-weight: bold; text-align: right;\">296</td><td style = \"text-align: left;\">6c7565bfc2cec4f16bb5394ab7cd4663e5a2ef12</td><td style = \"text-align: right;\">0</td><td style = \"text-align: left;\">../input/histopathologic-cancer-detection/train/6c7565bfc2cec4f16bb5394ab7cd4663e5a2ef12.tif</td><td style = \"text-align: left;\">RGB[RGB{N0f8}(0.835,0.796,0.839) RGB{N0f8}(0.902,0.871,0.922) … RGB{N0f8}(0.914,0.902,0.929) RGB{N0f8}(0.914,0.902,0.929); RGB{N0f8}(0.871,0.824,0.871) RGB{N0f8}(0.894,0.851,0.906) … RGB{N0f8}(0.914,0.902,0.929) RGB{N0f8}(0.914,0.902,0.929); … ; RGB{N0f8}(0.922,0.906,0.961) RGB{N0f8}(1.0,0.949,1.0) … RGB{N0f8}(0.898,0.89,0.902) RGB{N0f8}(0.898,0.898,0.906); RGB{N0f8}(0.906,0.898,0.953) RGB{N0f8}(1.0,0.969,1.0) … RGB{N0f8}(0.898,0.89,0.902) RGB{N0f8}(0.89,0.89,0.898)]</td></tr><tr><td class = \"rowNumber\" style = \"font-weight: bold; text-align: right;\">297</td><td style = \"text-align: left;\">7e9798b9c82b0120fa5b5920e5ee2b6141383315</td><td style = \"text-align: right;\">0</td><td style = \"text-align: left;\">../input/histopathologic-cancer-detection/train/7e9798b9c82b0120fa5b5920e5ee2b6141383315.tif</td><td style = \"text-align: left;\">RGB[RGB{N0f8}(0.596,0.424,0.482) RGB{N0f8}(0.608,0.439,0.506) … RGB{N0f8}(0.22,0.075,0.196) RGB{N0f8}(0.431,0.271,0.404); RGB{N0f8}(0.745,0.573,0.663) RGB{N0f8}(1.0,0.843,0.937) … RGB{N0f8}(0.843,0.702,0.812) RGB{N0f8}(1.0,0.863,0.984); … ; RGB{N0f8}(0.875,0.761,0.776) RGB{N0f8}(1.0,0.953,1.0) … RGB{N0f8}(0.651,0.525,0.686) RGB{N0f8}(0.153,0.039,0.22); RGB{N0f8}(0.843,0.729,0.749) RGB{N0f8}(0.824,0.71,0.78) … RGB{N0f8}(0.647,0.502,0.706) RGB{N0f8}(0.216,0.082,0.318)]</td></tr><tr><td class = \"rowNumber\" style = \"font-weight: bold; text-align: right;\">298</td><td style = \"text-align: left;\">d4ba1b179fea3771a4ddf2be024f92425379e5f4</td><td style = \"text-align: right;\">1</td><td style = \"text-align: left;\">../input/histopathologic-cancer-detection/train/d4ba1b179fea3771a4ddf2be024f92425379e5f4.tif</td><td style = \"text-align: left;\">RGB[RGB{N0f8}(0.443,0.333,0.624) RGB{N0f8}(0.306,0.161,0.467) … RGB{N0f8}(0.604,0.251,0.627) RGB{N0f8}(0.525,0.184,0.557); RGB{N0f8}(0.675,0.584,0.859) RGB{N0f8}(0.314,0.18,0.482) … RGB{N0f8}(0.631,0.298,0.663) RGB{N0f8}(0.702,0.376,0.729); … ; RGB{N0f8}(0.639,0.388,0.718) RGB{N0f8}(0.643,0.376,0.71) … RGB{N0f8}(0.655,0.443,0.686) RGB{N0f8}(0.831,0.612,0.851); RGB{N0f8}(0.745,0.545,0.847) RGB{N0f8}(0.659,0.42,0.733) … RGB{N0f8}(0.812,0.616,0.847) RGB{N0f8}(0.541,0.341,0.561)]</td></tr><tr><td class = \"rowNumber\" style = \"font-weight: bold; text-align: right;\">299</td><td style = \"text-align: left;\">4bebf95f3d7ec4227178397df8e2aad3faa5f955</td><td style = \"text-align: right;\">1</td><td style = \"text-align: left;\">../input/histopathologic-cancer-detection/train/4bebf95f3d7ec4227178397df8e2aad3faa5f955.tif</td><td style = \"text-align: left;\">RGB[RGB{N0f8}(0.847,0.588,0.694) RGB{N0f8}(0.882,0.631,0.733) … RGB{N0f8}(0.996,0.733,0.855) RGB{N0f8}(0.435,0.18,0.298); RGB{N0f8}(0.918,0.659,0.765) RGB{N0f8}(0.827,0.576,0.678) … RGB{N0f8}(0.788,0.525,0.655) RGB{N0f8}(0.776,0.522,0.647); … ; RGB{N0f8}(0.788,0.51,0.627) RGB{N0f8}(0.792,0.514,0.631) … RGB{N0f8}(0.51,0.282,0.439) RGB{N0f8}(0.439,0.22,0.373); RGB{N0f8}(0.867,0.588,0.714) RGB{N0f8}(0.82,0.533,0.651) … RGB{N0f8}(0.694,0.455,0.616) RGB{N0f8}(0.733,0.506,0.663)]</td></tr><tr><td class = \"rowNumber\" style = \"font-weight: bold; text-align: right;\">300</td><td style = \"text-align: left;\">560cf9f4e75b89072fcdc7f84ffcd896276a291a</td><td style = \"text-align: right;\">1</td><td style = \"text-align: left;\">../input/histopathologic-cancer-detection/train/560cf9f4e75b89072fcdc7f84ffcd896276a291a.tif</td><td style = \"text-align: left;\">RGB[RGB{N0f8}(0.165,0.024,0.4) RGB{N0f8}(0.204,0.09,0.443) … RGB{N0f8}(0.996,0.576,0.992) RGB{N0f8}(0.765,0.337,0.765); RGB{N0f8}(0.357,0.133,0.514) RGB{N0f8}(0.298,0.106,0.463) … RGB{N0f8}(0.722,0.361,0.749) RGB{N0f8}(0.639,0.302,0.69); … ; RGB{N0f8}(0.365,0.09,0.475) RGB{N0f8}(0.396,0.137,0.522) … RGB{N0f8}(0.349,0.137,0.522) RGB{N0f8}(0.38,0.169,0.553); RGB{N0f8}(0.4,0.082,0.482) RGB{N0f8}(0.541,0.239,0.639) … RGB{N0f8}(0.353,0.153,0.525) RGB{N0f8}(0.357,0.157,0.529)]</td></tr></tbody></table></div>"
      ],
      "text/latex": [
       "\\begin{tabular}{r|cccc}\n",
       "\t& id & label & image\\_path & \\\\\n",
       "\t\\hline\n",
       "\t& String & Int64 & String & \\\\\n",
       "\t\\hline\n",
       "\t1 & c0062ff9cca635f9437a525c54848b444e302532 & 0 & ../input/histopathologic-cancer-detection/train/c0062ff9cca635f9437a525c54848b444e302532.tif & $\\dots$ \\\\\n",
       "\t2 & 28616ce24292c1727522b35f10c4def61c3f962f & 0 & ../input/histopathologic-cancer-detection/train/28616ce24292c1727522b35f10c4def61c3f962f.tif & $\\dots$ \\\\\n",
       "\t3 & 7c94f1592863be0a707834c45f694f5e730267bb & 0 & ../input/histopathologic-cancer-detection/train/7c94f1592863be0a707834c45f694f5e730267bb.tif & $\\dots$ \\\\\n",
       "\t4 & 4cee0d4666424cef1ea1e0412363edb4737c27d1 & 0 & ../input/histopathologic-cancer-detection/train/4cee0d4666424cef1ea1e0412363edb4737c27d1.tif & $\\dots$ \\\\\n",
       "\t5 & 68788b461d1c31a6175e701695278892dde0745f & 0 & ../input/histopathologic-cancer-detection/train/68788b461d1c31a6175e701695278892dde0745f.tif & $\\dots$ \\\\\n",
       "\t6 & 4e6000b6504ea7bc2ad6a9c7b6644a7b0b62a70d & 0 & ../input/histopathologic-cancer-detection/train/4e6000b6504ea7bc2ad6a9c7b6644a7b0b62a70d.tif & $\\dots$ \\\\\n",
       "\t7 & 7f068543d52ac5604c4cf64d2f379c5c61086801 & 1 & ../input/histopathologic-cancer-detection/train/7f068543d52ac5604c4cf64d2f379c5c61086801.tif & $\\dots$ \\\\\n",
       "\t8 & b3b37e6aedfccbda2df74df40d9107e2d6c595e9 & 1 & ../input/histopathologic-cancer-detection/train/b3b37e6aedfccbda2df74df40d9107e2d6c595e9.tif & $\\dots$ \\\\\n",
       "\t9 & d7ad19b89cb9a9ba034143dce52e74ed503b6107 & 0 & ../input/histopathologic-cancer-detection/train/d7ad19b89cb9a9ba034143dce52e74ed503b6107.tif & $\\dots$ \\\\\n",
       "\t10 & b941186ae3d8e52203d315087d7bf7ee05f78dd3 & 0 & ../input/histopathologic-cancer-detection/train/b941186ae3d8e52203d315087d7bf7ee05f78dd3.tif & $\\dots$ \\\\\n",
       "\t11 & 84178857af0fc3b660ab86dbe154e1beba627115 & 0 & ../input/histopathologic-cancer-detection/train/84178857af0fc3b660ab86dbe154e1beba627115.tif & $\\dots$ \\\\\n",
       "\t12 & 042f555e04a8b1e4ab63b2f45cb9096a5347b486 & 0 & ../input/histopathologic-cancer-detection/train/042f555e04a8b1e4ab63b2f45cb9096a5347b486.tif & $\\dots$ \\\\\n",
       "\t13 & 2ddc9c180f31ca049e4b7df5b9bd3376249b0081 & 0 & ../input/histopathologic-cancer-detection/train/2ddc9c180f31ca049e4b7df5b9bd3376249b0081.tif & $\\dots$ \\\\\n",
       "\t14 & f61fe19bdea8b9b504b9f77904d50bbfa1a2a8f9 & 0 & ../input/histopathologic-cancer-detection/train/f61fe19bdea8b9b504b9f77904d50bbfa1a2a8f9.tif & $\\dots$ \\\\\n",
       "\t15 & 0a2b3c91f610566893c5bff03812415809e0f616 & 1 & ../input/histopathologic-cancer-detection/train/0a2b3c91f610566893c5bff03812415809e0f616.tif & $\\dots$ \\\\\n",
       "\t16 & f26068edbfb7fea4b51996005330b9453ae37ac2 & 1 & ../input/histopathologic-cancer-detection/train/f26068edbfb7fea4b51996005330b9453ae37ac2.tif & $\\dots$ \\\\\n",
       "\t17 & dd3213361e77be50c160617223ca076111d3569f & 1 & ../input/histopathologic-cancer-detection/train/dd3213361e77be50c160617223ca076111d3569f.tif & $\\dots$ \\\\\n",
       "\t18 & 1ebd0f6a1c6a741720887fc64566101f3a4350fa & 0 & ../input/histopathologic-cancer-detection/train/1ebd0f6a1c6a741720887fc64566101f3a4350fa.tif & $\\dots$ \\\\\n",
       "\t19 & 4fbe2dbfa1a7054a3f8840758eb55cb3761f5d0a & 1 & ../input/histopathologic-cancer-detection/train/4fbe2dbfa1a7054a3f8840758eb55cb3761f5d0a.tif & $\\dots$ \\\\\n",
       "\t20 & c73502c0ac4293d91747e9dc5639231bf99870a8 & 0 & ../input/histopathologic-cancer-detection/train/c73502c0ac4293d91747e9dc5639231bf99870a8.tif & $\\dots$ \\\\\n",
       "\t21 & 7a8443b99f40ba4022288de8777f8697d4ee9ae9 & 0 & ../input/histopathologic-cancer-detection/train/7a8443b99f40ba4022288de8777f8697d4ee9ae9.tif & $\\dots$ \\\\\n",
       "\t22 & 1f06c24299a73273f3fa792da5c84f4e50c68ea3 & 1 & ../input/histopathologic-cancer-detection/train/1f06c24299a73273f3fa792da5c84f4e50c68ea3.tif & $\\dots$ \\\\\n",
       "\t23 & 5a1adb5e06f91cbd53ef953564f84ba662541b22 & 0 & ../input/histopathologic-cancer-detection/train/5a1adb5e06f91cbd53ef953564f84ba662541b22.tif & $\\dots$ \\\\\n",
       "\t24 & cfed7943822c539132597eb9492d9280db76f72c & 0 & ../input/histopathologic-cancer-detection/train/cfed7943822c539132597eb9492d9280db76f72c.tif & $\\dots$ \\\\\n",
       "\t25 & 35ef46907e0cbc9deef8909d520f20cdce8ec084 & 1 & ../input/histopathologic-cancer-detection/train/35ef46907e0cbc9deef8909d520f20cdce8ec084.tif & $\\dots$ \\\\\n",
       "\t26 & 86779ec34c39781c2b9b511905cc51137bf1632c & 1 & ../input/histopathologic-cancer-detection/train/86779ec34c39781c2b9b511905cc51137bf1632c.tif & $\\dots$ \\\\\n",
       "\t27 & ddf378e2eb35b2368f4a98639ec16625a831ffe6 & 0 & ../input/histopathologic-cancer-detection/train/ddf378e2eb35b2368f4a98639ec16625a831ffe6.tif & $\\dots$ \\\\\n",
       "\t28 & ada4b5c9e3ac23da8f3a191e181d9e6f7d57094a & 0 & ../input/histopathologic-cancer-detection/train/ada4b5c9e3ac23da8f3a191e181d9e6f7d57094a.tif & $\\dots$ \\\\\n",
       "\t29 & e3cadbd162d383c1ca97d4992bd02684ebe492b0 & 0 & ../input/histopathologic-cancer-detection/train/e3cadbd162d383c1ca97d4992bd02684ebe492b0.tif & $\\dots$ \\\\\n",
       "\t30 & f8449d7c3021c9cfe44ec24fdd17fe95b7de6eeb & 0 & ../input/histopathologic-cancer-detection/train/f8449d7c3021c9cfe44ec24fdd17fe95b7de6eeb.tif & $\\dots$ \\\\\n",
       "\t$\\dots$ & $\\dots$ & $\\dots$ & $\\dots$ &  \\\\\n",
       "\\end{tabular}\n"
      ],
      "text/plain": [
       "\u001b[1m300×4 DataFrame\u001b[0m\n",
       "\u001b[1m Row \u001b[0m│\u001b[1m id                                \u001b[0m\u001b[1m label \u001b[0m\u001b[1m image_path                   \u001b[0m ⋯\n",
       "     │\u001b[90m String                            \u001b[0m\u001b[90m Int64 \u001b[0m\u001b[90m String                       \u001b[0m ⋯\n",
       "─────┼──────────────────────────────────────────────────────────────────────────\n",
       "   1 │ c0062ff9cca635f9437a525c54848b44…      0  ../input/histopathologic-canc ⋯\n",
       "   2 │ 28616ce24292c1727522b35f10c4def6…      0  ../input/histopathologic-canc\n",
       "   3 │ 7c94f1592863be0a707834c45f694f5e…      0  ../input/histopathologic-canc\n",
       "   4 │ 4cee0d4666424cef1ea1e0412363edb4…      0  ../input/histopathologic-canc\n",
       "   5 │ 68788b461d1c31a6175e701695278892…      0  ../input/histopathologic-canc ⋯\n",
       "   6 │ 4e6000b6504ea7bc2ad6a9c7b6644a7b…      0  ../input/histopathologic-canc\n",
       "   7 │ 7f068543d52ac5604c4cf64d2f379c5c…      1  ../input/histopathologic-canc\n",
       "   8 │ b3b37e6aedfccbda2df74df40d9107e2…      1  ../input/histopathologic-canc\n",
       "   9 │ d7ad19b89cb9a9ba034143dce52e74ed…      0  ../input/histopathologic-canc ⋯\n",
       "  10 │ b941186ae3d8e52203d315087d7bf7ee…      0  ../input/histopathologic-canc\n",
       "  11 │ 84178857af0fc3b660ab86dbe154e1be…      0  ../input/histopathologic-canc\n",
       "  ⋮  │                 ⋮                    ⋮                    ⋮             ⋱\n",
       " 291 │ 8ab19d094aa5cfd9d3a791456f21b787…      1  ../input/histopathologic-canc\n",
       " 292 │ 2f7862982e01caffd7a47a6cef241968…      0  ../input/histopathologic-canc ⋯\n",
       " 293 │ 9b713aa08699e40ca436abcfc11c385c…      0  ../input/histopathologic-canc\n",
       " 294 │ 90cab9104fa89c2dc8f982fb7735b81a…      0  ../input/histopathologic-canc\n",
       " 295 │ 4fcc849e71def8144263abded575e737…      0  ../input/histopathologic-canc\n",
       " 296 │ 6c7565bfc2cec4f16bb5394ab7cd4663…      0  ../input/histopathologic-canc ⋯\n",
       " 297 │ 7e9798b9c82b0120fa5b5920e5ee2b61…      0  ../input/histopathologic-canc\n",
       " 298 │ d4ba1b179fea3771a4ddf2be024f9242…      1  ../input/histopathologic-canc\n",
       " 299 │ 4bebf95f3d7ec4227178397df8e2aad3…      1  ../input/histopathologic-canc\n",
       " 300 │ 560cf9f4e75b89072fcdc7f84ffcd896…      1  ../input/histopathologic-canc ⋯\n",
       "\u001b[36m                                                  2 columns and 279 rows omitted\u001b[0m"
      ]
     },
     "execution_count": 23,
     "metadata": {},
     "output_type": "execute_result"
    }
   ],
   "source": [
    "df_train = first(df, 700)\n",
    "df_valid = last(df, 300)"
   ]
  },
  {
   "cell_type": "code",
   "execution_count": 25,
   "metadata": {},
   "outputs": [],
   "source": [
    "batchsize = 32\n",
    "mb_idxs = partition(1:length(df_train.images), batchsize)\n",
    "train_set = [make_minibatch(df_train.images, df_train.label, i) for i in mb_idxs]\n",
    "test_set = make_minibatch(df_valid.images, df_valid.label, 1:length(df_valid.images));"
   ]
  },
  {
   "cell_type": "code",
   "execution_count": 16,
   "metadata": {},
   "outputs": [
    {
     "data": {
      "text/plain": [
       "Chain(\n",
       "  Conv((3, 3), 1 => 32, relu, pad=1),   \u001b[90m# 320 parameters\u001b[39m\n",
       "  MaxPool((3, 3)),\n",
       "  Conv((3, 3), 32 => 64, relu, pad=1),  \u001b[90m# 18_496 parameters\u001b[39m\n",
       "  MaxPool((3, 3)),\n",
       "  Conv((3, 3), 64 => 128, relu, pad=1),  \u001b[90m# 73_856 parameters\u001b[39m\n",
       "  MaxPool((3, 3)),\n",
       "  DataFrames.flatten,\n",
       "  Dense(15488 => 2),                    \u001b[90m# 30_978 parameters\u001b[39m\n",
       "  NNlib.softmax,\n",
       ") \u001b[90m                  # Total: 8 arrays, \u001b[39m123_650 parameters, 484.422 KiB."
      ]
     },
     "execution_count": 16,
     "metadata": {},
     "output_type": "execute_result"
    }
   ],
   "source": [
    "model = Chain(\n",
    "        Conv((3, 3), 1=>32, pad=(1,1), relu),\n",
    "        MaxPool((3,3)),\n",
    "        Conv((3, 3), 32=>64, pad=(1,1), relu),\n",
    "        MaxPool((3,3)),\n",
    "        Conv((3, 3), 64=>128, pad=(1,1), relu),\n",
    "        MaxPool((3,3)),\n",
    "        flatten,\n",
    "        Dense(15488, 2),\n",
    "        softmax)"
   ]
  },
  {
   "cell_type": "code",
   "execution_count": 26,
   "metadata": {},
   "outputs": [
    {
     "data": {
      "text/plain": [
       "update_loss! (generic function with 1 method)"
      ]
     },
     "execution_count": 26,
     "metadata": {},
     "output_type": "execute_result"
    }
   ],
   "source": [
    "train_loss = Float64[]\n",
    "test_loss = Float64[]\n",
    "acc = Float64[]\n",
    "ps = Flux.params(model)\n",
    "opt = ADAM()\n",
    "L(x, y) = Flux.crossentropy(model(x), y)\n",
    "L((x,y)) = Flux.crossentropy(model(x), y)\n",
    "accuracy(x, y, f) = mean(Flux.onecold(f(x)) .== Flux.onecold(y))\n",
    "\n",
    "function update_loss!()\n",
    "    push!(train_loss, mean(L.(train_set)))\n",
    "    push!(test_loss, mean(L(test_set)))\n",
    "    push!(acc, accuracy(test_set..., model))\n",
    "    @printf(\"train loss = %.2f, test loss = %.2f, accuracy = %.2f\\n\", train_loss[end], test_loss[end], acc[end])\n",
    "end\n"
   ]
  },
  {
   "cell_type": "code",
   "execution_count": 30,
   "metadata": {},
   "outputs": [
    {
     "ename": "LoadError",
     "evalue": "MethodError: no constructors have been defined for Any",
     "output_type": "error",
     "traceback": [
      "MethodError: no constructors have been defined for Any",
      "",
      "Stacktrace:",
      "  [1] conv_direct!(y::Array{Any, 5}, x::Array{RGB, 5}, w::Array{Float32, 5}, cdims::DenseConvDims{3, 3, 3, 6, 3})",
      "    @ NNlib ~/.julia/packages/NNlib/Rh36b/src/impl/conv_direct.jl:47",
      "  [2] conv!(y::Array{Any, 5}, in1::Array{RGB, 5}, in2::Array{Float32, 5}, cdims::DenseConvDims{3, 3, 3, 6, 3}; kwargs::Base.Pairs{Symbol, Union{}, Tuple{}, NamedTuple{(), Tuple{}}})",
      "    @ NNlib ~/.julia/packages/NNlib/Rh36b/src/conv.jl:288",
      "  [3] conv!(y::Array{Any, 5}, in1::Array{RGB, 5}, in2::Array{Float32, 5}, cdims::DenseConvDims{3, 3, 3, 6, 3})",
      "    @ NNlib ~/.julia/packages/NNlib/Rh36b/src/conv.jl:280",
      "  [4] conv!(y::Array{Any, 4}, x::Array{RGB, 4}, w::Array{Float32, 4}, cdims::DenseConvDims{2, 2, 2, 4, 2}; kwargs::Base.Pairs{Symbol, Union{}, Tuple{}, NamedTuple{(), Tuple{}}})",
      "    @ NNlib ~/.julia/packages/NNlib/Rh36b/src/conv.jl:145",
      "  [5] conv!(y::Array{Any, 4}, x::Array{RGB, 4}, w::Array{Float32, 4}, cdims::DenseConvDims{2, 2, 2, 4, 2})",
      "    @ NNlib ~/.julia/packages/NNlib/Rh36b/src/conv.jl:140",
      "  [6] conv(x::Array{RGB, 4}, w::Array{Float32, 4}, cdims::DenseConvDims{2, 2, 2, 4, 2}; kwargs::Base.Pairs{Symbol, Union{}, Tuple{}, NamedTuple{(), Tuple{}}})",
      "    @ NNlib ~/.julia/packages/NNlib/Rh36b/src/conv.jl:88",
      "  [7] conv(x::Array{RGB, 4}, w::Array{Float32, 4}, cdims::DenseConvDims{2, 2, 2, 4, 2})",
      "    @ NNlib ~/.julia/packages/NNlib/Rh36b/src/conv.jl:83",
      "  [8] rrule(::typeof(conv), x::Array{RGB, 4}, w::Array{Float32, 4}, cdims::DenseConvDims{2, 2, 2, 4, 2}; kw::Base.Pairs{Symbol, Union{}, Tuple{}, NamedTuple{(), Tuple{}}})",
      "    @ NNlib ~/.julia/packages/NNlib/Rh36b/src/conv.jl:313",
      "  [9] rrule(::typeof(conv), x::Array{RGB, 4}, w::Array{Float32, 4}, cdims::DenseConvDims{2, 2, 2, 4, 2})",
      "    @ NNlib ~/.julia/packages/NNlib/Rh36b/src/conv.jl:303",
      " [10] rrule(::Zygote.ZygoteRuleConfig{Zygote.Context{true}}, ::Function, ::Array{RGB, 4}, ::Array{Float32, 4}, ::DenseConvDims{2, 2, 2, 4, 2})",
      "    @ ChainRulesCore ~/.julia/packages/ChainRulesCore/C73ay/src/rules.jl:134",
      " [11] chain_rrule",
      "    @ ~/.julia/packages/Zygote/dABKa/src/compiler/chainrules.jl:218 [inlined]",
      " [12] macro expansion",
      "    @ ~/.julia/packages/Zygote/dABKa/src/compiler/interface2.jl:0 [inlined]",
      " [13] _pullback(::Zygote.Context{true}, ::typeof(conv), ::Array{RGB, 4}, ::Array{Float32, 4}, ::DenseConvDims{2, 2, 2, 4, 2})",
      "    @ Zygote ~/.julia/packages/Zygote/dABKa/src/compiler/interface2.jl:9",
      " [14] _pullback",
      "    @ ~/.julia/packages/Flux/nJ0IB/src/layers/conv.jl:200 [inlined]",
      " [15] _pullback(ctx::Zygote.Context{true}, f::Conv{2, 2, typeof(relu), Array{Float32, 4}, Vector{Float32}}, args::Array{RGB, 4})",
      "    @ Zygote ~/.julia/packages/Zygote/dABKa/src/compiler/interface2.jl:0",
      " [16] macro expansion",
      "    @ ~/.julia/packages/Flux/nJ0IB/src/layers/basic.jl:53 [inlined]",
      " [17] _pullback",
      "    @ ~/.julia/packages/Flux/nJ0IB/src/layers/basic.jl:53 [inlined]",
      " [18] _pullback(::Zygote.Context{true}, ::typeof(Flux._applychain), ::Tuple{Conv{2, 2, typeof(relu), Array{Float32, 4}, Vector{Float32}}, MaxPool{2, 4}, Conv{2, 2, typeof(relu), Array{Float32, 4}, Vector{Float32}}, MaxPool{2, 4}, Conv{2, 2, typeof(relu), Array{Float32, 4}, Vector{Float32}}, MaxPool{2, 4}, typeof(flatten), Dense{typeof(identity), Matrix{Float32}, Vector{Float32}}, typeof(softmax)}, ::Array{RGB, 4})",
      "    @ Zygote ~/.julia/packages/Zygote/dABKa/src/compiler/interface2.jl:0",
      " [19] _pullback",
      "    @ ~/.julia/packages/Flux/nJ0IB/src/layers/basic.jl:51 [inlined]",
      " [20] _pullback(ctx::Zygote.Context{true}, f::Chain{Tuple{Conv{2, 2, typeof(relu), Array{Float32, 4}, Vector{Float32}}, MaxPool{2, 4}, Conv{2, 2, typeof(relu), Array{Float32, 4}, Vector{Float32}}, MaxPool{2, 4}, Conv{2, 2, typeof(relu), Array{Float32, 4}, Vector{Float32}}, MaxPool{2, 4}, typeof(flatten), Dense{typeof(identity), Matrix{Float32}, Vector{Float32}}, typeof(softmax)}}, args::Array{RGB, 4})",
      "    @ Zygote ~/.julia/packages/Zygote/dABKa/src/compiler/interface2.jl:0",
      " [21] _pullback",
      "    @ ./In[26]:6 [inlined]",
      " [22] _pullback(::Zygote.Context{true}, ::typeof(L), ::Array{RGB, 4}, ::OneHotArrays.OneHotMatrix{UInt32, 2, Vector{UInt32}})",
      "    @ Zygote ~/.julia/packages/Zygote/dABKa/src/compiler/interface2.jl:0",
      " [23] _apply",
      "    @ ./boot.jl:816 [inlined]",
      " [24] adjoint",
      "    @ ~/.julia/packages/Zygote/dABKa/src/lib/lib.jl:203 [inlined]",
      " [25] _pullback",
      "    @ ~/.julia/packages/ZygoteRules/AIbCs/src/adjoint.jl:65 [inlined]",
      " [26] _pullback",
      "    @ ~/.julia/packages/Flux/nJ0IB/src/optimise/train.jl:132 [inlined]",
      " [27] _pullback(::Zygote.Context{true}, ::Flux.Optimise.var\"#37#40\"{typeof(L), Tuple{Array{RGB, 4}, OneHotArrays.OneHotMatrix{UInt32, 2, Vector{UInt32}}}})",
      "    @ Zygote ~/.julia/packages/Zygote/dABKa/src/compiler/interface2.jl:0",
      " [28] pullback(f::Function, ps::Zygote.Params{Zygote.Buffer{Any, Vector{Any}}})",
      "    @ Zygote ~/.julia/packages/Zygote/dABKa/src/compiler/interface.jl:373",
      " [29] withgradient(f::Function, args::Zygote.Params{Zygote.Buffer{Any, Vector{Any}}})",
      "    @ Zygote ~/.julia/packages/Zygote/dABKa/src/compiler/interface.jl:123",
      " [30] macro expansion",
      "    @ ~/.julia/packages/Flux/nJ0IB/src/optimise/train.jl:131 [inlined]",
      " [31] macro expansion",
      "    @ ~/.julia/packages/ProgressLogging/6KXlp/src/ProgressLogging.jl:328 [inlined]",
      " [32] train!(loss::Function, ps::Zygote.Params{Zygote.Buffer{Any, Vector{Any}}}, data::Vector{Tuple{Array{RGB, 4}, OneHotArrays.OneHotMatrix{UInt32, 2, Vector{UInt32}}}}, opt::Adam; cb::Flux.var\"#throttled#124\"{Flux.var\"#throttled#120#125\"{Bool, Bool, typeof(update_loss!), Int64}})",
      "    @ Flux.Optimise ~/.julia/packages/Flux/nJ0IB/src/optimise/train.jl:129",
      " [33] top-level scope",
      "    @ In[30]:1",
      " [34] eval",
      "    @ ./boot.jl:368 [inlined]",
      " [35] include_string(mapexpr::typeof(REPL.softscope), mod::Module, code::String, filename::String)",
      "    @ Base ./loading.jl:1428"
     ]
    }
   ],
   "source": [
    "Flux.train!(L, ps, train_set, opt;\n",
    "               cb = Flux.throttle(update_loss!, 8))"
   ]
  },
  {
   "cell_type": "code",
   "execution_count": null,
   "metadata": {},
   "outputs": [],
   "source": []
  }
 ],
 "metadata": {
  "@webio": {
   "lastCommId": null,
   "lastKernelId": null
  },
  "kernelspec": {
   "display_name": "Julia 1.8.2",
   "language": "julia",
   "name": "julia-1.8"
  },
  "language_info": {
   "file_extension": ".jl",
   "mimetype": "application/julia",
   "name": "julia",
   "version": "1.8.2"
  }
 },
 "nbformat": 4,
 "nbformat_minor": 2
}
