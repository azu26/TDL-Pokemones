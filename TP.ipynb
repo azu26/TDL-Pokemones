{
 "cells": [
  {
   "cell_type": "markdown",
   "metadata": {},
   "source": [
    "### La idea es que empecemos en este File a procesar la data"
   ]
  },
  {
   "cell_type": "code",
   "execution_count": 43,
   "metadata": {},
   "outputs": [],
   "source": [
    "using CSV\n",
    "using DataFrames\n",
    "using StatsBase"
   ]
  },
  {
   "cell_type": "code",
   "execution_count": 44,
   "metadata": {},
   "outputs": [],
   "source": [
    "using DataFramesMeta\n",
    "using Plots\n",
    "using ImageView\n",
    "using FileIO"
   ]
  },
  {
   "cell_type": "code",
   "execution_count": 45,
   "metadata": {},
   "outputs": [],
   "source": [
    "using Flux"
   ]
  },
  {
   "cell_type": "code",
   "execution_count": 46,
   "metadata": {},
   "outputs": [
    {
     "data": {
      "text/html": [
       "<div><div style = \"float: left;\"><span>220025×2 DataFrame</span></div><div style = \"float: right;\"><span style = \"font-style: italic;\">220000 rows omitted</span></div><div style = \"clear: both;\"></div></div><div class = \"data-frame\" style = \"overflow-x: scroll;\"><table class = \"data-frame\" style = \"margin-bottom: 6px;\"><thead><tr class = \"header\"><th class = \"rowNumber\" style = \"font-weight: bold; text-align: right;\">Row</th><th style = \"text-align: left;\">id</th><th style = \"text-align: left;\">label</th></tr><tr class = \"subheader headerLastRow\"><th class = \"rowNumber\" style = \"font-weight: bold; text-align: right;\"></th><th title = \"String\" style = \"text-align: left;\">String</th><th title = \"Int64\" style = \"text-align: left;\">Int64</th></tr></thead><tbody><tr><td class = \"rowNumber\" style = \"font-weight: bold; text-align: right;\">1</td><td style = \"text-align: left;\">f38a6374c348f90b587e046aac6079959adf3835</td><td style = \"text-align: right;\">0</td></tr><tr><td class = \"rowNumber\" style = \"font-weight: bold; text-align: right;\">2</td><td style = \"text-align: left;\">c18f2d887b7ae4f6742ee445113fa1aef383ed77</td><td style = \"text-align: right;\">1</td></tr><tr><td class = \"rowNumber\" style = \"font-weight: bold; text-align: right;\">3</td><td style = \"text-align: left;\">755db6279dae599ebb4d39a9123cce439965282d</td><td style = \"text-align: right;\">0</td></tr><tr><td class = \"rowNumber\" style = \"font-weight: bold; text-align: right;\">4</td><td style = \"text-align: left;\">bc3f0c64fb968ff4a8bd33af6971ecae77c75e08</td><td style = \"text-align: right;\">0</td></tr><tr><td class = \"rowNumber\" style = \"font-weight: bold; text-align: right;\">5</td><td style = \"text-align: left;\">068aba587a4950175d04c680d38943fd488d6a9d</td><td style = \"text-align: right;\">0</td></tr><tr><td class = \"rowNumber\" style = \"font-weight: bold; text-align: right;\">6</td><td style = \"text-align: left;\">acfe80838488fae3c89bd21ade75be5c34e66be7</td><td style = \"text-align: right;\">0</td></tr><tr><td class = \"rowNumber\" style = \"font-weight: bold; text-align: right;\">7</td><td style = \"text-align: left;\">a24ce148f6ffa7ef8eefb4efb12ebffe8dd700da</td><td style = \"text-align: right;\">1</td></tr><tr><td class = \"rowNumber\" style = \"font-weight: bold; text-align: right;\">8</td><td style = \"text-align: left;\">7f6ccae485af121e0b6ee733022e226ee6b0c65f</td><td style = \"text-align: right;\">1</td></tr><tr><td class = \"rowNumber\" style = \"font-weight: bold; text-align: right;\">9</td><td style = \"text-align: left;\">559e55a64c9ba828f700e948f6886f4cea919261</td><td style = \"text-align: right;\">0</td></tr><tr><td class = \"rowNumber\" style = \"font-weight: bold; text-align: right;\">10</td><td style = \"text-align: left;\">8eaaa7a400aa79d36c2440a4aa101cc14256cda4</td><td style = \"text-align: right;\">0</td></tr><tr><td class = \"rowNumber\" style = \"font-weight: bold; text-align: right;\">11</td><td style = \"text-align: left;\">a106469bbfda4cdc5a9da7ac0152927bf1b4a92d</td><td style = \"text-align: right;\">0</td></tr><tr><td class = \"rowNumber\" style = \"font-weight: bold; text-align: right;\">12</td><td style = \"text-align: left;\">c3d660212bf2a11c994e0eadff13770a9927b731</td><td style = \"text-align: right;\">1</td></tr><tr><td class = \"rowNumber\" style = \"font-weight: bold; text-align: right;\">13</td><td style = \"text-align: left;\">a1991e73a9b676faddd2bd47c39754b14d1eb923</td><td style = \"text-align: right;\">0</td></tr><tr><td style = \"text-align: right;\">&vellip;</td><td style = \"text-align: right;\">&vellip;</td><td style = \"text-align: right;\">&vellip;</td></tr><tr><td class = \"rowNumber\" style = \"font-weight: bold; text-align: right;\">220014</td><td style = \"text-align: left;\">1092801a1d1d7cc8e45b1d909c553ea400615d68</td><td style = \"text-align: right;\">0</td></tr><tr><td class = \"rowNumber\" style = \"font-weight: bold; text-align: right;\">220015</td><td style = \"text-align: left;\">309210db7f424edbc22b2d13bf2fa27518b18f5c</td><td style = \"text-align: right;\">1</td></tr><tr><td class = \"rowNumber\" style = \"font-weight: bold; text-align: right;\">220016</td><td style = \"text-align: left;\">9c0ad1bf43e2fa5e25fac5c8af616c5ae194c187</td><td style = \"text-align: right;\">0</td></tr><tr><td class = \"rowNumber\" style = \"font-weight: bold; text-align: right;\">220017</td><td style = \"text-align: left;\">4236e88fb08d16316395f0e71a0a44c4a6fdf794</td><td style = \"text-align: right;\">0</td></tr><tr><td class = \"rowNumber\" style = \"font-weight: bold; text-align: right;\">220018</td><td style = \"text-align: left;\">025427fc9743354111cbbc60cab9be094465602b</td><td style = \"text-align: right;\">0</td></tr><tr><td class = \"rowNumber\" style = \"font-weight: bold; text-align: right;\">220019</td><td style = \"text-align: left;\">cdf7171a796090072ce521012497c78c9a56cad3</td><td style = \"text-align: right;\">0</td></tr><tr><td class = \"rowNumber\" style = \"font-weight: bold; text-align: right;\">220020</td><td style = \"text-align: left;\">1fdacc29221a64e39d5d294d114c9e29da8705ae</td><td style = \"text-align: right;\">0</td></tr><tr><td class = \"rowNumber\" style = \"font-weight: bold; text-align: right;\">220021</td><td style = \"text-align: left;\">53e9aa9d46e720bf3c6a7528d1fca3ba6e2e49f6</td><td style = \"text-align: right;\">0</td></tr><tr><td class = \"rowNumber\" style = \"font-weight: bold; text-align: right;\">220022</td><td style = \"text-align: left;\">d4b854fe38b07fe2831ad73892b3cec877689576</td><td style = \"text-align: right;\">1</td></tr><tr><td class = \"rowNumber\" style = \"font-weight: bold; text-align: right;\">220023</td><td style = \"text-align: left;\">3d046cead1a2a5cbe00b2b4847cfb7ba7cf5fe75</td><td style = \"text-align: right;\">0</td></tr><tr><td class = \"rowNumber\" style = \"font-weight: bold; text-align: right;\">220024</td><td style = \"text-align: left;\">f129691c13433f66e1e0671ff1fe80944816f5a2</td><td style = \"text-align: right;\">0</td></tr><tr><td class = \"rowNumber\" style = \"font-weight: bold; text-align: right;\">220025</td><td style = \"text-align: left;\">a81f84895ddcd522302ddf34be02eb1b3e5af1cb</td><td style = \"text-align: right;\">1</td></tr></tbody></table></div>"
      ],
      "text/latex": [
       "\\begin{tabular}{r|cc}\n",
       "\t& id & label\\\\\n",
       "\t\\hline\n",
       "\t& String & Int64\\\\\n",
       "\t\\hline\n",
       "\t1 & f38a6374c348f90b587e046aac6079959adf3835 & 0 \\\\\n",
       "\t2 & c18f2d887b7ae4f6742ee445113fa1aef383ed77 & 1 \\\\\n",
       "\t3 & 755db6279dae599ebb4d39a9123cce439965282d & 0 \\\\\n",
       "\t4 & bc3f0c64fb968ff4a8bd33af6971ecae77c75e08 & 0 \\\\\n",
       "\t5 & 068aba587a4950175d04c680d38943fd488d6a9d & 0 \\\\\n",
       "\t6 & acfe80838488fae3c89bd21ade75be5c34e66be7 & 0 \\\\\n",
       "\t7 & a24ce148f6ffa7ef8eefb4efb12ebffe8dd700da & 1 \\\\\n",
       "\t8 & 7f6ccae485af121e0b6ee733022e226ee6b0c65f & 1 \\\\\n",
       "\t9 & 559e55a64c9ba828f700e948f6886f4cea919261 & 0 \\\\\n",
       "\t10 & 8eaaa7a400aa79d36c2440a4aa101cc14256cda4 & 0 \\\\\n",
       "\t11 & a106469bbfda4cdc5a9da7ac0152927bf1b4a92d & 0 \\\\\n",
       "\t12 & c3d660212bf2a11c994e0eadff13770a9927b731 & 1 \\\\\n",
       "\t13 & a1991e73a9b676faddd2bd47c39754b14d1eb923 & 0 \\\\\n",
       "\t14 & 08566ce82d4406f464c9c2a3cd014704735db7a9 & 0 \\\\\n",
       "\t15 & 94fa32b29cc1c00403176c0795fffa3cfaa0f20e & 1 \\\\\n",
       "\t16 & f416de7491a31951f79b3cee75b002f4d1bf0162 & 0 \\\\\n",
       "\t17 & a1c001f6b242c72d3066f15ac6eb059ea72d30ba & 0 \\\\\n",
       "\t18 & 0b820b71670c039dd0a51333d1c919f471a9e940 & 1 \\\\\n",
       "\t19 & 730431efa2f79927156dcc4382819e9a6cc2c5bb & 0 \\\\\n",
       "\t20 & d34af1e7500f2f3de41b0e6fdeb2ed245d814590 & 1 \\\\\n",
       "\t21 & 4b7a73f1fe1dafe2ffb7d2c0b83107f060b8d693 & 0 \\\\\n",
       "\t22 & 5fc468030b7fdb5a0b656a45fa0dde5553dd9064 & 0 \\\\\n",
       "\t23 & 4e1e69b64cdeb757178fc5b657b4e5ea07e53935 & 0 \\\\\n",
       "\t24 & 464327050ef07bb927f8bfb5c4e4dd5ebd4d3c09 & 1 \\\\\n",
       "\t25 & 6961bdcc16f6c1d7db88fc6a7823178288c2a29e & 1 \\\\\n",
       "\t26 & 8e294a0fe82d36c9ae921ef2cc76ed0d0691b90f & 0 \\\\\n",
       "\t27 & 4e491f0beca3cc68b5013cbe726a9b358bf0f668 & 0 \\\\\n",
       "\t28 & ee04141918b4acc1477dd4fd280c64f52a33fcb7 & 0 \\\\\n",
       "\t29 & 233bf46a575c1731821073e318c029e5df8b12ff & 1 \\\\\n",
       "\t30 & e6e31b49681a06c68aca9b64c42a4f002189a081 & 1 \\\\\n",
       "\t$\\dots$ & $\\dots$ & $\\dots$ \\\\\n",
       "\\end{tabular}\n"
      ],
      "text/plain": [
       "\u001b[1m220025×2 DataFrame\u001b[0m\n",
       "\u001b[1m    Row \u001b[0m│\u001b[1m id                                \u001b[0m\u001b[1m label \u001b[0m\n",
       "        │\u001b[90m String                            \u001b[0m\u001b[90m Int64 \u001b[0m\n",
       "────────┼──────────────────────────────────────────\n",
       "      1 │ f38a6374c348f90b587e046aac607995…      0\n",
       "      2 │ c18f2d887b7ae4f6742ee445113fa1ae…      1\n",
       "      3 │ 755db6279dae599ebb4d39a9123cce43…      0\n",
       "      4 │ bc3f0c64fb968ff4a8bd33af6971ecae…      0\n",
       "      5 │ 068aba587a4950175d04c680d38943fd…      0\n",
       "      6 │ acfe80838488fae3c89bd21ade75be5c…      0\n",
       "      7 │ a24ce148f6ffa7ef8eefb4efb12ebffe…      1\n",
       "      8 │ 7f6ccae485af121e0b6ee733022e226e…      1\n",
       "      9 │ 559e55a64c9ba828f700e948f6886f4c…      0\n",
       "     10 │ 8eaaa7a400aa79d36c2440a4aa101cc1…      0\n",
       "     11 │ a106469bbfda4cdc5a9da7ac0152927b…      0\n",
       "   ⋮    │                 ⋮                    ⋮\n",
       " 220016 │ 9c0ad1bf43e2fa5e25fac5c8af616c5a…      0\n",
       " 220017 │ 4236e88fb08d16316395f0e71a0a44c4…      0\n",
       " 220018 │ 025427fc9743354111cbbc60cab9be09…      0\n",
       " 220019 │ cdf7171a796090072ce521012497c78c…      0\n",
       " 220020 │ 1fdacc29221a64e39d5d294d114c9e29…      0\n",
       " 220021 │ 53e9aa9d46e720bf3c6a7528d1fca3ba…      0\n",
       " 220022 │ d4b854fe38b07fe2831ad73892b3cec8…      1\n",
       " 220023 │ 3d046cead1a2a5cbe00b2b4847cfb7ba…      0\n",
       " 220024 │ f129691c13433f66e1e0671ff1fe8094…      0\n",
       " 220025 │ a81f84895ddcd522302ddf34be02eb1b…      1\n",
       "\u001b[36m                                220004 rows omitted\u001b[0m"
      ]
     },
     "execution_count": 46,
     "metadata": {},
     "output_type": "execute_result"
    }
   ],
   "source": [
    "df = DataFrame(CSV.File(\"./train_labels.csv\"))"
   ]
  },
  {
   "cell_type": "code",
   "execution_count": 47,
   "metadata": {},
   "outputs": [
    {
     "data": {
      "text/plain": [
       "value_counts (generic function with 1 method)"
      ]
     },
     "execution_count": 47,
     "metadata": {},
     "output_type": "execute_result"
    }
   ],
   "source": [
    "value_counts(df, col) = combine(groupby(df, col), nrow)"
   ]
  },
  {
   "cell_type": "code",
   "execution_count": 48,
   "metadata": {},
   "outputs": [
    {
     "data": {
      "text/html": [
       "<div><div style = \"float: left;\"><span>2×2 DataFrame</span></div><div style = \"clear: both;\"></div></div><div class = \"data-frame\" style = \"overflow-x: scroll;\"><table class = \"data-frame\" style = \"margin-bottom: 6px;\"><thead><tr class = \"header\"><th class = \"rowNumber\" style = \"font-weight: bold; text-align: right;\">Row</th><th style = \"text-align: left;\">label</th><th style = \"text-align: left;\">nrow</th></tr><tr class = \"subheader headerLastRow\"><th class = \"rowNumber\" style = \"font-weight: bold; text-align: right;\"></th><th title = \"Int64\" style = \"text-align: left;\">Int64</th><th title = \"Int64\" style = \"text-align: left;\">Int64</th></tr></thead><tbody><tr><td class = \"rowNumber\" style = \"font-weight: bold; text-align: right;\">1</td><td style = \"text-align: right;\">0</td><td style = \"text-align: right;\">130908</td></tr><tr><td class = \"rowNumber\" style = \"font-weight: bold; text-align: right;\">2</td><td style = \"text-align: right;\">1</td><td style = \"text-align: right;\">89117</td></tr></tbody></table></div>"
      ],
      "text/latex": [
       "\\begin{tabular}{r|cc}\n",
       "\t& label & nrow\\\\\n",
       "\t\\hline\n",
       "\t& Int64 & Int64\\\\\n",
       "\t\\hline\n",
       "\t1 & 0 & 130908 \\\\\n",
       "\t2 & 1 & 89117 \\\\\n",
       "\\end{tabular}\n"
      ],
      "text/plain": [
       "\u001b[1m2×2 DataFrame\u001b[0m\n",
       "\u001b[1m Row \u001b[0m│\u001b[1m label \u001b[0m\u001b[1m nrow   \u001b[0m\n",
       "     │\u001b[90m Int64 \u001b[0m\u001b[90m Int64  \u001b[0m\n",
       "─────┼───────────────\n",
       "   1 │     0  130908\n",
       "   2 │     1   89117"
      ]
     },
     "execution_count": 48,
     "metadata": {},
     "output_type": "execute_result"
    }
   ],
   "source": [
    "value_counts(df, \"label\")"
   ]
  },
  {
   "cell_type": "code",
   "execution_count": 49,
   "metadata": {},
   "outputs": [
    {
     "data": {
      "text/html": [
       "<div><div style = \"float: left;\"><span>1000×2 DataFrame</span></div><div style = \"float: right;\"><span style = \"font-style: italic;\">975 rows omitted</span></div><div style = \"clear: both;\"></div></div><div class = \"data-frame\" style = \"overflow-x: scroll;\"><table class = \"data-frame\" style = \"margin-bottom: 6px;\"><thead><tr class = \"header\"><th class = \"rowNumber\" style = \"font-weight: bold; text-align: right;\">Row</th><th style = \"text-align: left;\">id</th><th style = \"text-align: left;\">label</th></tr><tr class = \"subheader headerLastRow\"><th class = \"rowNumber\" style = \"font-weight: bold; text-align: right;\"></th><th title = \"String\" style = \"text-align: left;\">String</th><th title = \"Int64\" style = \"text-align: left;\">Int64</th></tr></thead><tbody><tr><td class = \"rowNumber\" style = \"font-weight: bold; text-align: right;\">1</td><td style = \"text-align: left;\">24b2e9582b5681a6e2c91fc74316f25c6ae38b81</td><td style = \"text-align: right;\">0</td></tr><tr><td class = \"rowNumber\" style = \"font-weight: bold; text-align: right;\">2</td><td style = \"text-align: left;\">7b5eed38e2d6de7393cbae90ba39f60f3171efe6</td><td style = \"text-align: right;\">0</td></tr><tr><td class = \"rowNumber\" style = \"font-weight: bold; text-align: right;\">3</td><td style = \"text-align: left;\">e5904a30c37ec6565608f38c3e9340d3c63470c1</td><td style = \"text-align: right;\">1</td></tr><tr><td class = \"rowNumber\" style = \"font-weight: bold; text-align: right;\">4</td><td style = \"text-align: left;\">80625e383dccdb15006d1f4b5a340b725eba7e09</td><td style = \"text-align: right;\">1</td></tr><tr><td class = \"rowNumber\" style = \"font-weight: bold; text-align: right;\">5</td><td style = \"text-align: left;\">fb86a744eb1cd4a343a154e4ccb0013f2a0b8474</td><td style = \"text-align: right;\">1</td></tr><tr><td class = \"rowNumber\" style = \"font-weight: bold; text-align: right;\">6</td><td style = \"text-align: left;\">2c8e186d0f4dd417f9737d4670d8ef1cc644d567</td><td style = \"text-align: right;\">1</td></tr><tr><td class = \"rowNumber\" style = \"font-weight: bold; text-align: right;\">7</td><td style = \"text-align: left;\">9b9e0ac7af2b130903137448d083247b2b1c455e</td><td style = \"text-align: right;\">0</td></tr><tr><td class = \"rowNumber\" style = \"font-weight: bold; text-align: right;\">8</td><td style = \"text-align: left;\">664023ea4106a18c3b418843345f24f106c37ba2</td><td style = \"text-align: right;\">0</td></tr><tr><td class = \"rowNumber\" style = \"font-weight: bold; text-align: right;\">9</td><td style = \"text-align: left;\">e48f8622dda1de9207ee649d214ff9661d58aaa6</td><td style = \"text-align: right;\">0</td></tr><tr><td class = \"rowNumber\" style = \"font-weight: bold; text-align: right;\">10</td><td style = \"text-align: left;\">c8627aed8aa33ba016256dd2e0a0e0395a11b105</td><td style = \"text-align: right;\">0</td></tr><tr><td class = \"rowNumber\" style = \"font-weight: bold; text-align: right;\">11</td><td style = \"text-align: left;\">320154acf960af4007740b7814574851697fd51d</td><td style = \"text-align: right;\">0</td></tr><tr><td class = \"rowNumber\" style = \"font-weight: bold; text-align: right;\">12</td><td style = \"text-align: left;\">11dbc5d394cb3b56aa329fdface9ff7bc8e2ce90</td><td style = \"text-align: right;\">0</td></tr><tr><td class = \"rowNumber\" style = \"font-weight: bold; text-align: right;\">13</td><td style = \"text-align: left;\">290f68456d2f9f88fcd4d32cb85020bf18125d98</td><td style = \"text-align: right;\">1</td></tr><tr><td style = \"text-align: right;\">&vellip;</td><td style = \"text-align: right;\">&vellip;</td><td style = \"text-align: right;\">&vellip;</td></tr><tr><td class = \"rowNumber\" style = \"font-weight: bold; text-align: right;\">989</td><td style = \"text-align: left;\">0caa613d5c6da43bf72816a20e46111306eff30b</td><td style = \"text-align: right;\">0</td></tr><tr><td class = \"rowNumber\" style = \"font-weight: bold; text-align: right;\">990</td><td style = \"text-align: left;\">10ed0d7f2ba481625f71a23dc340ac3f0c090575</td><td style = \"text-align: right;\">1</td></tr><tr><td class = \"rowNumber\" style = \"font-weight: bold; text-align: right;\">991</td><td style = \"text-align: left;\">018efc9a03b3d1f04a46485b4522fb4cbc25b03b</td><td style = \"text-align: right;\">1</td></tr><tr><td class = \"rowNumber\" style = \"font-weight: bold; text-align: right;\">992</td><td style = \"text-align: left;\">4bc7d83be54a2bb16c9527bf794cb655013c502a</td><td style = \"text-align: right;\">0</td></tr><tr><td class = \"rowNumber\" style = \"font-weight: bold; text-align: right;\">993</td><td style = \"text-align: left;\">945b8bb0e492b3a4b191b04d68920f296683171f</td><td style = \"text-align: right;\">0</td></tr><tr><td class = \"rowNumber\" style = \"font-weight: bold; text-align: right;\">994</td><td style = \"text-align: left;\">0e78cba847839208ccfd3801b874d471428deea6</td><td style = \"text-align: right;\">0</td></tr><tr><td class = \"rowNumber\" style = \"font-weight: bold; text-align: right;\">995</td><td style = \"text-align: left;\">e71ac635afa11231202d71b9e0740710ef1d11d0</td><td style = \"text-align: right;\">1</td></tr><tr><td class = \"rowNumber\" style = \"font-weight: bold; text-align: right;\">996</td><td style = \"text-align: left;\">a0ffe2dd7cf367a3b6fe221011215f130d1060fd</td><td style = \"text-align: right;\">1</td></tr><tr><td class = \"rowNumber\" style = \"font-weight: bold; text-align: right;\">997</td><td style = \"text-align: left;\">1509c1e347f8dc3ede9f2d6de4d1a7a0b2627cd2</td><td style = \"text-align: right;\">1</td></tr><tr><td class = \"rowNumber\" style = \"font-weight: bold; text-align: right;\">998</td><td style = \"text-align: left;\">1f2af3d4d08ca1b322dc98613560888fd7453fea</td><td style = \"text-align: right;\">0</td></tr><tr><td class = \"rowNumber\" style = \"font-weight: bold; text-align: right;\">999</td><td style = \"text-align: left;\">af0aec6691834004c0d586acd6082ca827f7a414</td><td style = \"text-align: right;\">0</td></tr><tr><td class = \"rowNumber\" style = \"font-weight: bold; text-align: right;\">1000</td><td style = \"text-align: left;\">8bb54102ed537fd2cb68043059b1279dbc28eeee</td><td style = \"text-align: right;\">0</td></tr></tbody></table></div>"
      ],
      "text/latex": [
       "\\begin{tabular}{r|cc}\n",
       "\t& id & label\\\\\n",
       "\t\\hline\n",
       "\t& String & Int64\\\\\n",
       "\t\\hline\n",
       "\t1 & 24b2e9582b5681a6e2c91fc74316f25c6ae38b81 & 0 \\\\\n",
       "\t2 & 7b5eed38e2d6de7393cbae90ba39f60f3171efe6 & 0 \\\\\n",
       "\t3 & e5904a30c37ec6565608f38c3e9340d3c63470c1 & 1 \\\\\n",
       "\t4 & 80625e383dccdb15006d1f4b5a340b725eba7e09 & 1 \\\\\n",
       "\t5 & fb86a744eb1cd4a343a154e4ccb0013f2a0b8474 & 1 \\\\\n",
       "\t6 & 2c8e186d0f4dd417f9737d4670d8ef1cc644d567 & 1 \\\\\n",
       "\t7 & 9b9e0ac7af2b130903137448d083247b2b1c455e & 0 \\\\\n",
       "\t8 & 664023ea4106a18c3b418843345f24f106c37ba2 & 0 \\\\\n",
       "\t9 & e48f8622dda1de9207ee649d214ff9661d58aaa6 & 0 \\\\\n",
       "\t10 & c8627aed8aa33ba016256dd2e0a0e0395a11b105 & 0 \\\\\n",
       "\t11 & 320154acf960af4007740b7814574851697fd51d & 0 \\\\\n",
       "\t12 & 11dbc5d394cb3b56aa329fdface9ff7bc8e2ce90 & 0 \\\\\n",
       "\t13 & 290f68456d2f9f88fcd4d32cb85020bf18125d98 & 1 \\\\\n",
       "\t14 & 476ed68558202fd74dc72f4bb694911a7bc32c0f & 0 \\\\\n",
       "\t15 & f592e6bbfa329be1a717278a19e98fddc1cf2d00 & 1 \\\\\n",
       "\t16 & 4b568eed7c0c4d23b4ec6c64c31d067a8a7d6b32 & 0 \\\\\n",
       "\t17 & 13df61d1db603f9dffa4c8a32ee7ba41fa4fcd86 & 0 \\\\\n",
       "\t18 & 593c9b4cf4912a73ba55a47d6c559cf5fb09c7ff & 0 \\\\\n",
       "\t19 & 59292b9df82ef0e64552ced2bc89bbac5d00e92c & 1 \\\\\n",
       "\t20 & bf3b1c6de9e44ba7b28b2a9cf5f3ac8f15a54a82 & 0 \\\\\n",
       "\t21 & 1947d0647e3ecfc8a30615c76c879081adee1d7c & 0 \\\\\n",
       "\t22 & 7dec5dbbfef6eec85b391adc430f54e9e9c9cdb6 & 0 \\\\\n",
       "\t23 & a8aa824dd474af8fed9aa2a57ce7a1f72e4ff43d & 0 \\\\\n",
       "\t24 & 0d8a8f823f126806160e48c638a88cd16864c7f3 & 0 \\\\\n",
       "\t25 & 5d743dd280fc0aeb97952965e6ace7b5cd850410 & 0 \\\\\n",
       "\t26 & 5c73648ccb23fb7fe08808db144176ec5f30578b & 0 \\\\\n",
       "\t27 & 76c83c493c6338bac970bc34d5ad9b295527f48a & 1 \\\\\n",
       "\t28 & 511c4fc8c8dfc5ce2fe2338b649cfb0c1fa60660 & 0 \\\\\n",
       "\t29 & 7c0e9f0dd6125909258c8d4116f8cd07a734dbf0 & 0 \\\\\n",
       "\t30 & e18e9be9a39330f9fa272c29b47bf4c5a85d9c53 & 1 \\\\\n",
       "\t$\\dots$ & $\\dots$ & $\\dots$ \\\\\n",
       "\\end{tabular}\n"
      ],
      "text/plain": [
       "\u001b[1m1000×2 DataFrame\u001b[0m\n",
       "\u001b[1m  Row \u001b[0m│\u001b[1m id                                \u001b[0m\u001b[1m label \u001b[0m\n",
       "      │\u001b[90m String                            \u001b[0m\u001b[90m Int64 \u001b[0m\n",
       "──────┼──────────────────────────────────────────\n",
       "    1 │ 24b2e9582b5681a6e2c91fc74316f25c…      0\n",
       "    2 │ 7b5eed38e2d6de7393cbae90ba39f60f…      0\n",
       "    3 │ e5904a30c37ec6565608f38c3e9340d3…      1\n",
       "    4 │ 80625e383dccdb15006d1f4b5a340b72…      1\n",
       "    5 │ fb86a744eb1cd4a343a154e4ccb0013f…      1\n",
       "    6 │ 2c8e186d0f4dd417f9737d4670d8ef1c…      1\n",
       "    7 │ 9b9e0ac7af2b130903137448d083247b…      0\n",
       "    8 │ 664023ea4106a18c3b418843345f24f1…      0\n",
       "    9 │ e48f8622dda1de9207ee649d214ff966…      0\n",
       "   10 │ c8627aed8aa33ba016256dd2e0a0e039…      0\n",
       "   11 │ 320154acf960af4007740b7814574851…      0\n",
       "  ⋮   │                 ⋮                    ⋮\n",
       "  991 │ 018efc9a03b3d1f04a46485b4522fb4c…      1\n",
       "  992 │ 4bc7d83be54a2bb16c9527bf794cb655…      0\n",
       "  993 │ 945b8bb0e492b3a4b191b04d68920f29…      0\n",
       "  994 │ 0e78cba847839208ccfd3801b874d471…      0\n",
       "  995 │ e71ac635afa11231202d71b9e0740710…      1\n",
       "  996 │ a0ffe2dd7cf367a3b6fe221011215f13…      1\n",
       "  997 │ 1509c1e347f8dc3ede9f2d6de4d1a7a0…      1\n",
       "  998 │ 1f2af3d4d08ca1b322dc98613560888f…      0\n",
       "  999 │ af0aec6691834004c0d586acd6082ca8…      0\n",
       " 1000 │ 8bb54102ed537fd2cb68043059b1279d…      0\n",
       "\u001b[36m                                 979 rows omitted\u001b[0m"
      ]
     },
     "execution_count": 49,
     "metadata": {},
     "output_type": "execute_result"
    }
   ],
   "source": [
    "#Nos quedamos con 1000 filas para que el procesamiento sea mas rápido\n",
    "df = df[sample(axes(df, 1), 1000; replace = false, ordered = true), :]"
   ]
  },
  {
   "cell_type": "code",
   "execution_count": 50,
   "metadata": {},
   "outputs": [
    {
     "data": {
      "text/html": [
       "<div><div style = \"float: left;\"><span>5×2 DataFrame</span></div><div style = \"clear: both;\"></div></div><div class = \"data-frame\" style = \"overflow-x: scroll;\"><table class = \"data-frame\" style = \"margin-bottom: 6px;\"><thead><tr class = \"header\"><th class = \"rowNumber\" style = \"font-weight: bold; text-align: right;\">Row</th><th style = \"text-align: left;\">id</th><th style = \"text-align: left;\">label</th></tr><tr class = \"subheader headerLastRow\"><th class = \"rowNumber\" style = \"font-weight: bold; text-align: right;\"></th><th title = \"String\" style = \"text-align: left;\">String</th><th title = \"Int64\" style = \"text-align: left;\">Int64</th></tr></thead><tbody><tr><td class = \"rowNumber\" style = \"font-weight: bold; text-align: right;\">1</td><td style = \"text-align: left;\">5d310bcc79d619cc1b91f143630ace97a6d09451</td><td style = \"text-align: right;\">1</td></tr><tr><td class = \"rowNumber\" style = \"font-weight: bold; text-align: right;\">2</td><td style = \"text-align: left;\">fae7a32085ce132fcf42feda60ddcda6ea216037</td><td style = \"text-align: right;\">1</td></tr><tr><td class = \"rowNumber\" style = \"font-weight: bold; text-align: right;\">3</td><td style = \"text-align: left;\">94326868f5803d3ad8b200b9391f36948cc71f7f</td><td style = \"text-align: right;\">1</td></tr><tr><td class = \"rowNumber\" style = \"font-weight: bold; text-align: right;\">4</td><td style = \"text-align: left;\">57ac5876915fc8e6a4b5e9a35eddc45b203c665b</td><td style = \"text-align: right;\">1</td></tr><tr><td class = \"rowNumber\" style = \"font-weight: bold; text-align: right;\">5</td><td style = \"text-align: left;\">acdf0729ba13e35e1c4b4a31dc2f3fe8d07d5b62</td><td style = \"text-align: right;\">1</td></tr></tbody></table></div>"
      ],
      "text/latex": [
       "\\begin{tabular}{r|cc}\n",
       "\t& id & label\\\\\n",
       "\t\\hline\n",
       "\t& String & Int64\\\\\n",
       "\t\\hline\n",
       "\t1 & 5d310bcc79d619cc1b91f143630ace97a6d09451 & 1 \\\\\n",
       "\t2 & fae7a32085ce132fcf42feda60ddcda6ea216037 & 1 \\\\\n",
       "\t3 & 94326868f5803d3ad8b200b9391f36948cc71f7f & 1 \\\\\n",
       "\t4 & 57ac5876915fc8e6a4b5e9a35eddc45b203c665b & 1 \\\\\n",
       "\t5 & acdf0729ba13e35e1c4b4a31dc2f3fe8d07d5b62 & 1 \\\\\n",
       "\\end{tabular}\n"
      ],
      "text/plain": [
       "\u001b[1m5×2 DataFrame\u001b[0m\n",
       "\u001b[1m Row \u001b[0m│\u001b[1m id                                \u001b[0m\u001b[1m label \u001b[0m\n",
       "     │\u001b[90m String                            \u001b[0m\u001b[90m Int64 \u001b[0m\n",
       "─────┼──────────────────────────────────────────\n",
       "   1 │ 5d310bcc79d619cc1b91f143630ace97…      1\n",
       "   2 │ fae7a32085ce132fcf42feda60ddcda6…      1\n",
       "   3 │ 94326868f5803d3ad8b200b9391f3694…      1\n",
       "   4 │ 57ac5876915fc8e6a4b5e9a35eddc45b…      1\n",
       "   5 │ acdf0729ba13e35e1c4b4a31dc2f3fe8…      1"
      ]
     },
     "execution_count": 50,
     "metadata": {},
     "output_type": "execute_result"
    }
   ],
   "source": [
    "es_positivo(valor::Integer) = valor == 1\n",
    "positivos = filter(:label => es_positivo, df)\n",
    "positivos_sample = positivos[sample(axes(positivos, 1), 5; replace = false, ordered = true), :]"
   ]
  },
  {
   "cell_type": "code",
   "execution_count": 51,
   "metadata": {},
   "outputs": [
    {
     "data": {
      "text/html": [
       "<div><div style = \"float: left;\"><span>5×2 DataFrame</span></div><div style = \"clear: both;\"></div></div><div class = \"data-frame\" style = \"overflow-x: scroll;\"><table class = \"data-frame\" style = \"margin-bottom: 6px;\"><thead><tr class = \"header\"><th class = \"rowNumber\" style = \"font-weight: bold; text-align: right;\">Row</th><th style = \"text-align: left;\">id</th><th style = \"text-align: left;\">label</th></tr><tr class = \"subheader headerLastRow\"><th class = \"rowNumber\" style = \"font-weight: bold; text-align: right;\"></th><th title = \"String\" style = \"text-align: left;\">String</th><th title = \"Int64\" style = \"text-align: left;\">Int64</th></tr></thead><tbody><tr><td class = \"rowNumber\" style = \"font-weight: bold; text-align: right;\">1</td><td style = \"text-align: left;\">d2db1bb1354f9505aca19bd45e06bf2699fdbeaa</td><td style = \"text-align: right;\">0</td></tr><tr><td class = \"rowNumber\" style = \"font-weight: bold; text-align: right;\">2</td><td style = \"text-align: left;\">edca1dd756f1fbb49a6601ac0c247b894a6356bf</td><td style = \"text-align: right;\">0</td></tr><tr><td class = \"rowNumber\" style = \"font-weight: bold; text-align: right;\">3</td><td style = \"text-align: left;\">5e38f2841fd1383cad808a37e8b30e5c649f4781</td><td style = \"text-align: right;\">0</td></tr><tr><td class = \"rowNumber\" style = \"font-weight: bold; text-align: right;\">4</td><td style = \"text-align: left;\">cc9e20c72cf2a2c3e83d318b992650a4396fd01e</td><td style = \"text-align: right;\">0</td></tr><tr><td class = \"rowNumber\" style = \"font-weight: bold; text-align: right;\">5</td><td style = \"text-align: left;\">b3cc7671d7c40a48af65bbab412d9f505aaeb16a</td><td style = \"text-align: right;\">0</td></tr></tbody></table></div>"
      ],
      "text/latex": [
       "\\begin{tabular}{r|cc}\n",
       "\t& id & label\\\\\n",
       "\t\\hline\n",
       "\t& String & Int64\\\\\n",
       "\t\\hline\n",
       "\t1 & d2db1bb1354f9505aca19bd45e06bf2699fdbeaa & 0 \\\\\n",
       "\t2 & edca1dd756f1fbb49a6601ac0c247b894a6356bf & 0 \\\\\n",
       "\t3 & 5e38f2841fd1383cad808a37e8b30e5c649f4781 & 0 \\\\\n",
       "\t4 & cc9e20c72cf2a2c3e83d318b992650a4396fd01e & 0 \\\\\n",
       "\t5 & b3cc7671d7c40a48af65bbab412d9f505aaeb16a & 0 \\\\\n",
       "\\end{tabular}\n"
      ],
      "text/plain": [
       "\u001b[1m5×2 DataFrame\u001b[0m\n",
       "\u001b[1m Row \u001b[0m│\u001b[1m id                                \u001b[0m\u001b[1m label \u001b[0m\n",
       "     │\u001b[90m String                            \u001b[0m\u001b[90m Int64 \u001b[0m\n",
       "─────┼──────────────────────────────────────────\n",
       "   1 │ d2db1bb1354f9505aca19bd45e06bf26…      0\n",
       "   2 │ edca1dd756f1fbb49a6601ac0c247b89…      0\n",
       "   3 │ 5e38f2841fd1383cad808a37e8b30e5c…      0\n",
       "   4 │ cc9e20c72cf2a2c3e83d318b992650a4…      0\n",
       "   5 │ b3cc7671d7c40a48af65bbab412d9f50…      0"
      ]
     },
     "execution_count": 51,
     "metadata": {},
     "output_type": "execute_result"
    }
   ],
   "source": [
    "es_negativo(valor::Integer) = valor == 0\n",
    "negativos = filter(:label => es_negativo, df)\n",
    "negativos_sample = negativos[sample(axes(negativos, 1), 5; replace = false, ordered = true), :]"
   ]
  },
  {
   "cell_type": "code",
   "execution_count": 52,
   "metadata": {},
   "outputs": [],
   "source": [
    "using Flux, Statistics\n",
    "using Flux: onehotbatch, onecold, crossentropy, throttle\n",
    "using Base.Iterators: repeated, partition\n",
    "using Printf, BSON\n",
    "using ColorVectorSpace"
   ]
  },
  {
   "cell_type": "code",
   "execution_count": 53,
   "metadata": {},
   "outputs": [
    {
     "data": {
      "text/plain": [
       "1000-element Vector{String}:\n",
       " \"../input/histopathologic-cancer\" ⋯ 30 bytes ⋯ \"1a6e2c91fc74316f25c6ae38b81.tif\"\n",
       " \"../input/histopathologic-cancer\" ⋯ 30 bytes ⋯ \"e7393cbae90ba39f60f3171efe6.tif\"\n",
       " \"../input/histopathologic-cancer\" ⋯ 30 bytes ⋯ \"6565608f38c3e9340d3c63470c1.tif\"\n",
       " \"../input/histopathologic-cancer\" ⋯ 30 bytes ⋯ \"b15006d1f4b5a340b725eba7e09.tif\"\n",
       " \"../input/histopathologic-cancer\" ⋯ 30 bytes ⋯ \"4a343a154e4ccb0013f2a0b8474.tif\"\n",
       " \"../input/histopathologic-cancer\" ⋯ 30 bytes ⋯ \"417f9737d4670d8ef1cc644d567.tif\"\n",
       " \"../input/histopathologic-cancer\" ⋯ 30 bytes ⋯ \"30903137448d083247b2b1c455e.tif\"\n",
       " \"../input/histopathologic-cancer\" ⋯ 30 bytes ⋯ \"18c3b418843345f24f106c37ba2.tif\"\n",
       " \"../input/histopathologic-cancer\" ⋯ 30 bytes ⋯ \"e9207ee649d214ff9661d58aaa6.tif\"\n",
       " \"../input/histopathologic-cancer\" ⋯ 30 bytes ⋯ \"ba016256dd2e0a0e0395a11b105.tif\"\n",
       " \"../input/histopathologic-cancer\" ⋯ 30 bytes ⋯ \"f4007740b7814574851697fd51d.tif\"\n",
       " \"../input/histopathologic-cancer\" ⋯ 30 bytes ⋯ \"b56aa329fdface9ff7bc8e2ce90.tif\"\n",
       " \"../input/histopathologic-cancer\" ⋯ 30 bytes ⋯ \"f88fcd4d32cb85020bf18125d98.tif\"\n",
       " ⋮\n",
       " \"../input/histopathologic-cancer\" ⋯ 30 bytes ⋯ \"43bf72816a20e46111306eff30b.tif\"\n",
       " \"../input/histopathologic-cancer\" ⋯ 30 bytes ⋯ \"1625f71a23dc340ac3f0c090575.tif\"\n",
       " \"../input/histopathologic-cancer\" ⋯ 30 bytes ⋯ \"1f04a46485b4522fb4cbc25b03b.tif\"\n",
       " \"../input/histopathologic-cancer\" ⋯ 30 bytes ⋯ \"bb16c9527bf794cb655013c502a.tif\"\n",
       " \"../input/histopathologic-cancer\" ⋯ 30 bytes ⋯ \"3a4b191b04d68920f296683171f.tif\"\n",
       " \"../input/histopathologic-cancer\" ⋯ 30 bytes ⋯ \"208ccfd3801b874d471428deea6.tif\"\n",
       " \"../input/histopathologic-cancer\" ⋯ 30 bytes ⋯ \"231202d71b9e0740710ef1d11d0.tif\"\n",
       " \"../input/histopathologic-cancer\" ⋯ 30 bytes ⋯ \"7a3b6fe221011215f130d1060fd.tif\"\n",
       " \"../input/histopathologic-cancer\" ⋯ 30 bytes ⋯ \"c3ede9f2d6de4d1a7a0b2627cd2.tif\"\n",
       " \"../input/histopathologic-cancer\" ⋯ 30 bytes ⋯ \"1b322dc98613560888fd7453fea.tif\"\n",
       " \"../input/histopathologic-cancer\" ⋯ 30 bytes ⋯ \"004c0d586acd6082ca827f7a414.tif\"\n",
       " \"../input/histopathologic-cancer\" ⋯ 30 bytes ⋯ \"fd2cb68043059b1279dbc28eeee.tif\""
      ]
     },
     "execution_count": 53,
     "metadata": {},
     "output_type": "execute_result"
    }
   ],
   "source": [
    "df.image_path = string.(\"../input/histopathologic-cancer-detection/train/\", df.id, \".tif\")"
   ]
  },
  {
   "cell_type": "code",
   "execution_count": 54,
   "metadata": {},
   "outputs": [],
   "source": [
    "train_images = Matrix{RGB{}}[]\n",
    "for row in eachrow(df)\n",
    "    push!(train_images, load(row.image_path))\n",
    "end"
   ]
  },
  {
   "cell_type": "code",
   "execution_count": 55,
   "metadata": {},
   "outputs": [
    {
     "data": {
      "text/plain": [
       "1000-element Vector{Matrix{RGB}}:\n",
       " [RGB{N0f8}(0.929,0.741,0.796) RGB{N0f8}(0.875,0.686,0.749) … RGB{N0f8}(1.0,0.976,0.992) RGB{N0f8}(0.796,0.714,0.741); RGB{N0f8}(0.859,0.659,0.718) RGB{N0f8}(1.0,0.898,0.965) … RGB{N0f8}(0.984,0.937,0.945) RGB{N0f8}(0.925,0.867,0.886); … ; RGB{N0f8}(0.608,0.451,0.553) RGB{N0f8}(0.741,0.573,0.678) … RGB{N0f8}(0.937,0.933,0.918) RGB{N0f8}(0.988,0.973,0.961); RGB{N0f8}(0.51,0.325,0.451) RGB{N0f8}(0.416,0.224,0.349) … RGB{N0f8}(0.976,0.988,0.961) RGB{N0f8}(0.953,0.965,0.937)]\n",
       " [RGB{N0f8}(0.847,0.651,0.859) RGB{N0f8}(0.929,0.729,1.0) … RGB{N0f8}(0.498,0.184,0.62) RGB{N0f8}(0.541,0.216,0.624); RGB{N0f8}(0.91,0.714,0.945) RGB{N0f8}(0.408,0.204,0.494) … RGB{N0f8}(0.776,0.506,0.855) RGB{N0f8}(0.835,0.553,0.875); … ; RGB{N0f8}(0.725,0.341,0.635) RGB{N0f8}(0.655,0.255,0.553) … RGB{N0f8}(0.902,0.749,0.957) RGB{N0f8}(0.773,0.659,0.871); RGB{N0f8}(0.757,0.365,0.647) RGB{N0f8}(0.753,0.337,0.627) … RGB{N0f8}(0.286,0.137,0.361) RGB{N0f8}(0.408,0.294,0.514)]\n",
       " [RGB{N0f8}(0.875,0.784,0.808) RGB{N0f8}(0.953,0.851,0.886) … RGB{N0f8}(0.769,0.761,0.773) RGB{N0f8}(0.98,0.973,0.984); RGB{N0f8}(0.69,0.588,0.631) RGB{N0f8}(1.0,0.961,1.0) … RGB{N0f8}(0.765,0.757,0.769) RGB{N0f8}(0.984,0.976,0.988); … ; RGB{N0f8}(0.729,0.682,0.69) RGB{N0f8}(0.918,0.871,0.886) … RGB{N0f8}(0.973,0.969,0.961) RGB{N0f8}(0.957,0.953,0.933); RGB{N0f8}(0.953,0.914,0.91) RGB{N0f8}(0.886,0.839,0.847) … RGB{N0f8}(0.98,0.976,0.969) RGB{N0f8}(0.969,0.965,0.949)]\n",
       " [RGB{N0f8}(0.906,0.922,0.925) RGB{N0f8}(0.906,0.898,0.91) … RGB{N0f8}(0.894,0.69,0.741) RGB{N0f8}(0.788,0.506,0.592); RGB{N0f8}(0.851,0.835,0.824) RGB{N0f8}(1.0,0.988,0.992) … RGB{N0f8}(0.929,0.718,0.773) RGB{N0f8}(0.78,0.498,0.584); … ; RGB{N0f8}(0.961,0.71,0.812) RGB{N0f8}(0.537,0.302,0.412) … RGB{N0f8}(0.627,0.408,0.6) RGB{N0f8}(0.298,0.086,0.278); RGB{N0f8}(0.694,0.455,0.525) RGB{N0f8}(0.91,0.675,0.773) … RGB{N0f8}(0.757,0.522,0.722) RGB{N0f8}(0.486,0.267,0.459)]\n",
       " [RGB{N0f8}(0.886,0.58,0.875) RGB{N0f8}(0.761,0.459,0.741) … RGB{N0f8}(0.831,0.506,0.773) RGB{N0f8}(0.89,0.549,0.82); RGB{N0f8}(0.792,0.514,0.78) RGB{N0f8}(0.808,0.522,0.792) … RGB{N0f8}(0.812,0.494,0.757) RGB{N0f8}(0.816,0.482,0.749); … ; RGB{N0f8}(0.894,0.635,0.875) RGB{N0f8}(0.765,0.498,0.737) … RGB{N0f8}(0.906,0.612,0.867) RGB{N0f8}(0.675,0.4,0.647); RGB{N0f8}(0.835,0.596,0.827) RGB{N0f8}(0.941,0.69,0.925) … RGB{N0f8}(0.843,0.561,0.812) RGB{N0f8}(0.671,0.396,0.643)]\n",
       " [RGB{N0f8}(0.741,0.42,0.71) RGB{N0f8}(0.757,0.42,0.698) … RGB{N0f8}(0.451,0.184,0.416) RGB{N0f8}(0.541,0.29,0.494); RGB{N0f8}(0.835,0.553,0.812) RGB{N0f8}(0.773,0.475,0.729) … RGB{N0f8}(0.824,0.545,0.78) RGB{N0f8}(0.451,0.18,0.392); … ; RGB{N0f8}(0.251,0.125,0.459) RGB{N0f8}(0.412,0.329,0.631) … RGB{N0f8}(0.663,0.373,0.612) RGB{N0f8}(0.686,0.408,0.635); RGB{N0f8}(0.302,0.169,0.506) RGB{N0f8}(0.459,0.369,0.675) … RGB{N0f8}(0.773,0.459,0.698) RGB{N0f8}(0.867,0.561,0.788)]\n",
       " [RGB{N0f8}(0.863,0.855,0.796) RGB{N0f8}(0.965,0.937,0.898) … RGB{N0f8}(0.898,0.78,0.827) RGB{N0f8}(0.918,0.8,0.847); RGB{N0f8}(0.89,0.875,0.827) RGB{N0f8}(0.914,0.878,0.843) … RGB{N0f8}(0.929,0.827,0.871) RGB{N0f8}(0.98,0.871,0.918); … ; RGB{N0f8}(0.945,0.941,0.933) RGB{N0f8}(0.953,0.949,0.941) … RGB{N0f8}(1.0,0.988,1.0) RGB{N0f8}(0.941,0.906,0.918); RGB{N0f8}(0.941,0.937,0.929) RGB{N0f8}(0.949,0.945,0.937) … RGB{N0f8}(0.91,0.875,0.886) RGB{N0f8}(1.0,0.984,0.996)]\n",
       " [RGB{N0f8}(0.937,0.808,0.851) RGB{N0f8}(0.953,0.835,0.875) … RGB{N0f8}(0.973,0.788,0.914) RGB{N0f8}(0.984,0.804,0.918); RGB{N0f8}(0.937,0.808,0.851) RGB{N0f8}(0.957,0.839,0.878) … RGB{N0f8}(0.49,0.306,0.439) RGB{N0f8}(0.643,0.459,0.584); … ; RGB{N0f8}(0.498,0.29,0.463) RGB{N0f8}(0.463,0.239,0.416) … RGB{N0f8}(0.961,0.969,0.957) RGB{N0f8}(0.957,0.965,0.953); RGB{N0f8}(0.498,0.294,0.486) RGB{N0f8}(0.573,0.349,0.549) … RGB{N0f8}(0.957,0.965,0.953) RGB{N0f8}(0.953,0.961,0.949)]\n",
       " [RGB{N0f8}(0.953,0.937,0.925) RGB{N0f8}(0.969,0.953,0.941) … RGB{N0f8}(0.949,0.949,0.949) RGB{N0f8}(0.949,0.949,0.949); RGB{N0f8}(0.976,0.961,0.957) RGB{N0f8}(0.957,0.941,0.937) … RGB{N0f8}(0.953,0.953,0.953) RGB{N0f8}(0.949,0.949,0.949); … ; RGB{N0f8}(0.953,0.949,0.941) RGB{N0f8}(0.961,0.957,0.949) … RGB{N0f8}(0.965,0.965,0.965) RGB{N0f8}(0.965,0.965,0.965); RGB{N0f8}(0.945,0.941,0.933) RGB{N0f8}(0.953,0.949,0.941) … RGB{N0f8}(0.965,0.965,0.965) RGB{N0f8}(0.965,0.965,0.965)]\n",
       " [RGB{N0f8}(0.922,0.718,0.871) RGB{N0f8}(0.945,0.769,0.922) … RGB{N0f8}(0.816,0.565,0.855) RGB{N0f8}(0.816,0.576,0.878); RGB{N0f8}(0.918,0.722,0.871) RGB{N0f8}(0.914,0.749,0.898) … RGB{N0f8}(0.647,0.404,0.698) RGB{N0f8}(0.737,0.51,0.812); … ; RGB{N0f8}(0.914,0.906,0.925) RGB{N0f8}(0.925,0.906,0.929) … RGB{N0f8}(0.863,0.624,0.894) RGB{N0f8}(0.694,0.463,0.729); RGB{N0f8}(0.914,0.906,0.925) RGB{N0f8}(0.925,0.906,0.929) … RGB{N0f8}(0.78,0.506,0.792) RGB{N0f8}(0.812,0.545,0.831)]\n",
       " [RGB{N0f8}(0.984,0.937,0.945) RGB{N0f8}(0.929,0.882,0.898) … RGB{N0f8}(0.925,0.898,0.925) RGB{N0f8}(0.925,0.898,0.925); RGB{N0f8}(0.918,0.827,0.89) RGB{N0f8}(1.0,0.922,1.0) … RGB{N0f8}(0.925,0.898,0.925) RGB{N0f8}(0.925,0.898,0.925); … ; RGB{N0f8}(0.929,0.91,0.933) RGB{N0f8}(0.929,0.91,0.933) … RGB{N0f8}(0.906,0.776,0.89) RGB{N0f8}(0.949,0.82,0.933); RGB{N0f8}(0.929,0.91,0.933) RGB{N0f8}(0.929,0.91,0.933) … RGB{N0f8}(0.91,0.78,0.894) RGB{N0f8}(0.953,0.824,0.945)]\n",
       " [RGB{N0f8}(0.557,0.361,0.498) RGB{N0f8}(1.0,0.957,1.0) … RGB{N0f8}(0.196,0.098,0.224) RGB{N0f8}(0.137,0.027,0.184); RGB{N0f8}(0.737,0.557,0.671) RGB{N0f8}(0.941,0.827,0.906) … RGB{N0f8}(0.141,0.035,0.173) RGB{N0f8}(0.184,0.075,0.231); … ; RGB{N0f8}(0.725,0.459,0.62) RGB{N0f8}(0.78,0.518,0.686) … RGB{N0f8}(0.8,0.671,0.753) RGB{N0f8}(0.753,0.631,0.702); RGB{N0f8}(0.667,0.447,0.592) RGB{N0f8}(0.494,0.278,0.431) … RGB{N0f8}(0.929,0.796,0.863) RGB{N0f8}(0.843,0.69,0.761)]\n",
       " [RGB{N0f8}(0.941,0.886,0.851) RGB{N0f8}(0.945,0.867,0.863) … RGB{N0f8}(0.565,0.451,0.569) RGB{N0f8}(0.914,0.792,0.914); RGB{N0f8}(0.929,0.871,0.843) RGB{N0f8}(0.973,0.894,0.898) … RGB{N0f8}(0.604,0.482,0.608) RGB{N0f8}(0.925,0.804,0.925); … ; RGB{N0f8}(0.812,0.643,0.718) RGB{N0f8}(0.969,0.8,0.875) … RGB{N0f8}(0.925,0.863,0.867) RGB{N0f8}(1.0,0.988,0.98); RGB{N0f8}(0.906,0.733,0.8) RGB{N0f8}(0.788,0.616,0.682) … RGB{N0f8}(0.992,0.953,0.949) RGB{N0f8}(0.976,0.957,0.941)]\n",
       " ⋮\n",
       " [RGB{N0f8}(1.0,0.953,0.957) RGB{N0f8}(0.957,0.961,0.941) … RGB{N0f8}(0.937,0.945,0.925) RGB{N0f8}(0.965,0.973,0.953); RGB{N0f8}(1.0,0.949,0.953) RGB{N0f8}(0.953,0.957,0.937) … RGB{N0f8}(0.945,0.945,0.937) RGB{N0f8}(0.957,0.965,0.953); … ; RGB{N0f8}(0.969,0.969,0.961) RGB{N0f8}(0.965,0.965,0.957) … RGB{N0f8}(0.953,0.953,0.945) RGB{N0f8}(0.953,0.953,0.945); RGB{N0f8}(0.969,0.969,0.961) RGB{N0f8}(0.969,0.969,0.961) … RGB{N0f8}(0.949,0.949,0.941) RGB{N0f8}(0.945,0.945,0.937)]\n",
       " [RGB{N0f8}(0.275,0.208,0.486) RGB{N0f8}(0.463,0.357,0.627) … RGB{N0f8}(0.686,0.384,0.651) RGB{N0f8}(0.792,0.478,0.749); RGB{N0f8}(0.478,0.365,0.624) RGB{N0f8}(0.447,0.31,0.561) … RGB{N0f8}(0.616,0.302,0.573) RGB{N0f8}(0.941,0.627,0.906); … ; RGB{N0f8}(0.686,0.435,0.725) RGB{N0f8}(0.808,0.588,0.827) … RGB{N0f8}(0.408,0.243,0.541) RGB{N0f8}(0.443,0.298,0.604); RGB{N0f8}(0.561,0.322,0.592) RGB{N0f8}(0.855,0.639,0.863) … RGB{N0f8}(0.412,0.22,0.541) RGB{N0f8}(0.369,0.204,0.525)]\n",
       " [RGB{N0f8}(0.749,0.345,0.655) RGB{N0f8}(0.714,0.302,0.624) … RGB{N0f8}(0.69,0.357,0.714) RGB{N0f8}(0.714,0.388,0.741); RGB{N0f8}(0.671,0.267,0.592) RGB{N0f8}(0.675,0.251,0.584) … RGB{N0f8}(0.69,0.341,0.702) RGB{N0f8}(0.655,0.318,0.667); … ; RGB{N0f8}(0.706,0.376,0.671) RGB{N0f8}(0.914,0.596,0.898) … RGB{N0f8}(0.239,0.071,0.29) RGB{N0f8}(0.196,0.043,0.251); RGB{N0f8}(0.918,0.565,0.855) RGB{N0f8}(0.902,0.557,0.863) … RGB{N0f8}(0.263,0.078,0.294) RGB{N0f8}(0.224,0.051,0.259)]\n",
       " [RGB{N0f8}(0.718,0.514,0.604) RGB{N0f8}(0.933,0.741,0.827) … RGB{N0f8}(0.624,0.392,0.502) RGB{N0f8}(0.714,0.475,0.596); RGB{N0f8}(0.424,0.227,0.325) RGB{N0f8}(0.902,0.714,0.8) … RGB{N0f8}(0.549,0.31,0.439) RGB{N0f8}(0.722,0.471,0.616); … ; RGB{N0f8}(0.216,0.09,0.282) RGB{N0f8}(0.184,0.078,0.255) … RGB{N0f8}(0.494,0.325,0.502) RGB{N0f8}(0.329,0.165,0.345); RGB{N0f8}(0.153,0.059,0.263) RGB{N0f8}(0.18,0.106,0.286) … RGB{N0f8}(0.388,0.2,0.388) RGB{N0f8}(0.525,0.341,0.545)]\n",
       " [RGB{N0f8}(0.706,0.722,0.733) RGB{N0f8}(0.584,0.588,0.604) … RGB{N0f8}(0.773,0.776,0.784) RGB{N0f8}(0.773,0.776,0.784); RGB{N0f8}(0.839,0.843,0.859) RGB{N0f8}(0.78,0.784,0.8) … RGB{N0f8}(0.784,0.788,0.796) RGB{N0f8}(0.78,0.784,0.792); … ; RGB{N0f8}(0.537,0.522,0.525) RGB{N0f8}(0.596,0.58,0.584) … RGB{N0f8}(0.722,0.714,0.718) RGB{N0f8}(0.69,0.682,0.686); RGB{N0f8}(0.733,0.718,0.722) RGB{N0f8}(0.671,0.655,0.659) … RGB{N0f8}(0.698,0.69,0.694) RGB{N0f8}(0.69,0.682,0.686)]\n",
       " [RGB{N0f8}(0.698,0.576,0.698) RGB{N0f8}(0.776,0.647,0.761) … RGB{N0f8}(0.271,0.149,0.322) RGB{N0f8}(0.361,0.255,0.424); RGB{N0f8}(0.471,0.376,0.471) RGB{N0f8}(0.851,0.753,0.839) … RGB{N0f8}(0.239,0.11,0.278) RGB{N0f8}(0.58,0.459,0.631); … ; RGB{N0f8}(0.514,0.369,0.49) RGB{N0f8}(0.227,0.09,0.22) … RGB{N0f8}(0.933,0.859,0.969) RGB{N0f8}(0.165,0.106,0.22); RGB{N0f8}(0.549,0.392,0.494) RGB{N0f8}(0.808,0.667,0.776) … RGB{N0f8}(0.973,0.91,1.0) RGB{N0f8}(0.867,0.824,0.941)]\n",
       " [RGB{N0f8}(0.816,0.612,0.698) RGB{N0f8}(0.804,0.6,0.686) … RGB{N0f8}(0.769,0.616,0.69) RGB{N0f8}(1.0,0.906,0.976); RGB{N0f8}(0.875,0.647,0.745) RGB{N0f8}(0.945,0.718,0.816) … RGB{N0f8}(0.839,0.698,0.737) RGB{N0f8}(1.0,0.918,0.945); … ; RGB{N0f8}(0.78,0.576,0.627) RGB{N0f8}(0.737,0.537,0.596) … RGB{N0f8}(0.427,0.192,0.341) RGB{N0f8}(0.706,0.455,0.588); RGB{N0f8}(0.839,0.647,0.671) RGB{N0f8}(0.827,0.643,0.675) … RGB{N0f8}(0.698,0.471,0.627) RGB{N0f8}(0.38,0.129,0.267)]\n",
       " [RGB{N0f8}(0.753,0.502,0.639) RGB{N0f8}(0.647,0.412,0.545) … RGB{N0f8}(0.569,0.365,0.506) RGB{N0f8}(0.467,0.263,0.412); RGB{N0f8}(0.8,0.58,0.718) RGB{N0f8}(0.761,0.549,0.682) … RGB{N0f8}(0.565,0.361,0.502) RGB{N0f8}(0.643,0.439,0.58); … ; RGB{N0f8}(0.812,0.651,0.784) RGB{N0f8}(0.435,0.263,0.4) … RGB{N0f8}(0.961,0.769,0.894) RGB{N0f8}(0.522,0.337,0.471); RGB{N0f8}(0.471,0.302,0.412) RGB{N0f8}(0.192,0.024,0.133) … RGB{N0f8}(0.722,0.51,0.635) RGB{N0f8}(0.792,0.6,0.725)]\n",
       " [RGB{N0f8}(0.984,0.745,0.867) RGB{N0f8}(0.757,0.506,0.639) … RGB{N0f8}(0.827,0.675,0.745) RGB{N0f8}(0.875,0.722,0.792); RGB{N0f8}(0.792,0.573,0.678) RGB{N0f8}(0.898,0.667,0.784) … RGB{N0f8}(0.906,0.753,0.824) RGB{N0f8}(1.0,0.894,0.965); … ; RGB{N0f8}(0.549,0.384,0.463) RGB{N0f8}(0.545,0.376,0.482) … RGB{N0f8}(0.882,0.71,0.769) RGB{N0f8}(1.0,0.871,0.918); RGB{N0f8}(1.0,0.945,1.0) RGB{N0f8}(0.875,0.745,0.827) … RGB{N0f8}(0.914,0.749,0.804) RGB{N0f8}(0.792,0.663,0.706)]\n",
       " [RGB{N0f8}(0.949,0.953,0.933) RGB{N0f8}(0.965,0.973,0.953) … RGB{N0f8}(0.824,0.671,0.741) RGB{N0f8}(0.706,0.537,0.616); RGB{N0f8}(1.0,0.984,1.0) RGB{N0f8}(0.929,0.894,0.906) … RGB{N0f8}(1.0,0.851,0.922) RGB{N0f8}(0.855,0.686,0.765); … ; RGB{N0f8}(0.945,0.945,0.937) RGB{N0f8}(0.945,0.945,0.937) … RGB{N0f8}(1.0,0.965,0.988) RGB{N0f8}(0.996,0.953,0.976); RGB{N0f8}(0.945,0.945,0.937) RGB{N0f8}(0.945,0.945,0.937) … RGB{N0f8}(0.722,0.655,0.678) RGB{N0f8}(0.694,0.651,0.675)]\n",
       " [RGB{N0f8}(0.984,0.949,0.969) RGB{N0f8}(0.851,0.8,0.835) … RGB{N0f8}(0.894,0.835,0.863) RGB{N0f8}(1.0,0.961,0.976); RGB{N0f8}(1.0,0.992,1.0) RGB{N0f8}(1.0,0.965,0.984) … RGB{N0f8}(0.969,0.91,0.929) RGB{N0f8}(0.843,0.796,0.812); … ; RGB{N0f8}(0.749,0.482,0.627) RGB{N0f8}(0.651,0.412,0.573) … RGB{N0f8}(1.0,0.816,0.898) RGB{N0f8}(0.969,0.78,0.843); RGB{N0f8}(0.792,0.51,0.69) RGB{N0f8}(0.671,0.42,0.616) … RGB{N0f8}(0.749,0.557,0.639) RGB{N0f8}(0.867,0.678,0.741)]\n",
       " [RGB{N0f8}(0.949,0.91,0.941) RGB{N0f8}(0.949,0.91,0.941) … RGB{N0f8}(0.949,0.937,0.965) RGB{N0f8}(0.937,0.925,0.969); RGB{N0f8}(0.941,0.914,0.941) RGB{N0f8}(0.941,0.914,0.941) … RGB{N0f8}(0.925,0.906,0.933) RGB{N0f8}(0.949,0.925,0.973); … ; RGB{N0f8}(0.957,0.894,0.894) RGB{N0f8}(0.988,0.949,0.953) … RGB{N0f8}(0.933,0.914,0.929) RGB{N0f8}(0.933,0.914,0.929); RGB{N0f8}(0.973,0.902,0.894) RGB{N0f8}(0.945,0.898,0.906) … RGB{N0f8}(0.933,0.914,0.929) RGB{N0f8}(0.933,0.914,0.929)]"
      ]
     },
     "execution_count": 55,
     "metadata": {},
     "output_type": "execute_result"
    }
   ],
   "source": [
    "train_images"
   ]
  },
  {
   "cell_type": "code",
   "execution_count": 56,
   "metadata": {},
   "outputs": [
    {
     "data": {
      "text/plain": [
       "make_minibatch (generic function with 1 method)"
      ]
     },
     "execution_count": 56,
     "metadata": {},
     "output_type": "execute_result"
    }
   ],
   "source": [
    "function make_minibatch(X, Y, idxs)\n",
    "    X_batch = Array{RGB}(undef, size(X[1])..., 1, length(idxs))\n",
    "    for i in 1:length(idxs)\n",
    "        X_batch[:, :, :, i] = RGB.(X[idxs[i]])\n",
    "    end\n",
    "    Y_batch = onehotbatch(Y[idxs], 0:1)\n",
    "    return (X_batch, Y_batch)\n",
    "end"
   ]
  },
  {
   "cell_type": "code",
   "execution_count": 57,
   "metadata": {},
   "outputs": [
    {
     "data": {
      "text/plain": [
       "8-element Vector{Tuple{Array{RGB, 4}, OneHotArrays.OneHotMatrix{UInt32, 2, Vector{UInt32}}}}:\n",
       " ([RGB{N0f8}(0.929,0.741,0.796) RGB{N0f8}(0.875,0.686,0.749) … RGB{N0f8}(1.0,0.976,0.992) RGB{N0f8}(0.796,0.714,0.741); RGB{N0f8}(0.859,0.659,0.718) RGB{N0f8}(1.0,0.898,0.965) … RGB{N0f8}(0.984,0.937,0.945) RGB{N0f8}(0.925,0.867,0.886); … ; RGB{N0f8}(0.608,0.451,0.553) RGB{N0f8}(0.741,0.573,0.678) … RGB{N0f8}(0.937,0.933,0.918) RGB{N0f8}(0.988,0.973,0.961); RGB{N0f8}(0.51,0.325,0.451) RGB{N0f8}(0.416,0.224,0.349) … RGB{N0f8}(0.976,0.988,0.961) RGB{N0f8}(0.953,0.965,0.937);;;; RGB{N0f8}(0.847,0.651,0.859) RGB{N0f8}(0.929,0.729,1.0) … RGB{N0f8}(0.498,0.184,0.62) RGB{N0f8}(0.541,0.216,0.624); RGB{N0f8}(0.91,0.714,0.945) RGB{N0f8}(0.408,0.204,0.494) … RGB{N0f8}(0.776,0.506,0.855) RGB{N0f8}(0.835,0.553,0.875); … ; RGB{N0f8}(0.725,0.341,0.635) RGB{N0f8}(0.655,0.255,0.553) … RGB{N0f8}(0.902,0.749,0.957) RGB{N0f8}(0.773,0.659,0.871); RGB{N0f8}(0.757,0.365,0.647) RGB{N0f8}(0.753,0.337,0.627) … RGB{N0f8}(0.286,0.137,0.361) RGB{N0f8}(0.408,0.294,0.514);;;; RGB{N0f8}(0.875,0.784,0.808) RGB{N0f8}(0.953,0.851,0.886) … RGB{N0f8}(0.769,0.761,0.773) RGB{N0f8}(0.98,0.973,0.984); RGB{N0f8}(0.69,0.588,0.631) RGB{N0f8}(1.0,0.961,1.0) … RGB{N0f8}(0.765,0.757,0.769) RGB{N0f8}(0.984,0.976,0.988); … ; RGB{N0f8}(0.729,0.682,0.69) RGB{N0f8}(0.918,0.871,0.886) … RGB{N0f8}(0.973,0.969,0.961) RGB{N0f8}(0.957,0.953,0.933); RGB{N0f8}(0.953,0.914,0.91) RGB{N0f8}(0.886,0.839,0.847) … RGB{N0f8}(0.98,0.976,0.969) RGB{N0f8}(0.969,0.965,0.949);;;; … ;;;; RGB{N0f8}(0.871,0.682,0.729) RGB{N0f8}(0.722,0.561,0.624) … RGB{N0f8}(0.647,0.522,0.573) RGB{N0f8}(1.0,0.91,0.945); RGB{N0f8}(0.933,0.749,0.812) RGB{N0f8}(1.0,0.91,0.988) … RGB{N0f8}(0.424,0.275,0.42) RGB{N0f8}(0.286,0.125,0.282); … ; RGB{N0f8}(0.278,0.086,0.263) RGB{N0f8}(0.635,0.447,0.604) … RGB{N0f8}(0.529,0.427,0.541) RGB{N0f8}(0.18,0.09,0.161); RGB{N0f8}(0.847,0.675,0.816) RGB{N0f8}(0.898,0.718,0.859) … RGB{N0f8}(1.0,0.922,1.0) RGB{N0f8}(0.282,0.165,0.212);;;; RGB{N0f8}(0.831,0.714,0.816) RGB{N0f8}(0.843,0.702,0.875) … RGB{N0f8}(0.792,0.565,0.855) RGB{N0f8}(0.647,0.42,0.718); RGB{N0f8}(0.878,0.78,0.867) RGB{N0f8}(0.992,0.875,1.0) … RGB{N0f8}(0.859,0.647,0.875) RGB{N0f8}(0.776,0.561,0.788); … ; RGB{N0f8}(0.376,0.31,0.584) RGB{N0f8}(0.29,0.212,0.49) … RGB{N0f8}(0.592,0.435,0.722) RGB{N0f8}(0.69,0.482,0.765); RGB{N0f8}(0.412,0.333,0.616) RGB{N0f8}(0.459,0.38,0.663) … RGB{N0f8}(0.494,0.306,0.596) RGB{N0f8}(0.82,0.569,0.859);;;; RGB{N0f8}(0.98,0.878,0.984) RGB{N0f8}(0.918,0.773,0.902) … RGB{N0f8}(0.933,0.925,0.937) RGB{N0f8}(0.933,0.925,0.929); RGB{N0f8}(0.945,0.835,0.933) RGB{N0f8}(0.941,0.796,0.918) … RGB{N0f8}(0.937,0.929,0.941) RGB{N0f8}(0.937,0.929,0.933); … ; RGB{N0f8}(0.949,0.902,0.91) RGB{N0f8}(0.957,0.91,0.925) … RGB{N0f8}(0.937,0.929,0.941) RGB{N0f8}(0.933,0.933,0.941); RGB{N0f8}(0.969,0.906,0.91) RGB{N0f8}(0.973,0.914,0.925) … RGB{N0f8}(0.933,0.933,0.941) RGB{N0f8}(0.933,0.933,0.941)], [1 1 … 0 1; 0 0 … 1 0])\n",
       " ([RGB{N0f8}(0.757,0.463,0.867) RGB{N0f8}(0.667,0.376,0.757) … RGB{N0f8}(0.467,0.231,0.624) RGB{N0f8}(0.514,0.271,0.667); RGB{N0f8}(0.831,0.557,0.941) RGB{N0f8}(0.6,0.329,0.694) … RGB{N0f8}(0.541,0.318,0.69) RGB{N0f8}(0.467,0.231,0.608); … ; RGB{N0f8}(0.392,0.231,0.639) RGB{N0f8}(0.4,0.235,0.635) … RGB{N0f8}(0.608,0.424,0.8) RGB{N0f8}(0.392,0.224,0.584); RGB{N0f8}(0.353,0.192,0.6) RGB{N0f8}(0.42,0.255,0.655) … RGB{N0f8}(0.655,0.455,0.827) RGB{N0f8}(0.439,0.255,0.624);;;; RGB{N0f8}(0.882,0.863,0.89) RGB{N0f8}(0.886,0.867,0.894) … RGB{N0f8}(0.929,0.839,0.91) RGB{N0f8}(0.843,0.749,0.812); RGB{N0f8}(0.886,0.867,0.894) RGB{N0f8}(0.886,0.867,0.894) … RGB{N0f8}(0.933,0.851,0.918) RGB{N0f8}(0.867,0.776,0.839); … ; RGB{N0f8}(0.765,0.624,0.773) RGB{N0f8}(0.816,0.682,0.82) … RGB{N0f8}(0.878,0.804,0.882) RGB{N0f8}(0.922,0.855,0.929); RGB{N0f8}(0.78,0.627,0.804) RGB{N0f8}(0.843,0.69,0.863) … RGB{N0f8}(0.906,0.851,0.918) RGB{N0f8}(0.89,0.839,0.906);;;; RGB{N0f8}(0.969,0.953,0.949) RGB{N0f8}(0.969,0.953,0.949) … RGB{N0f8}(0.706,0.522,0.584) RGB{N0f8}(0.992,0.835,0.878); RGB{N0f8}(0.961,0.957,0.949) RGB{N0f8}(0.961,0.957,0.949) … RGB{N0f8}(0.788,0.588,0.655) RGB{N0f8}(0.753,0.569,0.631); … ; RGB{N0f8}(0.961,0.957,0.949) RGB{N0f8}(0.965,0.961,0.953) … RGB{N0f8}(0.796,0.635,0.698) RGB{N0f8}(0.976,0.827,0.871); RGB{N0f8}(0.961,0.957,0.949) RGB{N0f8}(0.965,0.961,0.953) … RGB{N0f8}(0.761,0.604,0.635) RGB{N0f8}(1.0,0.882,0.886);;;; … ;;;; RGB{N0f8}(0.925,0.8,0.812) RGB{N0f8}(1.0,0.89,0.898) … RGB{N0f8}(0.678,0.475,0.627) RGB{N0f8}(0.549,0.341,0.506); RGB{N0f8}(0.961,0.8,0.863) RGB{N0f8}(0.714,0.573,0.627) … RGB{N0f8}(0.612,0.412,0.573) RGB{N0f8}(0.671,0.471,0.639); … ; RGB{N0f8}(0.412,0.235,0.388) RGB{N0f8}(0.459,0.282,0.435) … RGB{N0f8}(0.855,0.659,0.796) RGB{N0f8}(0.69,0.475,0.631); RGB{N0f8}(0.459,0.29,0.467) RGB{N0f8}(0.592,0.424,0.6) … RGB{N0f8}(0.784,0.584,0.745) RGB{N0f8}(0.82,0.6,0.776);;;; RGB{N0f8}(0.906,0.886,0.871) RGB{N0f8}(1.0,0.918,0.988) … RGB{N0f8}(0.922,0.882,0.925) RGB{N0f8}(0.976,0.937,0.98); RGB{N0f8}(0.949,0.902,0.918) RGB{N0f8}(0.933,0.824,0.914) … RGB{N0f8}(0.937,0.894,0.949) RGB{N0f8}(0.937,0.894,0.949); … ; RGB{N0f8}(0.333,0.227,0.537) RGB{N0f8}(0.302,0.176,0.51) … RGB{N0f8}(1.0,0.961,1.0) RGB{N0f8}(0.859,0.757,0.855); RGB{N0f8}(0.278,0.188,0.502) RGB{N0f8}(0.263,0.153,0.486) … RGB{N0f8}(0.941,0.871,0.933) RGB{N0f8}(0.957,0.863,0.949);;;; RGB{N0f8}(0.875,0.682,0.765) RGB{N0f8}(0.596,0.392,0.482) … RGB{N0f8}(0.937,0.843,0.898) RGB{N0f8}(0.761,0.667,0.722); RGB{N0f8}(0.953,0.812,0.859) RGB{N0f8}(0.733,0.573,0.635) … RGB{N0f8}(0.553,0.467,0.518) RGB{N0f8}(1.0,0.929,0.98); … ; RGB{N0f8}(0.961,0.953,0.957) RGB{N0f8}(0.961,0.953,0.957) … RGB{N0f8}(0.961,0.961,0.961) RGB{N0f8}(0.961,0.961,0.961); RGB{N0f8}(0.961,0.953,0.957) RGB{N0f8}(0.961,0.953,0.957) … RGB{N0f8}(0.961,0.961,0.961) RGB{N0f8}(0.965,0.965,0.965)], [0 1 … 1 1; 1 0 … 0 0])\n",
       " ([RGB{N0f8}(0.922,0.918,0.91) RGB{N0f8}(0.933,0.925,0.929) … RGB{N0f8}(0.78,0.6,0.71) RGB{N0f8}(0.596,0.42,0.51); RGB{N0f8}(0.906,0.91,0.89) RGB{N0f8}(0.961,0.965,0.945) … RGB{N0f8}(0.384,0.208,0.322) RGB{N0f8}(0.831,0.659,0.757); … ; RGB{N0f8}(0.918,0.898,0.886) RGB{N0f8}(0.965,0.961,0.953) … RGB{N0f8}(0.91,0.859,0.898) RGB{N0f8}(0.992,0.941,0.98); RGB{N0f8}(0.922,0.898,0.898) RGB{N0f8}(0.969,0.965,0.957) … RGB{N0f8}(0.992,0.945,0.992) RGB{N0f8}(0.984,0.937,0.984);;;; RGB{N0f8}(0.78,0.529,0.624) RGB{N0f8}(0.784,0.51,0.62) … RGB{N0f8}(0.616,0.353,0.482) RGB{N0f8}(0.545,0.267,0.4); RGB{N0f8}(0.686,0.439,0.522) RGB{N0f8}(0.588,0.318,0.427) … RGB{N0f8}(0.635,0.361,0.506) RGB{N0f8}(0.69,0.4,0.545); … ; RGB{N0f8}(0.596,0.306,0.412) RGB{N0f8}(0.965,0.694,0.808) … RGB{N0f8}(0.325,0.114,0.255) RGB{N0f8}(0.439,0.235,0.384); RGB{N0f8}(0.659,0.345,0.451) RGB{N0f8}(0.655,0.369,0.482) … RGB{N0f8}(0.443,0.227,0.384) RGB{N0f8}(0.22,0.012,0.176);;;; RGB{N0f8}(0.69,0.439,0.678) RGB{N0f8}(0.686,0.447,0.678) … RGB{N0f8}(0.349,0.22,0.529) RGB{N0f8}(0.325,0.212,0.533); RGB{N0f8}(0.659,0.396,0.667) RGB{N0f8}(0.792,0.537,0.796) … RGB{N0f8}(0.231,0.086,0.4) RGB{N0f8}(0.541,0.408,0.737); … ; RGB{N0f8}(0.337,0.204,0.541) RGB{N0f8}(0.62,0.455,0.792) … RGB{N0f8}(0.776,0.608,0.82) RGB{N0f8}(0.827,0.667,0.902); RGB{N0f8}(0.475,0.337,0.698) RGB{N0f8}(0.651,0.475,0.831) … RGB{N0f8}(0.455,0.247,0.561) RGB{N0f8}(0.62,0.416,0.749);;;; … ;;;; RGB{N0f8}(0.749,0.576,0.682) RGB{N0f8}(0.78,0.608,0.714) … RGB{N0f8}(0.22,0.11,0.302) RGB{N0f8}(0.18,0.11,0.298); RGB{N0f8}(0.792,0.62,0.718) RGB{N0f8}(0.867,0.694,0.792) … RGB{N0f8}(0.322,0.188,0.384) RGB{N0f8}(0.255,0.153,0.341); … ; RGB{N0f8}(0.753,0.541,0.667) RGB{N0f8}(0.627,0.427,0.557) … RGB{N0f8}(0.855,0.706,0.788) RGB{N0f8}(0.886,0.722,0.816); RGB{N0f8}(0.686,0.494,0.608) RGB{N0f8}(0.78,0.6,0.714) … RGB{N0f8}(0.8,0.647,0.729) RGB{N0f8}(0.871,0.69,0.8);;;; RGB{N0f8}(0.655,0.329,0.494) RGB{N0f8}(0.71,0.455,0.624) … RGB{N0f8}(0.169,0.047,0.22) RGB{N0f8}(0.282,0.157,0.341); RGB{N0f8}(0.612,0.322,0.459) RGB{N0f8}(0.835,0.596,0.757) … RGB{N0f8}(0.29,0.161,0.329) RGB{N0f8}(0.275,0.153,0.325); … ; RGB{N0f8}(0.231,0.125,0.333) RGB{N0f8}(0.137,0.02,0.216) … RGB{N0f8}(0.506,0.376,0.482) RGB{N0f8}(0.698,0.576,0.702); RGB{N0f8}(0.055,0.0,0.204) RGB{N0f8}(0.188,0.11,0.31) … RGB{N0f8}(0.357,0.208,0.306) RGB{N0f8}(0.431,0.286,0.416);;;; RGB{N0f8}(0.349,0.271,0.643) RGB{N0f8}(0.325,0.208,0.553) … RGB{N0f8}(0.455,0.251,0.643) RGB{N0f8}(0.584,0.345,0.753); RGB{N0f8}(0.384,0.255,0.612) RGB{N0f8}(0.376,0.208,0.557) … RGB{N0f8}(0.435,0.275,0.643) RGB{N0f8}(0.341,0.161,0.545); … ; RGB{N0f8}(0.71,0.549,0.808) RGB{N0f8}(0.506,0.341,0.631) … RGB{N0f8}(0.616,0.49,0.816) RGB{N0f8}(0.325,0.239,0.573); RGB{N0f8}(0.325,0.153,0.455) RGB{N0f8}(0.361,0.184,0.518) … RGB{N0f8}(0.471,0.333,0.647) RGB{N0f8}(0.408,0.314,0.643)], [1 0 … 1 0; 0 1 … 0 1])\n",
       " ([RGB{N0f8}(1.0,0.976,1.0) RGB{N0f8}(0.769,0.725,0.757) … RGB{N0f8}(0.784,0.49,0.643) RGB{N0f8}(0.502,0.192,0.369); RGB{N0f8}(0.71,0.647,0.69) RGB{N0f8}(0.992,0.949,0.98) … RGB{N0f8}(0.875,0.616,0.757) RGB{N0f8}(0.792,0.514,0.671); … ; RGB{N0f8}(0.631,0.6,0.651) RGB{N0f8}(0.925,0.878,0.925) … RGB{N0f8}(0.89,0.847,0.878) RGB{N0f8}(0.847,0.808,0.839); RGB{N0f8}(1.0,0.976,1.0) RGB{N0f8}(1.0,0.976,1.0) … RGB{N0f8}(0.949,0.925,0.933) RGB{N0f8}(0.984,0.965,0.98);;;; RGB{N0f8}(0.733,0.498,0.71) RGB{N0f8}(0.894,0.69,0.882) … RGB{N0f8}(0.337,0.216,0.584) RGB{N0f8}(0.169,0.035,0.373); RGB{N0f8}(0.698,0.49,0.702) RGB{N0f8}(0.871,0.698,0.906) … RGB{N0f8}(0.357,0.224,0.592) RGB{N0f8}(0.227,0.09,0.42); … ; RGB{N0f8}(0.514,0.424,0.698) RGB{N0f8}(0.373,0.271,0.557) … RGB{N0f8}(0.937,0.812,0.957) RGB{N0f8}(0.714,0.616,0.698); RGB{N0f8}(0.392,0.31,0.604) RGB{N0f8}(0.529,0.439,0.745) … RGB{N0f8}(1.0,0.91,1.0) RGB{N0f8}(0.765,0.671,0.796);;;; RGB{N0f8}(0.427,0.169,0.318) RGB{N0f8}(0.529,0.255,0.4) … RGB{N0f8}(0.275,0.071,0.212) RGB{N0f8}(0.565,0.357,0.467); RGB{N0f8}(0.29,0.071,0.224) RGB{N0f8}(0.365,0.125,0.286) … RGB{N0f8}(0.353,0.176,0.337) RGB{N0f8}(0.482,0.325,0.459); … ; RGB{N0f8}(0.82,0.635,0.776) RGB{N0f8}(0.678,0.498,0.639) … RGB{N0f8}(0.329,0.145,0.278) RGB{N0f8}(0.161,0.0,0.106); RGB{N0f8}(0.255,0.059,0.196) RGB{N0f8}(0.2,0.024,0.153) … RGB{N0f8}(0.463,0.255,0.365) RGB{N0f8}(0.663,0.486,0.576);;;; … ;;;; RGB{N0f8}(0.694,0.576,0.725) RGB{N0f8}(0.91,0.769,0.941) … RGB{N0f8}(0.812,0.592,0.831) RGB{N0f8}(0.765,0.545,0.784); RGB{N0f8}(1.0,0.929,1.0) RGB{N0f8}(0.847,0.702,0.863) … RGB{N0f8}(0.663,0.498,0.686) RGB{N0f8}(0.973,0.827,1.0); … ; RGB{N0f8}(0.945,0.635,0.894) RGB{N0f8}(0.784,0.486,0.741) … RGB{N0f8}(0.91,0.906,0.929) RGB{N0f8}(0.867,0.867,0.906); RGB{N0f8}(0.808,0.455,0.729) RGB{N0f8}(0.925,0.588,0.867) … RGB{N0f8}(0.98,0.992,1.0) RGB{N0f8}(0.976,0.996,1.0);;;; RGB{N0f8}(0.349,0.133,0.298) RGB{N0f8}(0.475,0.247,0.408) … RGB{N0f8}(0.996,0.78,0.906) RGB{N0f8}(1.0,0.851,1.0); RGB{N0f8}(0.741,0.529,0.663) RGB{N0f8}(0.318,0.082,0.224) … RGB{N0f8}(0.784,0.565,0.671) RGB{N0f8}(0.78,0.569,0.671); … ; RGB{N0f8}(0.4,0.224,0.337) RGB{N0f8}(0.608,0.424,0.565) … RGB{N0f8}(0.702,0.486,0.6) RGB{N0f8}(0.843,0.635,0.706); RGB{N0f8}(0.341,0.157,0.298) RGB{N0f8}(0.349,0.141,0.306) … RGB{N0f8}(0.894,0.678,0.792) RGB{N0f8}(1.0,0.831,0.898);;;; RGB{N0f8}(0.816,0.545,0.659) RGB{N0f8}(0.82,0.537,0.682) … RGB{N0f8}(0.671,0.478,0.553) RGB{N0f8}(0.776,0.604,0.655); RGB{N0f8}(0.886,0.639,0.722) RGB{N0f8}(0.631,0.369,0.49) … RGB{N0f8}(0.871,0.678,0.765) RGB{N0f8}(0.984,0.812,0.878); … ; RGB{N0f8}(0.961,0.953,0.957) RGB{N0f8}(0.961,0.953,0.957) … RGB{N0f8}(0.969,0.933,0.937) RGB{N0f8}(0.973,0.937,0.941); RGB{N0f8}(0.957,0.949,0.953) RGB{N0f8}(0.961,0.953,0.957) … RGB{N0f8}(0.965,0.929,0.933) RGB{N0f8}(0.965,0.941,0.941)], [0 1 … 1 1; 1 0 … 0 0])\n",
       " ([RGB{N0f8}(0.769,0.463,0.761) RGB{N0f8}(0.765,0.455,0.765) … RGB{N0f8}(0.573,0.373,0.776) RGB{N0f8}(0.306,0.118,0.518); RGB{N0f8}(0.651,0.349,0.655) RGB{N0f8}(0.741,0.439,0.753) … RGB{N0f8}(0.412,0.208,0.6) RGB{N0f8}(0.435,0.231,0.624); … ; RGB{N0f8}(0.318,0.157,0.573) RGB{N0f8}(0.463,0.302,0.718) … RGB{N0f8}(0.208,0.067,0.451) RGB{N0f8}(0.302,0.161,0.537); RGB{N0f8}(0.584,0.439,0.851) RGB{N0f8}(0.216,0.063,0.478) … RGB{N0f8}(0.204,0.047,0.424) RGB{N0f8}(0.247,0.094,0.451);;;; RGB{N0f8}(1.0,0.984,0.984) RGB{N0f8}(0.98,0.957,0.957) … RGB{N0f8}(0.875,0.784,0.816) RGB{N0f8}(0.843,0.741,0.776); RGB{N0f8}(1.0,0.984,0.973) RGB{N0f8}(0.976,0.961,0.957) … RGB{N0f8}(1.0,0.918,0.945) RGB{N0f8}(0.914,0.812,0.847); … ; RGB{N0f8}(0.976,0.957,0.98) RGB{N0f8}(0.639,0.62,0.643) … RGB{N0f8}(0.918,0.792,0.843) RGB{N0f8}(0.961,0.827,0.89); RGB{N0f8}(0.914,0.863,0.898) RGB{N0f8}(0.894,0.831,0.871) … RGB{N0f8}(1.0,0.949,0.996) RGB{N0f8}(0.788,0.667,0.725);;;; RGB{N0f8}(0.902,0.71,0.796) RGB{N0f8}(0.588,0.412,0.494) … RGB{N0f8}(0.827,0.663,0.741) RGB{N0f8}(1.0,0.871,0.941); RGB{N0f8}(0.984,0.78,0.871) RGB{N0f8}(0.545,0.369,0.451) … RGB{N0f8}(0.851,0.698,0.773) RGB{N0f8}(0.949,0.796,0.867); … ; RGB{N0f8}(0.561,0.353,0.463) RGB{N0f8}(0.753,0.565,0.667) … RGB{N0f8}(0.929,0.831,0.855) RGB{N0f8}(0.98,0.882,0.898); RGB{N0f8}(0.761,0.541,0.655) RGB{N0f8}(0.694,0.486,0.596) … RGB{N0f8}(0.984,0.886,0.898) RGB{N0f8}(0.933,0.839,0.839);;;; … ;;;; RGB{N0f8}(0.875,0.878,0.886) RGB{N0f8}(0.882,0.886,0.894) … RGB{N0f8}(0.847,0.769,0.878) RGB{N0f8}(0.788,0.706,0.835); RGB{N0f8}(0.878,0.882,0.89) RGB{N0f8}(0.882,0.886,0.894) … RGB{N0f8}(0.867,0.788,0.886) RGB{N0f8}(0.816,0.737,0.847); … ; RGB{N0f8}(0.718,0.561,0.698) RGB{N0f8}(0.553,0.42,0.565) … RGB{N0f8}(1.0,0.847,1.0) RGB{N0f8}(0.835,0.659,0.812); RGB{N0f8}(0.6,0.416,0.596) RGB{N0f8}(0.624,0.471,0.647) … RGB{N0f8}(0.686,0.498,0.663) RGB{N0f8}(0.78,0.592,0.757);;;; RGB{N0f8}(0.922,0.698,0.765) RGB{N0f8}(0.894,0.671,0.729) … RGB{N0f8}(0.878,0.702,0.863) RGB{N0f8}(0.58,0.408,0.549); RGB{N0f8}(0.647,0.471,0.592) RGB{N0f8}(0.682,0.502,0.612) … RGB{N0f8}(0.733,0.557,0.718) RGB{N0f8}(0.682,0.506,0.659); … ; RGB{N0f8}(0.98,0.769,0.863) RGB{N0f8}(0.682,0.475,0.592) … RGB{N0f8}(0.824,0.667,0.769) RGB{N0f8}(0.58,0.424,0.525); RGB{N0f8}(0.678,0.498,0.608) RGB{N0f8}(0.384,0.208,0.329) … RGB{N0f8}(0.78,0.616,0.702) RGB{N0f8}(0.867,0.702,0.788);;;; RGB{N0f8}(0.902,0.855,0.863) RGB{N0f8}(0.843,0.78,0.792) … RGB{N0f8}(0.8,0.69,0.745) RGB{N0f8}(0.78,0.651,0.725); RGB{N0f8}(0.949,0.902,0.918) RGB{N0f8}(0.816,0.749,0.773) … RGB{N0f8}(0.933,0.812,0.871) RGB{N0f8}(0.804,0.667,0.745); … ; RGB{N0f8}(0.906,0.8,0.82) RGB{N0f8}(0.992,0.875,0.906) … RGB{N0f8}(1.0,0.957,1.0) RGB{N0f8}(0.667,0.549,0.588); RGB{N0f8}(1.0,0.969,0.969) RGB{N0f8}(0.725,0.627,0.643) … RGB{N0f8}(0.925,0.804,0.863) RGB{N0f8}(0.839,0.714,0.757)], [0 1 … 0 1; 1 0 … 1 0])\n",
       " ([RGB{N0f8}(0.839,0.655,0.796) RGB{N0f8}(0.851,0.667,0.8) … RGB{N0f8}(0.647,0.514,0.659) RGB{N0f8}(0.812,0.686,0.839); RGB{N0f8}(0.71,0.525,0.667) RGB{N0f8}(0.729,0.545,0.678) … RGB{N0f8}(0.631,0.49,0.639) RGB{N0f8}(0.702,0.557,0.718); … ; RGB{N0f8}(0.831,0.678,0.761) RGB{N0f8}(0.812,0.659,0.741) … RGB{N0f8}(0.984,0.882,0.925) RGB{N0f8}(0.918,0.827,0.867); RGB{N0f8}(0.867,0.718,0.808) RGB{N0f8}(0.824,0.675,0.757) … RGB{N0f8}(0.922,0.831,0.871) RGB{N0f8}(0.824,0.733,0.773);;;; RGB{N0f8}(0.569,0.29,0.455) RGB{N0f8}(0.827,0.565,0.725) … RGB{N0f8}(1.0,0.961,1.0) RGB{N0f8}(0.922,0.82,0.831); RGB{N0f8}(0.804,0.537,0.698) RGB{N0f8}(0.365,0.11,0.275) … RGB{N0f8}(0.733,0.596,0.675) RGB{N0f8}(1.0,0.953,1.0); … ; RGB{N0f8}(0.608,0.506,0.651) RGB{N0f8}(0.267,0.133,0.271) … RGB{N0f8}(0.541,0.373,0.541) RGB{N0f8}(0.6,0.424,0.592); RGB{N0f8}(0.357,0.263,0.404) RGB{N0f8}(0.294,0.161,0.298) … RGB{N0f8}(0.169,0.012,0.157) RGB{N0f8}(0.29,0.125,0.275);;;; RGB{N0f8}(0.839,0.682,0.718) RGB{N0f8}(0.729,0.569,0.624) … RGB{N0f8}(0.808,0.62,0.784) RGB{N0f8}(0.467,0.255,0.451); RGB{N0f8}(0.769,0.596,0.663) RGB{N0f8}(0.616,0.439,0.518) … RGB{N0f8}(0.702,0.506,0.643) RGB{N0f8}(0.498,0.282,0.439); … ; RGB{N0f8}(0.906,0.706,0.835) RGB{N0f8}(0.812,0.612,0.733) … RGB{N0f8}(1.0,0.941,0.945) RGB{N0f8}(0.859,0.784,0.761); RGB{N0f8}(0.722,0.525,0.663) RGB{N0f8}(0.878,0.686,0.812) … RGB{N0f8}(0.851,0.769,0.749) RGB{N0f8}(1.0,0.937,0.882);;;; … ;;;; RGB{N0f8}(0.698,0.373,0.78) RGB{N0f8}(0.675,0.392,0.792) … RGB{N0f8}(0.643,0.31,0.678) RGB{N0f8}(0.725,0.388,0.776); RGB{N0f8}(0.686,0.384,0.784) RGB{N0f8}(0.569,0.31,0.702) … RGB{N0f8}(0.855,0.502,0.886) RGB{N0f8}(0.635,0.29,0.69); … ; RGB{N0f8}(0.682,0.306,0.729) RGB{N0f8}(0.592,0.231,0.659) … RGB{N0f8}(0.804,0.427,0.808) RGB{N0f8}(0.788,0.416,0.776); RGB{N0f8}(0.545,0.196,0.627) RGB{N0f8}(0.545,0.2,0.631) … RGB{N0f8}(0.769,0.373,0.733) RGB{N0f8}(0.773,0.388,0.729);;;; RGB{N0f8}(0.922,0.784,0.902) RGB{N0f8}(0.863,0.745,0.847) … RGB{N0f8}(0.89,0.894,0.914) RGB{N0f8}(0.89,0.894,0.914); RGB{N0f8}(0.925,0.788,0.914) RGB{N0f8}(0.871,0.753,0.863) … RGB{N0f8}(0.89,0.894,0.91) RGB{N0f8}(0.89,0.894,0.91); … ; RGB{N0f8}(0.341,0.263,0.4) RGB{N0f8}(0.835,0.706,0.882) … RGB{N0f8}(1.0,0.961,1.0) RGB{N0f8}(0.878,0.808,0.863); RGB{N0f8}(0.635,0.561,0.741) RGB{N0f8}(1.0,0.933,1.0) … RGB{N0f8}(0.98,0.918,0.961) RGB{N0f8}(0.729,0.647,0.706);;;; RGB{N0f8}(0.816,0.525,0.773) RGB{N0f8}(0.8,0.522,0.741) … RGB{N0f8}(0.353,0.173,0.561) RGB{N0f8}(0.388,0.173,0.573); RGB{N0f8}(0.737,0.463,0.749) RGB{N0f8}(0.804,0.541,0.804) … RGB{N0f8}(0.404,0.169,0.561) RGB{N0f8}(0.412,0.149,0.553); … ; RGB{N0f8}(0.671,0.482,0.686) RGB{N0f8}(0.996,0.761,1.0) … RGB{N0f8}(0.431,0.259,0.639) RGB{N0f8}(0.58,0.475,0.847); RGB{N0f8}(0.745,0.576,0.788) RGB{N0f8}(0.741,0.518,0.784) … RGB{N0f8}(0.345,0.157,0.545) RGB{N0f8}(0.51,0.384,0.765)], [0 0 … 1 1; 1 1 … 0 0])\n",
       " ([RGB{N0f8}(0.973,0.965,0.969) RGB{N0f8}(0.973,0.965,0.969) … RGB{N0f8}(1.0,0.953,0.953) RGB{N0f8}(1.0,0.957,0.957); RGB{N0f8}(0.973,0.965,0.969) RGB{N0f8}(0.973,0.965,0.969) … RGB{N0f8}(1.0,0.953,0.953) RGB{N0f8}(1.0,0.957,0.957); … ; RGB{N0f8}(0.969,0.965,0.957) RGB{N0f8}(0.969,0.965,0.957) … RGB{N0f8}(0.957,0.953,0.945) RGB{N0f8}(0.961,0.957,0.949); RGB{N0f8}(0.969,0.965,0.957) RGB{N0f8}(0.969,0.965,0.957) … RGB{N0f8}(0.941,0.937,0.929) RGB{N0f8}(0.976,0.973,0.965);;;; RGB{N0f8}(0.714,0.396,0.463) RGB{N0f8}(0.945,0.651,0.729) … RGB{N0f8}(0.227,0.067,0.224) RGB{N0f8}(0.196,0.059,0.224); RGB{N0f8}(0.741,0.455,0.533) RGB{N0f8}(0.843,0.569,0.663) … RGB{N0f8}(0.298,0.153,0.314) RGB{N0f8}(0.227,0.118,0.278); … ; RGB{N0f8}(0.882,0.675,0.753) RGB{N0f8}(1.0,0.808,0.886) … RGB{N0f8}(0.976,0.788,0.89) RGB{N0f8}(1.0,0.859,0.984); RGB{N0f8}(0.871,0.663,0.741) RGB{N0f8}(1.0,0.851,0.929) … RGB{N0f8}(0.8,0.604,0.71) RGB{N0f8}(0.545,0.376,0.494);;;; RGB{N0f8}(0.686,0.463,0.631) RGB{N0f8}(0.753,0.565,0.659) … RGB{N0f8}(0.392,0.259,0.459) RGB{N0f8}(0.373,0.224,0.416); RGB{N0f8}(0.525,0.298,0.486) RGB{N0f8}(0.769,0.576,0.694) … RGB{N0f8}(0.643,0.494,0.694) RGB{N0f8}(0.2,0.035,0.224); … ; RGB{N0f8}(0.702,0.514,0.663) RGB{N0f8}(0.847,0.651,0.788) … RGB{N0f8}(0.969,0.824,0.855) RGB{N0f8}(1.0,0.925,0.929); RGB{N0f8}(0.498,0.294,0.443) RGB{N0f8}(0.922,0.722,0.843) … RGB{N0f8}(0.918,0.776,0.792) RGB{N0f8}(0.804,0.671,0.663);;;; … ;;;; RGB{N0f8}(0.859,0.882,0.875) RGB{N0f8}(0.851,0.867,0.871) … RGB{N0f8}(0.898,0.863,0.882) RGB{N0f8}(0.898,0.863,0.882); RGB{N0f8}(0.929,0.886,0.918) RGB{N0f8}(0.902,0.855,0.894) … RGB{N0f8}(0.898,0.859,0.89) RGB{N0f8}(0.898,0.859,0.89); … ; RGB{N0f8}(0.878,0.867,0.902) RGB{N0f8}(0.878,0.867,0.902) … RGB{N0f8}(0.89,0.871,0.894) RGB{N0f8}(0.886,0.867,0.89); RGB{N0f8}(0.867,0.863,0.894) RGB{N0f8}(0.867,0.863,0.894) … RGB{N0f8}(0.89,0.871,0.894) RGB{N0f8}(0.886,0.867,0.89);;;; RGB{N0f8}(0.467,0.227,0.349) RGB{N0f8}(0.588,0.333,0.459) … RGB{N0f8}(0.851,0.608,0.706) RGB{N0f8}(0.996,0.741,0.827); RGB{N0f8}(0.439,0.204,0.337) RGB{N0f8}(0.58,0.341,0.475) … RGB{N0f8}(0.925,0.706,0.82) RGB{N0f8}(0.659,0.412,0.518); … ; RGB{N0f8}(0.153,0.059,0.184) RGB{N0f8}(0.157,0.063,0.188) … RGB{N0f8}(0.588,0.443,0.565) RGB{N0f8}(0.729,0.569,0.686); RGB{N0f8}(0.149,0.055,0.18) RGB{N0f8}(0.169,0.075,0.2) … RGB{N0f8}(0.259,0.082,0.196) RGB{N0f8}(0.325,0.133,0.251);;;; RGB{N0f8}(0.671,0.557,0.886) RGB{N0f8}(0.588,0.329,0.714) … RGB{N0f8}(0.525,0.267,0.545) RGB{N0f8}(0.8,0.51,0.812); RGB{N0f8}(0.518,0.412,0.729) RGB{N0f8}(0.729,0.478,0.859) … RGB{N0f8}(0.812,0.569,0.831) RGB{N0f8}(0.682,0.404,0.702); … ; RGB{N0f8}(0.906,0.69,0.918) RGB{N0f8}(0.639,0.384,0.651) … RGB{N0f8}(0.639,0.4,0.773) RGB{N0f8}(0.49,0.345,0.722); RGB{N0f8}(0.753,0.553,0.773) RGB{N0f8}(0.941,0.706,0.949) … RGB{N0f8}(0.925,0.671,1.0) RGB{N0f8}(0.475,0.325,0.714)], [1 1 … 1 0; 0 0 … 0 1])\n",
       " ([RGB{N0f8}(0.2,0.0,0.173) RGB{N0f8}(0.584,0.376,0.549) … RGB{N0f8}(0.173,0.016,0.153) RGB{N0f8}(0.333,0.161,0.298); RGB{N0f8}(0.318,0.145,0.286) RGB{N0f8}(0.914,0.741,0.871) … RGB{N0f8}(0.8,0.627,0.765) RGB{N0f8}(0.659,0.475,0.616); … ; RGB{N0f8}(0.627,0.404,0.573) RGB{N0f8}(0.337,0.129,0.302) … RGB{N0f8}(0.749,0.608,0.71) RGB{N0f8}(0.6,0.463,0.58); RGB{N0f8}(0.647,0.427,0.667) RGB{N0f8}(0.302,0.102,0.333) … RGB{N0f8}(0.388,0.247,0.349) RGB{N0f8}(0.784,0.651,0.757);;;; RGB{N0f8}(0.82,0.718,0.816) RGB{N0f8}(0.867,0.757,0.843) … RGB{N0f8}(0.843,0.667,0.757) RGB{N0f8}(0.776,0.612,0.698); RGB{N0f8}(0.906,0.761,0.89) RGB{N0f8}(0.678,0.537,0.647) … RGB{N0f8}(0.906,0.729,0.812) RGB{N0f8}(0.71,0.545,0.624); … ; RGB{N0f8}(0.263,0.059,0.208) RGB{N0f8}(0.404,0.224,0.369) … RGB{N0f8}(0.643,0.314,0.443) RGB{N0f8}(0.576,0.259,0.384); RGB{N0f8}(0.627,0.412,0.569) RGB{N0f8}(0.835,0.647,0.804) … RGB{N0f8}(0.804,0.431,0.549) RGB{N0f8}(0.784,0.416,0.522);;;; RGB{N0f8}(0.478,0.259,0.694) RGB{N0f8}(0.549,0.322,0.714) … RGB{N0f8}(0.933,0.91,0.949) RGB{N0f8}(0.933,0.91,0.949); RGB{N0f8}(0.392,0.173,0.569) RGB{N0f8}(0.729,0.498,0.859) … RGB{N0f8}(0.933,0.91,0.949) RGB{N0f8}(0.933,0.91,0.949); … ; RGB{N0f8}(0.918,0.898,0.922) RGB{N0f8}(0.918,0.914,0.933) … RGB{N0f8}(0.914,0.902,0.929) RGB{N0f8}(0.914,0.902,0.929); RGB{N0f8}(0.945,0.925,0.949) RGB{N0f8}(0.906,0.91,0.925) … RGB{N0f8}(0.914,0.902,0.929) RGB{N0f8}(0.914,0.902,0.929);;;; … ;;;; RGB{N0f8}(0.949,0.953,0.933) RGB{N0f8}(0.965,0.973,0.953) … RGB{N0f8}(0.824,0.671,0.741) RGB{N0f8}(0.706,0.537,0.616); RGB{N0f8}(1.0,0.984,1.0) RGB{N0f8}(0.929,0.894,0.906) … RGB{N0f8}(1.0,0.851,0.922) RGB{N0f8}(0.855,0.686,0.765); … ; RGB{N0f8}(0.945,0.945,0.937) RGB{N0f8}(0.945,0.945,0.937) … RGB{N0f8}(1.0,0.965,0.988) RGB{N0f8}(0.996,0.953,0.976); RGB{N0f8}(0.945,0.945,0.937) RGB{N0f8}(0.945,0.945,0.937) … RGB{N0f8}(0.722,0.655,0.678) RGB{N0f8}(0.694,0.651,0.675);;;; RGB{N0f8}(0.984,0.949,0.969) RGB{N0f8}(0.851,0.8,0.835) … RGB{N0f8}(0.894,0.835,0.863) RGB{N0f8}(1.0,0.961,0.976); RGB{N0f8}(1.0,0.992,1.0) RGB{N0f8}(1.0,0.965,0.984) … RGB{N0f8}(0.969,0.91,0.929) RGB{N0f8}(0.843,0.796,0.812); … ; RGB{N0f8}(0.749,0.482,0.627) RGB{N0f8}(0.651,0.412,0.573) … RGB{N0f8}(1.0,0.816,0.898) RGB{N0f8}(0.969,0.78,0.843); RGB{N0f8}(0.792,0.51,0.69) RGB{N0f8}(0.671,0.42,0.616) … RGB{N0f8}(0.749,0.557,0.639) RGB{N0f8}(0.867,0.678,0.741);;;; RGB{N0f8}(0.949,0.91,0.941) RGB{N0f8}(0.949,0.91,0.941) … RGB{N0f8}(0.949,0.937,0.965) RGB{N0f8}(0.937,0.925,0.969); RGB{N0f8}(0.941,0.914,0.941) RGB{N0f8}(0.941,0.914,0.941) … RGB{N0f8}(0.925,0.906,0.933) RGB{N0f8}(0.949,0.925,0.973); … ; RGB{N0f8}(0.957,0.894,0.894) RGB{N0f8}(0.988,0.949,0.953) … RGB{N0f8}(0.933,0.914,0.929) RGB{N0f8}(0.933,0.914,0.929); RGB{N0f8}(0.973,0.902,0.894) RGB{N0f8}(0.945,0.898,0.906) … RGB{N0f8}(0.933,0.914,0.929) RGB{N0f8}(0.933,0.914,0.929)], [1 1 … 1 1; 0 0 … 0 0])"
      ]
     },
     "execution_count": 57,
     "metadata": {},
     "output_type": "execute_result"
    }
   ],
   "source": [
    "batchsize = 128\n",
    "mb_idxs = partition(1:length(train_images), batchsize)\n",
    "train_set = [make_minibatch(train_images, df.label, i) for i in mb_idxs]"
   ]
  },
  {
   "cell_type": "code",
   "execution_count": 58,
   "metadata": {},
   "outputs": [
    {
     "ename": "LoadError",
     "evalue": "MethodError: objects of type Module are not callable",
     "output_type": "error",
     "traceback": [
      "MethodError: objects of type Module are not callable",
      "",
      "Stacktrace:",
      " [1] top-level scope",
      "   @ In[58]:1",
      " [2] eval",
      "   @ ./boot.jl:368 [inlined]",
      " [3] include_string(mapexpr::typeof(REPL.softscope), mod::Module, code::String, filename::String)",
      "   @ Base ./loading.jl:1428"
     ]
    }
   ],
   "source": [
    "model = Chain(\n",
    "        Conv((3, 3), 1=>32, pad=(1,1), relu),\n",
    "        MaxPool((3,3)),\n",
    "        Conv((3, 3), 32=>64, pad=(1,1), relu),\n",
    "        MaxPool((3,3)),\n",
    "        Conv((3, 3), 64=>128, pad=(1,1), relu),\n",
    "        MaxPool((3,3)),\n",
    "        flatten,\n",
    "        Dense(15488, 2),\n",
    "        softmax)"
   ]
  },
  {
   "cell_type": "code",
   "execution_count": null,
   "metadata": {},
   "outputs": [],
   "source": []
  },
  {
   "cell_type": "code",
   "execution_count": null,
   "metadata": {},
   "outputs": [],
   "source": []
  }
 ],
 "metadata": {
  "kernelspec": {
   "display_name": "Julia 1.8.2",
   "language": "julia",
   "name": "julia-1.8"
  },
  "language_info": {
   "file_extension": ".jl",
   "mimetype": "application/julia",
   "name": "julia",
   "version": "1.8.2"
  }
 },
 "nbformat": 4,
 "nbformat_minor": 2
}
